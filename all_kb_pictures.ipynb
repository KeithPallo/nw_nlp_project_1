{
 "cells": [
  {
   "cell_type": "code",
   "execution_count": 1,
   "metadata": {},
   "outputs": [],
   "source": [
    "import requests\n",
    "from collections import OrderedDict\n",
    "import pandas as pd"
   ]
  },
  {
   "cell_type": "code",
   "execution_count": 2,
   "metadata": {},
   "outputs": [],
   "source": [
    "# Order:\n",
    "\n",
    "# Movies\n",
    "# TV Series"
   ]
  },
  {
   "cell_type": "code",
   "execution_count": 26,
   "metadata": {},
   "outputs": [
    {
     "data": {
      "text/plain": [
       "(2946, 1)"
      ]
     },
     "execution_count": 26,
     "metadata": {},
     "output_type": "execute_result"
    }
   ],
   "source": [
    "# 2019 MOVIES\n",
    "\n",
    "url = 'https://query.wikidata.org/sparql'\n",
    "query = \"\"\"\n",
    "SELECT DISTINCT ?movieLabel\n",
    "WHERE {\n",
    "  ?movie wdt:P31 wd:Q11424;\n",
    "         wdt:P577 ?date;\n",
    "         wdt:P136 ?genre.\n",
    "  ?genre rdfs:label ?genreLabel.\n",
    "  BIND(str(YEAR(?date)) AS ?year)\n",
    "  FILTER((LANG(?genreLabel)) = \"en\")\n",
    "  FILTER (?date >= \"2017-00-00T00:00:00Z\"^^xsd:dateTime && ?date <= \"2019-00-00T00:00:00Z\"^^xsd:dateTime )\n",
    "  SERVICE wikibase:label { bd:serviceParam wikibase:language \"[AUTO_LANGUAGE],en\" . }\n",
    "}\n",
    "\"\"\"\n",
    "\n",
    "r_movie2019 = requests.get(url, params = {'format': 'json', 'query': query})\n",
    "data_movie2019 = r_movie2019.json()\n",
    "\n",
    "movies2019 = []\n",
    "for item in data_movie2019['results']['bindings']:\n",
    "    movies2019.append(OrderedDict(\n",
    "        {'movies': item['movieLabel']['value']}))\n",
    "df_movie2019 = pd.DataFrame(movies2019)\n",
    "movies2019_d = []\n",
    "for num in range(0,df_movie2019.shape[0]):\n",
    "    movies2019_d.append(df_movie2019.get_values()[num][0])\n",
    "\n",
    "df_movie2019.shape\n",
    "#movies2019_d\n"
   ]
  },
  {
   "cell_type": "code",
   "execution_count": 27,
   "metadata": {},
   "outputs": [
    {
     "data": {
      "text/plain": [
       "(6334, 1)"
      ]
     },
     "execution_count": 27,
     "metadata": {},
     "output_type": "execute_result"
    }
   ],
   "source": [
    "# 2018 MOVIES\n",
    "\n",
    "url = 'https://query.wikidata.org/sparql'\n",
    "query = \"\"\"\n",
    "SELECT DISTINCT ?movieLabel\n",
    "WHERE {\n",
    "  ?movie wdt:P31 wd:Q11424;\n",
    "         wdt:P577 ?date;\n",
    "         wdt:P136 ?genre.\n",
    "  ?genre rdfs:label ?genreLabel.\n",
    "  BIND(str(YEAR(?date)) AS ?year)\n",
    "  FILTER((LANG(?genreLabel)) = \"en\")\n",
    "  FILTER (?date >= \"2016-00-00T00:00:00Z\"^^xsd:dateTime && ?date <= \"2018-00-00T00:00:00Z\"^^xsd:dateTime )\n",
    "  SERVICE wikibase:label { bd:serviceParam wikibase:language \"[AUTO_LANGUAGE],en\" . }\n",
    "}\n",
    "\"\"\"\n",
    "\n",
    "r_movie2018 = requests.get(url, params = {'format': 'json', 'query': query})\n",
    "data_movie2018 = r_movie2018.json()\n",
    "\n",
    "movies2018 = []\n",
    "for item in data_movie2018['results']['bindings']:\n",
    "    movies2018.append(OrderedDict(\n",
    "        {'movies': item['movieLabel']['value']}))\n",
    "df_movie2018 = pd.DataFrame(movies2018)\n",
    "movies2018_d = []\n",
    "for num in range(0,df_movie2018.shape[0]):\n",
    "    movies2018_d.append(df_movie2018.get_values()[num][0])\n",
    "\n",
    "df_movie2018.shape\n",
    "#movies2018_d\n"
   ]
  },
  {
   "cell_type": "code",
   "execution_count": 28,
   "metadata": {},
   "outputs": [
    {
     "data": {
      "text/plain": [
       "(6639, 1)"
      ]
     },
     "execution_count": 28,
     "metadata": {},
     "output_type": "execute_result"
    }
   ],
   "source": [
    "# 2015 MOVIES\n",
    "\n",
    "url = 'https://query.wikidata.org/sparql'\n",
    "query = \"\"\"\n",
    "SELECT DISTINCT ?movieLabel\n",
    "WHERE {\n",
    "  ?movie wdt:P31 wd:Q11424;\n",
    "         wdt:P577 ?date;\n",
    "         wdt:P136 ?genre.\n",
    "  ?genre rdfs:label ?genreLabel.\n",
    "  BIND(str(YEAR(?date)) AS ?year)\n",
    "  FILTER((LANG(?genreLabel)) = \"en\")\n",
    "  FILTER (?date >= \"2013-00-00T00:00:00Z\"^^xsd:dateTime && ?date <= \"2015-00-00T00:00:00Z\"^^xsd:dateTime )\n",
    "  SERVICE wikibase:label { bd:serviceParam wikibase:language \"[AUTO_LANGUAGE],en\" . }\n",
    "}\n",
    "\"\"\"\n",
    "\n",
    "r_movie2015 = requests.get(url, params = {'format': 'json', 'query': query})\n",
    "data_movie2015 = r_movie2015.json()\n",
    "\n",
    "movies2015 = []\n",
    "for item in data_movie2015['results']['bindings']:\n",
    "    movies2015.append(OrderedDict(\n",
    "        {'movies': item['movieLabel']['value']}))\n",
    "df_movie2015 = pd.DataFrame(movies2015)\n",
    "movies2015_d = []\n",
    "for num in range(0,df_movie2015.shape[0]):\n",
    "    movies2015_d.append(df_movie2015.get_values()[num][0])\n",
    "\n",
    "df_movie2015.shape\n",
    "#movies2015_d\n"
   ]
  },
  {
   "cell_type": "code",
   "execution_count": 29,
   "metadata": {},
   "outputs": [
    {
     "data": {
      "text/plain": [
       "(6460, 1)"
      ]
     },
     "execution_count": 29,
     "metadata": {},
     "output_type": "execute_result"
    }
   ],
   "source": [
    "# 2013 MOVIES\n",
    "\n",
    "url = 'https://query.wikidata.org/sparql'\n",
    "query = \"\"\"\n",
    "SELECT DISTINCT ?movieLabel\n",
    "WHERE {\n",
    "  ?movie wdt:P31 wd:Q11424;\n",
    "         wdt:P577 ?date;\n",
    "         wdt:P136 ?genre.\n",
    "  ?genre rdfs:label ?genreLabel.\n",
    "  BIND(str(YEAR(?date)) AS ?year)\n",
    "  FILTER((LANG(?genreLabel)) = \"en\")\n",
    "  FILTER (?date >= \"2011-00-00T00:00:00Z\"^^xsd:dateTime && ?date <= \"2013-00-00T00:00:00Z\"^^xsd:dateTime )\n",
    "  SERVICE wikibase:label { bd:serviceParam wikibase:language \"[AUTO_LANGUAGE],en\" . }\n",
    "}\n",
    "\"\"\"\n",
    "\n",
    "r_movie2013 = requests.get(url, params = {'format': 'json', 'query': query})\n",
    "data_movie2013 = r_movie2013.json()\n",
    "\n",
    "movies2013 = []\n",
    "for item in data_movie2013['results']['bindings']:\n",
    "    movies2013.append(OrderedDict(\n",
    "        {'movies': item['movieLabel']['value']}))\n",
    "df_movie2013 = pd.DataFrame(movies2013)\n",
    "movies2013_d = []\n",
    "for num in range(0,df_movie2013.shape[0]):\n",
    "    movies2013_d.append(df_movie2013.get_values()[num][0])\n",
    "\n",
    "df_movie2013.shape\n",
    "#movies2013_d\n"
   ]
  },
  {
   "cell_type": "code",
   "execution_count": 30,
   "metadata": {},
   "outputs": [],
   "source": [
    "# TV SERIES\n",
    "\n",
    "# too complicated"
   ]
  },
  {
   "cell_type": "code",
   "execution_count": null,
   "metadata": {},
   "outputs": [],
   "source": []
  }
 ],
 "metadata": {
  "kernelspec": {
   "display_name": "Python 3",
   "language": "python",
   "name": "python3"
  },
  "language_info": {
   "codemirror_mode": {
    "name": "ipython",
    "version": 3
   },
   "file_extension": ".py",
   "mimetype": "text/x-python",
   "name": "python",
   "nbconvert_exporter": "python",
   "pygments_lexer": "ipython3",
   "version": "3.6.5"
  }
 },
 "nbformat": 4,
 "nbformat_minor": 2
}
