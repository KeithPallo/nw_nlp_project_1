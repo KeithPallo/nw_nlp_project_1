{
 "cells": [
  {
   "cell_type": "code",
   "execution_count": 496,
   "metadata": {},
   "outputs": [],
   "source": [
    "import pandas as pd\n",
    "import numpy as np\n",
    "\n",
    "import nltk\n",
    "from nltk.probability import FreqDist\n",
    "from nltk.tokenize import TweetTokenizer\n",
    "from nltk.corpus import stopwords\n",
    "\n",
    "import string\n",
    "import re"
   ]
  },
  {
   "cell_type": "code",
   "execution_count": 497,
   "metadata": {},
   "outputs": [],
   "source": [
    "data = pd.read_json('gg2013.json')\n",
    "data = pd.DataFrame(data)"
   ]
  },
  {
   "cell_type": "code",
   "execution_count": 498,
   "metadata": {},
   "outputs": [
    {
     "data": {
      "text/plain": [
       "\"def filter0(data):\\n    results = []\\n    \\n    for tweet in data['text']:\\n        if 'best' in tweet.lower():\\n            results.append(tweet)\\n            \\n    return results\""
      ]
     },
     "execution_count": 498,
     "metadata": {},
     "output_type": "execute_result"
    }
   ],
   "source": [
    "\"\"\"def filter0(data):\n",
    "    results = []\n",
    "    \n",
    "    for tweet in data['text']:\n",
    "        if 'best' in tweet.lower():\n",
    "            results.append(tweet)\n",
    "            \n",
    "    return results\"\"\""
   ]
  },
  {
   "cell_type": "code",
   "execution_count": 499,
   "metadata": {},
   "outputs": [],
   "source": [
    "def filter0(data):\n",
    "    results = []\n",
    "    \n",
    "    win = ['best']\n",
    "    \n",
    "    for tweet in data['text']:\n",
    "        if any(term in tweet.lower() for term in win):\n",
    "            results.append(tweet)\n",
    "            \n",
    "    return results"
   ]
  },
  {
   "cell_type": "code",
   "execution_count": 500,
   "metadata": {
    "scrolled": false
   },
   "outputs": [],
   "source": [
    "f0 = data['text'].values.tolist()"
   ]
  },
  {
   "cell_type": "code",
   "execution_count": 501,
   "metadata": {},
   "outputs": [
    {
     "name": "stdout",
     "output_type": "stream",
     "text": [
      "[\"JLo's dress! #eredcarpet #GoldenGlobes\", \"What's making Sofia Vergara's boobs stay like that? Magic? Witchcraft? #GoldenGlobes\", 'RT @FabSugar: Kerry Washington is EVERYTHING. Dying over her Miu Miu gown! @goldenglobes #goldenglobes http://t.co/3feH7MvO', 'Anne Hathaway has got me living. #GoldenGlobes', \"Jennifer Lopez's lace dress? Thoughts? #GoldenGlobes\", 'Podrán criticar a #Adele de su moda y su maniquere pero jamás podrán poner en tela de juicio su TALENTO! @eonline #GoldenGlobes #RedCarpet', 'US, Weakly #GoldenGlobes', 'RT @BillMc7: \"Wait. What\\'s that smell?!\" (everyone being interviewed by Al Roker) #GoldenGlobes', 'Hugh Jackman is so awesome!!! #goldenglobes', 'It was awkward. RT @hollywoodhwife: They cut to and then from JLo during the Ben Affleck interview.  #goldenglobes']\n"
     ]
    }
   ],
   "source": [
    "print(f0[:10])"
   ]
  },
  {
   "cell_type": "code",
   "execution_count": 502,
   "metadata": {},
   "outputs": [
    {
     "name": "stdout",
     "output_type": "stream",
     "text": [
      "174643\n"
     ]
    }
   ],
   "source": [
    "print(len(f0))"
   ]
  },
  {
   "cell_type": "code",
   "execution_count": 503,
   "metadata": {},
   "outputs": [],
   "source": [
    "def filter1(data, list1, list2):\n",
    "    result1 = []\n",
    "    result2 = []\n",
    "\n",
    "    for tweet in data:\n",
    "        if any(term in tweet.lower() for term in list1):\n",
    "            result1.append(tweet)\n",
    "        elif any(term in tweet.lower() for term in list2):\n",
    "            result2.append(tweet)\n",
    "            \n",
    "    return result1, result2"
   ]
  },
  {
   "cell_type": "code",
   "execution_count": 504,
   "metadata": {},
   "outputs": [],
   "source": [
    "movie = ['motion picture', 'movie', 'movies']\n",
    "tv = ['tv', 'television']\n",
    "\n",
    "f1_movie, f1_tv = filter1(f0, movie, tv)"
   ]
  },
  {
   "cell_type": "code",
   "execution_count": 505,
   "metadata": {
    "scrolled": true
   },
   "outputs": [
    {
     "name": "stdout",
     "output_type": "stream",
     "text": [
      "8462\n"
     ]
    }
   ],
   "source": [
    "print(len(f1_movie))"
   ]
  },
  {
   "cell_type": "code",
   "execution_count": 506,
   "metadata": {
    "scrolled": true
   },
   "outputs": [
    {
     "name": "stdout",
     "output_type": "stream",
     "text": [
      "6031\n"
     ]
    }
   ],
   "source": [
    "print(len(f1_tv))"
   ]
  },
  {
   "cell_type": "code",
   "execution_count": 507,
   "metadata": {},
   "outputs": [],
   "source": [
    "def filter2(data, list1):\n",
    "    result1 = []\n",
    "    result2 = []\n",
    "        \n",
    "    for tweet in data:\n",
    "        if any(term in tweet.lower() for term in list1):\n",
    "            result1.append(tweet)\n",
    "        else:\n",
    "            result2.append(tweet)\n",
    "            \n",
    "    return result1, result2"
   ]
  },
  {
   "cell_type": "code",
   "execution_count": 508,
   "metadata": {},
   "outputs": [],
   "source": [
    "actor = ['actor', 'actress', 'actors', 'actresses']\n",
    "f2_movie_actor, f2_movie_media = filter2(f1_movie, actor)"
   ]
  },
  {
   "cell_type": "code",
   "execution_count": 509,
   "metadata": {},
   "outputs": [
    {
     "name": "stdout",
     "output_type": "stream",
     "text": [
      "3292\n"
     ]
    }
   ],
   "source": [
    "print(len(f2_movie_actor))"
   ]
  },
  {
   "cell_type": "code",
   "execution_count": 510,
   "metadata": {
    "scrolled": true
   },
   "outputs": [
    {
     "name": "stdout",
     "output_type": "stream",
     "text": [
      "5170\n"
     ]
    }
   ],
   "source": [
    "print(len(f2_movie_media))"
   ]
  },
  {
   "cell_type": "code",
   "execution_count": 511,
   "metadata": {},
   "outputs": [],
   "source": [
    "f2_tv_actor, f2_tv_media = filter2(f1_tv, actor)"
   ]
  },
  {
   "cell_type": "code",
   "execution_count": 512,
   "metadata": {},
   "outputs": [
    {
     "name": "stdout",
     "output_type": "stream",
     "text": [
      "1538\n",
      "4493\n"
     ]
    }
   ],
   "source": [
    "print(len(f2_tv_actor))\n",
    "print(len(f2_tv_media))"
   ]
  },
  {
   "cell_type": "code",
   "execution_count": 513,
   "metadata": {
    "scrolled": true
   },
   "outputs": [],
   "source": [
    "f3_tv_actor, f3_tv_actress = filter1(f2_tv_actor, ['actor', 'actors'], ['actress', 'actresses'])"
   ]
  },
  {
   "cell_type": "code",
   "execution_count": 514,
   "metadata": {},
   "outputs": [
    {
     "name": "stdout",
     "output_type": "stream",
     "text": [
      "['RT @TheAdvocateMag: Modern Family is up for best TV comedy and whose Eric Stonestreet (who plays gay dad Cam) is up for best supporting actor. #GoldenGlobes', 'Christoph Waltz wins best supporting actor in Django Unchained\\nMaggie Smith wins best supporting TV actress in Downton Abbey\\n#GoldenGlobes', \"RT @hilaryduffelbag: if watching the golden globes didn't mean seeing hot actors there is a 991% it wouldn't be on my tv right now\", \"“@hilaryduffelbag: if watching the golden globes didn't mean seeing hot actors there is a 991% it wouldn't be on my tv right now”\", 'Follow The Anglophile Channel @AnglophileTV for the latest news on our favorite Brit Actors at the Golden Globes!', 'RT @goldenglobes: Best Television Series Actor - Drama - Damian Lewis (@Lewis_Damian) - Homeland (@SHO_Homeland) - #GoldenGlobes', 'RT @goldenglobes: Best Television Series Actor - Drama - Damian Lewis (@Lewis_Damian) - Homeland (@SHO_Homeland) - #GoldenGlobes', 'I want #SteveBuscemi to win #BestActor in a tv series drama #GoldenGlobes', \"Time for Best Actor TV Drama, starring a bunch of guys whose shows I don't watch. #GoldenGlobes\", 'RT @EonlineLatino: ¿Quién ganará como mejor actor para serie dramática de TV? #GoldenGlobes']\n",
      "820\n"
     ]
    }
   ],
   "source": [
    "print(f3_tv_actor[:10])\n",
    "print(len(f3_tv_actor))"
   ]
  },
  {
   "cell_type": "code",
   "execution_count": 515,
   "metadata": {},
   "outputs": [],
   "source": [
    "f3_movie_actor, f3_movie_actress = filter1(f2_movie_actor, ['actor', 'actors'], ['actress', 'actresses'])"
   ]
  },
  {
   "cell_type": "code",
   "execution_count": 516,
   "metadata": {},
   "outputs": [],
   "source": [
    "#f3_tv_actor, f3_tv_actress, f3_movie_actor, f3_movie_actress\n",
    "\n",
    "f4_movie_actor_supporting, f4_movie_actor_main = filter2(f3_movie_actor, ['supporting'])\n",
    "f4_movie_actress_supporting, f4_movie_actress_main = filter2(f3_movie_actress, ['supporting'])\n",
    "f4_tv_actor_supporting, f4_tv_actor_main = filter2(f3_tv_actor, ['supporting'])\n",
    "f4_tv_actress_supporting, f4_tv_actress_main = filter2(f3_tv_actress, ['supporting'])"
   ]
  },
  {
   "cell_type": "code",
   "execution_count": 536,
   "metadata": {},
   "outputs": [],
   "source": [
    "f5_movie_actor_main_drama, f5_tv_actor_main_musical_comedy = filter1(f4_movie_actor_main, ['drama'], ['musical', 'comedy'])\n",
    "f5_movie_actress_main_drama, f5_tv_actress_main_musical_comedy = filter1(f4_movie_actress_main, ['drama'], ['musical', 'comedy'])"
   ]
  },
  {
   "cell_type": "code",
   "execution_count": 518,
   "metadata": {},
   "outputs": [
    {
     "name": "stdout",
     "output_type": "stream",
     "text": [
      "341\n",
      "['RT @nytimesmovies: Best TV Actor, Drama: Damian Lewis http://t.co/YZAjPQ84 #goldenglobes', 'RT @filmdotcom: Best Lead Actor in a Movie (Drama): Hugh Jackman in \"Les Miserables\" #GoldenGlobes', 'Daniel Day-Lewis - Best Performance by an Actor in a Motion Picture - Drama', 'Best Actor in a Motion Picture – Drama: Daniel Day Lewis, Lincoln #GoldenGlobes', 'Best Actor, Motion Picture, Drama: Daniel Day-Lewis, \"Lincoln\" // LIVE BLOG: http://t.co/TshIFrYj #goldenglobes', 'Best actor in a motion picture drama goes to Daniel Day-Lewis #GoldenGlobes', 'Best Actor in a Motion Picture – Drama: Daniel Day-Lewis – Lincoln as Abraham Lincoln #GoldenGlobes', 'Best Actor (Motion Picture - Drama) - DANIEL DAY-LEWIS (Lincoln) #GoldenGlobes', '#GoldenGlobes: Best Actor, Motion Picture, Drama - Daniel Day Lewis', 'RT @goldenglobes: Best Actor in a Motion Picture - Drama - Daniel Day Lewis - Lincoln - #GoldenGlobes']\n"
     ]
    }
   ],
   "source": [
    "print(len(f5_movie_actor_main_drama))\n",
    "print(f5_movie_actor_main_drama[:10])"
   ]
  },
  {
   "cell_type": "code",
   "execution_count": 519,
   "metadata": {},
   "outputs": [],
   "source": [
    "def extractWinner(data, list1):\n",
    "    result = []\n",
    "    \n",
    "    tt = TweetTokenizer(strip_handles=True, reduce_len=True, preserve_case=True)\n",
    "\n",
    "    # strip stopwords, punctuation \n",
    "    punctuation = list(string.punctuation)\n",
    "    remove_terms = ['#goldenglobes', 'golden globes', '#goldenglobe', 'golden globe', 'goldenglobes', 'goldenglobe', 'rt']    \n",
    "    stop = punctuation + remove_terms + list1\n",
    "\n",
    "    for tweet in data:\n",
    "        tweet = re.sub(\"\\d+\", \"\", tweet) #strip nums\n",
    "        tweet = re.sub(r'http\\S+', '', tweet) #strip urls\n",
    "        tweet = re.sub(r'#\\S+', '', tweet) #strip hashtags\n",
    "        tweet = tt.tokenize(tweet) #tokenize\n",
    "        tweet = [term for term in tweet if term.lower() not in stop] #remove stop words\n",
    "        result.append(' '.join(tweet))\n",
    "        \n",
    "    #print(result)\n",
    "        \n",
    "    bgrams = [];\n",
    "\n",
    "    for tweet in result:\n",
    "        tweet = re.findall('([A-Z][a-z]+)', tweet)\n",
    "        if tweet:\n",
    "            bgrams += list(nltk.bigrams(tweet))\n",
    "        \n",
    "    fdist = nltk.FreqDist(bgrams)\n",
    "    \n",
    "    return fdist"
   ]
  },
  {
   "cell_type": "code",
   "execution_count": 520,
   "metadata": {
    "scrolled": true
   },
   "outputs": [
    {
     "name": "stdout",
     "output_type": "stream",
     "text": [
      "[(('Daniel', 'Day'), 332), (('Day', 'Lewis'), 332), (('Lewis', 'Lincoln'), 252), (('Congrats', 'Daniel'), 23), (('Lewis', 'Performance'), 22), (('Congratulations', 'Daniel'), 11), (('Lincoln', 'Congrats'), 8), (('Lincoln', 'Performance'), 4), (('Mr', 'President'), 3), (('President', 'Daniel'), 3)]\n"
     ]
    }
   ],
   "source": [
    "cleaned_f5_movie_actor_main_drama = extractWinner(f5_movie_actor_main_drama, ['motion', 'picture', 'actor', 'best', 'drama', 'movie'])\n",
    "print(cleaned_f5_movie_actor_main_drama.most_common(10))"
   ]
  },
  {
   "cell_type": "code",
   "execution_count": 521,
   "metadata": {},
   "outputs": [
    {
     "name": "stdout",
     "output_type": "stream",
     "text": [
      "[(('Hugh', 'Jackman'), 468), (('Jackman', 'Les'), 376), (('Les', 'Miserables'), 296), (('Les', 'Mis'), 102), (('Golden', 'Globe'), 28), (('Jackman', 'Golden'), 27), (('Globe', 'Les'), 27), (('Congrats', 'Hugh'), 15), (('Les', 'Miz'), 14), (('Way', 'Performance'), 4)]\n"
     ]
    }
   ],
   "source": [
    "cleaned_f5_movie_actor_main_musical_comedy = extractWinner(f5_movie_actor_main_musical_comedy, ['motion', 'picture', 'actor', 'best', 'movie', 'musical', 'comedy'])\n",
    "print(cleaned_f5_movie_actor_main_musical_comedy.most_common(10))"
   ]
  },
  {
   "cell_type": "code",
   "execution_count": 522,
   "metadata": {},
   "outputs": [
    {
     "name": "stdout",
     "output_type": "stream",
     "text": [
      "[(('Jessica', 'Chastain'), 291), (('Zero', 'Dark'), 253), (('Dark', 'Thirty'), 252), (('Chastain', 'Zero'), 250), (('Congrats', 'Jessica'), 14), (('Performance', 'Jessica'), 5), (('The', 'Jessica'), 4), (('Chastain', 'Golden'), 3), (('Golden', 'Globe'), 3), (('Globe', 'Zero'), 3)]\n"
     ]
    }
   ],
   "source": [
    "cleaned_f5_movie_actress_main_drama = extractWinner(f5_movie_actress_main_drama, ['motion', 'picture', 'actress', 'best', 'movie', 'drama'])\n",
    "print(cleaned_f5_movie_actress_main_drama.most_common(10))"
   ]
  },
  {
   "cell_type": "code",
   "execution_count": 523,
   "metadata": {},
   "outputs": [
    {
     "name": "stdout",
     "output_type": "stream",
     "text": [
      "[(('Jennifer', 'Lawrence'), 363), (('Silver', 'Linings'), 237), (('Linings', 'Playbook'), 237), (('Lawrence', 'Silver'), 232), (('Silver', 'Lining'), 8), (('Lining', 'Playbook'), 8), (('Meryl', 'Stunned'), 6), (('Stunned', 'Jennifer'), 6), (('Performance', 'By'), 3), (('By', 'An'), 3)]\n"
     ]
    }
   ],
   "source": [
    "cleaned_f5_movie_actress_main_musical_comedy = extractWinner(f5_movie_actress_main_musical_comedy, ['motion', 'picture', 'actress', 'best', 'movie', 'musical', 'comedy'])\n",
    "print(cleaned_f5_movie_actress_main_musical_comedy.most_common(10))"
   ]
  },
  {
   "cell_type": "code",
   "execution_count": 524,
   "metadata": {},
   "outputs": [
    {
     "name": "stdout",
     "output_type": "stream",
     "text": [
      "[(('Christoph', 'Waltz'), 272), (('Django', 'Unchained'), 250), (('Best', 'Christoph'), 247), (('Waltz', 'Django'), 232), (('Ed', 'Harris'), 38), (('Game', 'Change'), 32), (('Harris', 'Game'), 29), (('Waltz', 'Best'), 21), (('Best', 'Django'), 17), (('Best', 'Ed'), 17)]\n"
     ]
    }
   ],
   "source": [
    "cleaned_f4_movie_actor_supporting = extractWinner(f4_movie_actor_supporting, ['motion', 'picture', 'movie', 'supporting', 'actor', 'musical', 'comedy', 'drama'])\n",
    "print(cleaned_f4_movie_actor_supporting.most_common(10))"
   ]
  },
  {
   "cell_type": "code",
   "execution_count": 525,
   "metadata": {},
   "outputs": [
    {
     "name": "stdout",
     "output_type": "stream",
     "text": [
      "[(('Anne', 'Hathaway'), 665), (('Best', 'Anne'), 562), (('Hathaway', 'Les'), 557), (('Les', 'Miserables'), 415), (('Maggie', 'Smith'), 185), (('Les', 'Mis'), 174), (('Best', 'Series'), 160), (('Series', 'Miniseries'), 157), (('Miniseries', 'Maggie'), 150), (('Smith', 'Downtown'), 141)]\n"
     ]
    }
   ],
   "source": [
    "cleaned_f4_movie_actress_supporting = extractWinner(f4_movie_actress_supporting, ['motion', 'picture', 'movie', 'supporting', 'actress', 'musical', 'comedy', 'drama'])\n",
    "print(cleaned_f4_movie_actress_supporting.most_common(10))"
   ]
  },
  {
   "cell_type": "code",
   "execution_count": 526,
   "metadata": {},
   "outputs": [],
   "source": [
    "def filter3(data, list1, list2, list3):\n",
    "    result1 = []\n",
    "    result2 = []\n",
    "    result3 = []\n",
    "        \n",
    "    for tweet in data:\n",
    "        if any(term in tweet.lower() for term in list1):\n",
    "            result1.append(tweet)\n",
    "        elif any(term in tweet.lower() for term in list2):\n",
    "            result2.append(tweet)\n",
    "        elif any(term in tweet.lower() for term in list3):\n",
    "            result3.append(tweet)\n",
    "            \n",
    "    return result1, result2, result3"
   ]
  },
  {
   "cell_type": "code",
   "execution_count": 527,
   "metadata": {},
   "outputs": [],
   "source": [
    "f5_tv_actor_main_drama, f5_tv_actor_main_musical_comedy, f5_tv_actor_main_mini_film = filter3(f4_tv_actor_main, ['drama'], ['musical', 'comedy'], ['mini', 'miniseries', 'film', 'movie'])\n",
    "f5_tv_actress_main_drama, f5_tv_actress_main_musical_comedy, f5_tv_actress_main_mini_film = filter3(f4_tv_actress_main, ['drama'], ['musical', 'comedy'], ['mini', 'miniseries', 'film', 'movie'])"
   ]
  },
  {
   "cell_type": "code",
   "execution_count": 528,
   "metadata": {
    "scrolled": true
   },
   "outputs": [
    {
     "name": "stdout",
     "output_type": "stream",
     "text": [
      "[(('Damian', 'Lewis'), 245), (('Lewis', 'Homeland'), 179), (('Series', 'Damian'), 141), (('Damien', 'Lewis'), 39), (('Homeland', 'This'), 24), (('Felicitaciones', 'Damian'), 22), (('Series', 'Homeland'), 18), (('Lewis', 'Series'), 15), (('Congrats', 'Series'), 8), (('Golden', 'Globe'), 5)]\n"
     ]
    }
   ],
   "source": [
    "cleaned_f5_tv_actor_main_drama = extractWinner(f5_tv_actor_main_drama, ['tv', 'television', 'actor', 'best', 'drama'])\n",
    "print(cleaned_f5_tv_actor_main_drama.most_common(10))"
   ]
  },
  {
   "cell_type": "code",
   "execution_count": 529,
   "metadata": {},
   "outputs": [
    {
     "name": "stdout",
     "output_type": "stream",
     "text": [
      "[(('Claire', 'Danes'), 246), (('Danes', 'Homeland'), 155), (('Series', 'Claire'), 131), (('Homeland', 'She'), 44), (('She', 'Globe'), 42), (('Series', 'Homeland'), 19), (('Danes', 'Series'), 19), (('Congrats', 'Claire'), 8), (('Lea', 'Michele'), 5), (('As', 'Claire'), 5)]\n"
     ]
    }
   ],
   "source": [
    "cleaned_f5_tv_actress_main_drama = extractWinner(f5_tv_actress_main_drama, ['tv', 'television', 'actress', 'best', 'drama'])\n",
    "print(cleaned_f5_tv_actress_main_drama.most_common(10))"
   ]
  },
  {
   "cell_type": "code",
   "execution_count": 530,
   "metadata": {},
   "outputs": [
    {
     "name": "stdout",
     "output_type": "stream",
     "text": [
      "[(('Don', 'Cheadle'), 198), (('House', 'Lies'), 154), (('Cheadle', 'House'), 134), (('Series', 'Don'), 106), (('Series', 'House'), 21), (('Lies', 'The'), 21), (('Cheadle', 'Wins'), 18), (('Golden', 'Globe'), 18), (('No', 'Lie'), 16), (('Lie', 'Don'), 16)]\n"
     ]
    }
   ],
   "source": [
    "cleaned_f5_tv_actor_main_musical_comedy = extractWinner(f5_tv_actor_main_musical_comedy, ['tv', 'television', 'actor', 'best', 'musical', 'comedy'])\n",
    "print(cleaned_f5_tv_actor_main_musical_comedy.most_common(10))"
   ]
  },
  {
   "cell_type": "code",
   "execution_count": 531,
   "metadata": {},
   "outputs": [
    {
     "name": "stdout",
     "output_type": "stream",
     "text": [
      "[(('Lena', 'Dunham'), 220), (('Dunham', 'Girls'), 151), (('Series', 'Lena'), 68), (('Girls', 'Four'), 40), (('Four', 'Lena'), 39), (('You', 'Lena'), 39), (('Lena', 'You'), 38), (('Cheers', 'Series'), 15), (('Congratulations', 'Lena'), 14), (('You', 'Series'), 11)]\n"
     ]
    }
   ],
   "source": [
    "cleaned_f5_tv_actress_main_musical_comedy = extractWinner(f5_tv_actress_main_musical_comedy, ['tv', 'television', 'actress', 'best', 'musical', 'comedy'])\n",
    "print(cleaned_f5_tv_actress_main_musical_comedy.most_common(10))"
   ]
  },
  {
   "cell_type": "code",
   "execution_count": 532,
   "metadata": {},
   "outputs": [
    {
     "name": "stdout",
     "output_type": "stream",
     "text": [
      "[(('Kevin', 'Costner'), 30), (('Congrats', 'Kevin'), 18), (('Hatfields', 'Mc'), 16), (('Mc', 'Coys'), 16), (('Costner', 'Hatfields'), 15), (('Ed', 'Harris'), 13), (('Game', 'Change'), 11), (('Harris', 'Game'), 10), (('Mejor', 'Ed'), 7), (('Mejor', 'Kevin'), 6)]\n"
     ]
    }
   ],
   "source": [
    "cleaned_f5_tv_actor_main_mini_film = extractWinner(f5_tv_actor_main_mini_film, ['tv', 'television', 'actor', 'best', 'mini', 'series', 'miniseries', 'film'])\n",
    "print(cleaned_f5_tv_actor_main_mini_film.most_common(10))"
   ]
  },
  {
   "cell_type": "code",
   "execution_count": 533,
   "metadata": {},
   "outputs": [
    {
     "name": "stdout",
     "output_type": "stream",
     "text": [
      "[(('Julianne', 'Moore'), 2), (('Winner', 'Julianne'), 1), (('Moore', 'Game'), 1), (('Game', 'Change'), 1), (('Claire', 'Danes'), 1)]\n"
     ]
    }
   ],
   "source": [
    "cleaned_f5_tv_actress_main_mini_film = extractWinner(f5_tv_actress_main_mini_film, ['tv', 'television', 'actress', 'best', 'mini', 'series', 'miniseries', 'film'])\n",
    "print(cleaned_f5_tv_actress_main_mini_film.most_common(10))"
   ]
  },
  {
   "cell_type": "code",
   "execution_count": 534,
   "metadata": {
    "scrolled": true
   },
   "outputs": [
    {
     "name": "stdout",
     "output_type": "stream",
     "text": [
      "[(('Ed', 'Harris'), 89), (('Game', 'Change'), 79), (('Harris', 'Game'), 77), (('Series', 'Ed'), 66), (('Harris', 'Series'), 3), (('Winner', 'Series'), 3), (('Eric', 'Stonestreet'), 2), (('Christoph', 'Waltz'), 2), (('Piper', 'Laurie'), 2), (('Laurie', 'Twin'), 2)]\n"
     ]
    }
   ],
   "source": [
    "cleaned_f4_tv_actor_supporting = extractWinner(f4_tv_actor_supporting, ['tv', 'television', 'actor', 'best', 'supporting'])\n",
    "print(cleaned_f4_tv_actor_supporting.most_common(10))"
   ]
  },
  {
   "cell_type": "code",
   "execution_count": 535,
   "metadata": {},
   "outputs": [
    {
     "name": "stdout",
     "output_type": "stream",
     "text": [
      "[(('Maggie', 'Smith'), 134), (('Downton', 'Abbey'), 66), (('Smith', 'Downton'), 51), (('Smith', 'Golden'), 36), (('Golden', 'Globe'), 34), (('Dame', 'Maggie'), 31), (('Congratulations', 'Dame'), 25), (('Globe', 'Series'), 23), (('Performance', 'Role'), 9), (('Smith', 'Everyone'), 7)]\n"
     ]
    }
   ],
   "source": [
    "cleaned_f4_tv_actress_supporting = extractWinner(f4_tv_actress_supporting, ['tv', 'television', 'actress', 'best', 'supporting'])\n",
    "print(cleaned_f4_tv_actress_supporting.most_common(10))"
   ]
  }
 ],
 "metadata": {
  "kernelspec": {
   "display_name": "Python 3",
   "language": "python",
   "name": "python3"
  },
  "language_info": {
   "codemirror_mode": {
    "name": "ipython",
    "version": 3
   },
   "file_extension": ".py",
   "mimetype": "text/x-python",
   "name": "python",
   "nbconvert_exporter": "python",
   "pygments_lexer": "ipython3",
   "version": "3.7.0"
  }
 },
 "nbformat": 4,
 "nbformat_minor": 2
}
