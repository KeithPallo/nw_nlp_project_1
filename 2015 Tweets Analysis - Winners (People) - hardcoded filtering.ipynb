{
 "cells": [
  {
   "cell_type": "code",
   "execution_count": 1,
   "metadata": {},
   "outputs": [],
   "source": [
    "import pandas as pd\n",
    "import numpy as np\n",
    "\n",
    "import nltk\n",
    "from nltk.probability import FreqDist\n",
    "from nltk.tokenize import TweetTokenizer\n",
    "from nltk.corpus import stopwords\n",
    "\n",
    "import string\n",
    "import re\n",
    "from collections import Counter"
   ]
  },
  {
   "cell_type": "code",
   "execution_count": 2,
   "metadata": {},
   "outputs": [],
   "source": [
    "data = pd.read_json('gg2015.json')\n",
    "data = pd.DataFrame(data)"
   ]
  },
  {
   "cell_type": "code",
   "execution_count": 3,
   "metadata": {},
   "outputs": [],
   "source": [
    "data = data['text'].values.tolist()"
   ]
  },
  {
   "cell_type": "code",
   "execution_count": 4,
   "metadata": {},
   "outputs": [],
   "source": [
    "#print(data[:10])"
   ]
  },
  {
   "cell_type": "code",
   "execution_count": 5,
   "metadata": {},
   "outputs": [],
   "source": [
    "category_dict = {\n",
    "    'Best Motion Picture – Drama' :  ['best', 'drama', 'movie', 'motion', 'picture'], \n",
    "    'Best Motion Picture – Musical or Comedy' : ['best', 'movie', 'musical', 'comedy', 'motion', 'picture'],\n",
    "    'Best Motion Picture – Foreign Language' : ['best', 'foreign', 'language', 'motion', 'picture'],\n",
    "    'Best Motion Picture – Animated' : ['best', 'animated', 'motion', 'picture'],\n",
    "    'Best Director – Motion Picture' : ['best', 'director', 'motion', 'picture'],\n",
    "    'Best Actor – Motion Picture Drama' : ['best', 'drama', 'actor', 'motion', 'picture'],\n",
    "    'Best Actor – Motion Picture Musical or Comedy' : ['best', 'actor', 'musical', 'comedy', 'motion', 'picture'],\n",
    "    'Best Actress – Motion Picture Drama' : ['best', 'actress', 'drama', 'motion', 'picture'],\n",
    "    'Best Actress – Motion Picture Musical or Comedy' : ['best', 'musical', 'comedy', 'actress', 'motion', 'picture'],\n",
    "    'Best Supporting Actor – Motion Picture' : ['best', 'supporting', 'actor', 'motion', 'picture'],\n",
    "    'Best Supporting Actress – Motion Picture' : ['best', 'supporting', 'actress', 'motion', 'picture'],\n",
    "    'Best Screenplay – Motion Picture' : ['best', 'screenplay', 'motion', 'picture'],\n",
    "    'Best Original Score – Motion Picture' : ['best', 'original', 'score', 'motion', 'picture'],\n",
    "    'Best Original Song – Motion Picture' : ['best', 'original', 'song', 'motion', 'picture'],\n",
    "    'Cecil B. DeMille Award for Lifetime Achievement in Motion Pictures' : ['cecil', 'demille', 'lifetime', 'achievement'],\n",
    "    'Best Television Series – Drama' : ['best', 'television', 'tv', 'series', 'drama'],\n",
    "    'Best Television Series – Musical or Comedy' : ['best', 'television', 'tv', 'series', 'musical', 'comedy'],\n",
    "    'Best Miniseries or Television Film' : ['best', 'television', 'tv', 'film', 'miniseries'],\n",
    "    'Best Actor – Television Series Drama' : ['best', 'actor', 'television', 'drama'],\n",
    "    'Best Actor – Television Series Musical or Comedy' : ['best', 'actor', 'television', 'tv', 'musical', 'comedy'],\n",
    "    'Best Actor – Miniseries or Television Film' : ['best', 'actor', 'miniseries', 'television', 'film'],\n",
    "    'Best Actress – Television Series Drama' : ['best', 'actress', 'television', 'tv', 'drama'],\n",
    "    'Best Actress – Television Series Musical or Comedy' : ['best', 'actress', 'television', 'tv', 'musical', 'comedy'],\n",
    "    'Best Actress – Miniseries or Television Film' : ['best', 'actress', 'mini', 'miniseries', 'television', 'tv'], \n",
    "    'Best Supporting Actor – Series, Miniseries or Television Film' : ['best', 'supporting', 'actor', 'series', 'mini', 'miniseries', 'tv', 'television', 'film'], \n",
    "    'Best Supporting Actress – Series, Miniseries or Television Film' : ['best', 'supporting', 'actress', 'series', 'mini', 'miniseries', 'tv', 'television', 'film'], \n",
    "    'Carol Burnett Award for Achievement in Television' : ['carol', 'burnett', 'television', 'tv']\n",
    "}"
   ]
  },
  {
   "cell_type": "code",
   "execution_count": 11,
   "metadata": {},
   "outputs": [],
   "source": [
    "def filter0(data, list1):\n",
    "    result = []\n",
    "\n",
    "    for tweet in data:\n",
    "        if all(term in tweet.lower() for term in list1):\n",
    "            result.append(tweet)\n",
    "\n",
    "    return result"
   ]
  },
  {
   "cell_type": "code",
   "execution_count": 12,
   "metadata": {},
   "outputs": [],
   "source": [
    "def filter1(data, list1):\n",
    "    result1 = []\n",
    "    result2 = []\n",
    "\n",
    "    for tweet in data:\n",
    "        if any(term in tweet.lower() for term in list1):\n",
    "            result1.append(tweet)\n",
    "        elif all(term not in tweet.lower() for term in list1):\n",
    "            result2.append(tweet)\n",
    "\n",
    "    return result1, result2      "
   ]
  },
  {
   "cell_type": "code",
   "execution_count": 13,
   "metadata": {},
   "outputs": [],
   "source": [
    "def filter2(data, list1, list2):\n",
    "    result1 = []\n",
    "    result2 = []\n",
    "\n",
    "    for tweet in data:\n",
    "        if any(term in tweet.lower() for term in list1) and all(term not in tweet.lower() for term in list2):\n",
    "            result1.append(tweet)\n",
    "        elif any(term in tweet.lower() for term in list2) and all(term not in tweet.lower() for term in list1):\n",
    "            result2.append(tweet)\n",
    "            \n",
    "    return result1, result2"
   ]
  },
  {
   "cell_type": "code",
   "execution_count": 14,
   "metadata": {},
   "outputs": [],
   "source": [
    "def filter3(data, list1, list2, list3):\n",
    "    result1 = []\n",
    "    result2 = []\n",
    "    result3 = []\n",
    "        \n",
    "    for tweet in data:\n",
    "        if any(term in tweet.lower() for term in list1) and all(term not in tweet.lower() for term in list2) and all(term not in tweet.lower() for term in list3):\n",
    "            result1.append(tweet)\n",
    "        elif any(term in tweet.lower() for term in list2) and all(term not in tweet.lower() for term in list1) and all(term not in tweet.lower() for term in list3):\n",
    "            result2.append(tweet)\n",
    "        elif any(term in tweet.lower() for term in list3) and all(term not in tweet.lower() for term in list1) and all(term not in tweet.lower() for term in list2):\n",
    "            result3.append(tweet)\n",
    "            \n",
    "    return result1, result2, result3"
   ]
  },
  {
   "cell_type": "code",
   "execution_count": 19,
   "metadata": {
    "scrolled": true
   },
   "outputs": [],
   "source": [
    "def extractWinner(data, list1):\n",
    "    #print(data[0])\n",
    "    result = []\n",
    "    \n",
    "    tt = TweetTokenizer(strip_handles=True, reduce_len=True, preserve_case=True)\n",
    "    translator = str.maketrans('', '', string.punctuation)\n",
    "\n",
    "    # strip stopwords, punctuation \n",
    "    punctuation = list(string.punctuation)\n",
    "    remove_terms = ['#goldenglobes', 'golden globes', '#goldenglobe', 'golden globe', 'goldenglobes', 'goldenglobe', 'rt', 'golden', 'globe', 'globes']    \n",
    "    stop = remove_terms + list1\n",
    "    \n",
    "    for tweet in data:\n",
    "        #print(tweet)\n",
    "        tweet = re.sub(\"\\d+\", \"\", tweet) #strip nums\n",
    "        tweet = re.sub(r'http\\S+', '', tweet) #strip urls\n",
    "        tweet = re.sub(r'#\\S+', '', tweet) #strip hashtags\n",
    "        #tweet = re.sub(r'[^\\w\\s]', '', tweet) #strip non-alphanumeric characters\n",
    "        tweet = tweet.translate(translator)\n",
    "        tweet = tt.tokenize(tweet) #tokenize\n",
    "        tweet = [term for term in tweet if term.lower() not in stop] #remove stop words\n",
    "        result.append(tweet)\n",
    "        \n",
    "    #print(result[:20])\n",
    "        \n",
    "    bgrams = [];\n",
    "\n",
    "    for tweet in result:\n",
    "        if tweet:\n",
    "            bigram = list(nltk.bigrams(tweet))\n",
    "            #print(bigram[:10])\n",
    "            for bg in bigram:\n",
    "                if bool(re.match('([A-Z][a-z]+)', bg[0])) and bool(re.match('([A-Z][a-z]+)', bg[1])):\n",
    "                    #print(bg[0], bg[1])\n",
    "                    bgrams.append(bg)\n",
    "            #tweet = re.findall('([A-Z][a-z]+)', tweet)\n",
    "            #if tweet:\n",
    "                #bgrams += list(nltk.bigrams(tweet))\n",
    "  \n",
    "    fdist = nltk.FreqDist(bgrams)\n",
    "    #print(fdist)\n",
    "    \n",
    "    try:\n",
    "        temp = fdist.most_common(1)[0][0]\n",
    "        name = ' '.join(temp)\n",
    "    except:\n",
    "        name = \"nothing here\"\n",
    "    \n",
    "    return name"
   ]
  },
  {
   "cell_type": "code",
   "execution_count": 16,
   "metadata": {},
   "outputs": [],
   "source": [
    "def getActorWinners():\n",
    "    # layer 1 - divide people / media\n",
    "    people = ['actor', 'actress']\n",
    "    f1_people, f1_media = filter1(data, people)\n",
    "    \n",
    "    # layer 2 - divide actors+actresses / media\n",
    "    movie = ['motion picture', 'movie']\n",
    "    tv = ['tv', 'television']\n",
    "    f2_movie_people, f2_tv_people = filter2(f1_people, movie, tv)\n",
    "    f2_movie_media, f2_tv_media = filter2(f1_media, movie, tv)\n",
    "    \n",
    "    #layer 3 - divide actors / actresses\n",
    "    f3_tv_actor, f3_tv_actress = filter2(f2_tv_people, ['actor'], ['actress'])\n",
    "    f3_movie_actor, f3_movie_actress = filter2(f2_movie_people, ['actor'], ['actress'])\n",
    "     \n",
    "    # layer 4 - divide main / supporting actors\n",
    "    f4_movie_actor_supporting, f4_movie_actor_main = filter1(f3_movie_actor, ['supporting'])\n",
    "    f4_movie_actress_supporting, f4_movie_actress_main = filter1(f3_movie_actress, ['supporting'])\n",
    "    f4_tv_actor_supporting, f4_tv_actor_main = filter1(f3_tv_actor, ['supporting'])\n",
    "    f4_tv_actress_supporting, f4_tv_actress_main = filter1(f3_tv_actress, ['supporting'])\n",
    "    \n",
    "    # layer 5.1 - for main movie actors, divide drama / comedy or musical\n",
    "    f5_movie_actor_main_drama, f5_movie_actor_main_musical_comedy = filter2(f4_movie_actor_main, ['drama'], ['musical', 'comedy'])\n",
    "    f5_movie_actress_main_drama, f5_movie_actress_main_musical_comedy = filter2(f4_movie_actress_main, ['drama'], ['musical', 'comedy'])\n",
    "    \n",
    "    # layer 5.2 - for main tv actors, divide drama / comedy or musical / miniseries or film\n",
    "    f5_tv_actor_main_drama, f5_tv_actor_main_musical_comedy, f5_tv_actor_main_mini_film = filter3(f4_tv_actor_main, ['drama'], ['musical', 'comedy'], ['miniseries', 'film', 'movie'])\n",
    "    f5_tv_actress_main_drama, f5_tv_actress_main_musical_comedy, f5_tv_actress_main_mini_film = filter3(f4_tv_actress_main, ['drama'], ['musical', 'comedy'], ['miniseries', 'film', 'movie'])\n",
    "    \n",
    "    director = filter0(data, ['director'])\n",
    "    screenplay = filter0(data, ['screenplay'])\n",
    "    original_score = filter0(data, ['original', 'score'])\n",
    "    cecil_demille = filter0(data, ['cecil', 'demille'])\n",
    "    #carol_burnett = filter0(f1_people, ['carol', 'burnett'])\n",
    "    \n",
    "    winners = {\n",
    "        'Best Actor – Motion Picture Drama' : extractWinner(f5_movie_actor_main_drama, category_dict['Best Actor – Motion Picture Drama']),\n",
    "        'Best Actor – Motion Picture Musical or Comedy' : extractWinner(f5_movie_actor_main_musical_comedy, category_dict['Best Actor – Motion Picture Musical or Comedy']),\n",
    "        'Best Actress – Motion Picture Drama' : extractWinner(f5_movie_actress_main_drama, category_dict['Best Actress – Motion Picture Drama']),\n",
    "        'Best Actress – Motion Picture Musical or Comedy' : extractWinner(f5_movie_actress_main_musical_comedy, category_dict['Best Actress – Motion Picture Musical or Comedy']),\n",
    "        'Best Supporting Actor – Motion Picture' : extractWinner(f4_movie_actor_supporting, category_dict['Best Supporting Actor – Motion Picture']),\n",
    "        'Best Supporting Actress – Motion Picture' : extractWinner(f4_movie_actress_supporting, category_dict['Best Supporting Actress – Motion Picture']),\n",
    "        'Best Actor – Television Series Drama' : extractWinner(f5_tv_actor_main_drama, category_dict['Best Actor – Television Series Drama']),\n",
    "        'Best Actor – Television Series Musical or Comedy' : extractWinner(f5_tv_actor_main_musical_comedy, category_dict['Best Actor – Television Series Musical or Comedy']),\n",
    "        'Best Actor – Miniseries or Television Film' : extractWinner(f5_tv_actor_main_mini_film, category_dict['Best Actor – Miniseries or Television Film']),\n",
    "        'Best Actress – Television Series Drama' : extractWinner(f5_tv_actress_main_drama, category_dict['Best Actress – Television Series Drama']),\n",
    "        'Best Actress – Television Series Musical or Comedy' : extractWinner(f5_tv_actress_main_musical_comedy, category_dict['Best Actress – Television Series Musical or Comedy']),\n",
    "        'Best Actress – Miniseries or Television Film' : extractWinner(f5_tv_actress_main_mini_film, category_dict['Best Actress – Miniseries or Television Film']), \n",
    "        'Best Supporting Actor – Series, Miniseries or Television Film' : extractWinner(f4_tv_actor_supporting, category_dict['Best Supporting Actor – Series, Miniseries or Television Film']), \n",
    "        'Best Supporting Actress – Series, Miniseries or Television Film' : extractWinner(f4_tv_actress_supporting, category_dict['Best Supporting Actress – Series, Miniseries or Television Film']),\n",
    "        'Best Director – Motion Picture' : extractWinner(director, category_dict['Best Director – Motion Picture']),\n",
    "        'Best Screenplay – Motion Picture' : extractWinner(screenplay, category_dict['Best Screenplay – Motion Picture']),\n",
    "        'Best Original Score – Motion Picture' : extractWinner(original_score, category_dict['Best Original Score – Motion Picture']),\n",
    "        'Cecil B. DeMille Award for Lifetime Achievement in Motion Pictures' : extractWinner(cecil_demille, category_dict['Cecil B. DeMille Award for Lifetime Achievement in Motion Pictures'])\n",
    "    }\n",
    "    \n",
    "    return winners\n",
    "    "
   ]
  },
  {
   "cell_type": "code",
   "execution_count": 17,
   "metadata": {
    "scrolled": true
   },
   "outputs": [
    {
     "name": "stdout",
     "output_type": "stream",
     "text": [
      "31.157688902000004\n"
     ]
    }
   ],
   "source": [
    "import timeit\n",
    "start_time = timeit.default_timer()\n",
    "getActorWinners()\n",
    "elapsed = timeit.default_timer() - start_time\n",
    "print(elapsed)"
   ]
  },
  {
   "cell_type": "code",
   "execution_count": 20,
   "metadata": {},
   "outputs": [
    {
     "data": {
      "text/plain": [
       "{'Best Actor – Motion Picture Drama': 'The Theory',\n",
       " 'Best Actor – Motion Picture Musical or Comedy': 'Michael Keaton',\n",
       " 'Best Actress – Motion Picture Drama': 'Julianne Moore',\n",
       " 'Best Actress – Motion Picture Musical or Comedy': 'Amy Adams',\n",
       " 'Best Supporting Actor – Motion Picture': 'Simmons Whiplash',\n",
       " 'Best Supporting Actress – Motion Picture': 'Patricia Arquette',\n",
       " 'Best Actor – Television Series Drama': 'Kevin Spacey',\n",
       " 'Best Actor – Television Series Musical or Comedy': 'Jeffrey Tambor',\n",
       " 'Best Actor – Miniseries or Television Film': 'Billy Bob',\n",
       " 'Best Actress – Television Series Drama': 'Ruth Wilson',\n",
       " 'Best Actress – Television Series Musical or Comedy': 'Gina Rodriguez',\n",
       " 'Best Actress – Miniseries or Television Film': 'Maggie Gyllenhaal',\n",
       " 'Best Supporting Actor – Series, Miniseries or Television Film': 'Matt Bomer',\n",
       " 'Best Supporting Actress – Series, Miniseries or Television Film': 'Joanne Froggatt',\n",
       " 'Best Director – Motion Picture': 'Richard Linklater',\n",
       " 'Best Screenplay – Motion Picture': 'Alexander Dinelaris',\n",
       " 'Best Original Score – Motion Picture': 'The Theory',\n",
       " 'Cecil B. DeMille Award for Lifetime Achievement in Motion Pictures': 'George Clooney'}"
      ]
     },
     "execution_count": 20,
     "metadata": {},
     "output_type": "execute_result"
    }
   ],
   "source": [
    "getActorWinners()"
   ]
  }
 ],
 "metadata": {
  "kernelspec": {
   "display_name": "Python 3",
   "language": "python",
   "name": "python3"
  },
  "language_info": {
   "codemirror_mode": {
    "name": "ipython",
    "version": 3
   },
   "file_extension": ".py",
   "mimetype": "text/x-python",
   "name": "python",
   "nbconvert_exporter": "python",
   "pygments_lexer": "ipython3",
   "version": "3.7.0"
  }
 },
 "nbformat": 4,
 "nbformat_minor": 2
}
