{
 "cells": [
  {
   "cell_type": "code",
   "execution_count": 3,
   "metadata": {
    "scrolled": true
   },
   "outputs": [],
   "source": [
    "import pandas as pd\n",
    "import numpy as np\n",
    "\n",
    "import nltk\n",
    "from nltk.probability import FreqDist\n",
    "from nltk.tokenize import TweetTokenizer\n",
    "from nltk.tokenize import sent_tokenize\n",
    "from nltk.corpus import stopwords\n",
    "\n",
    "import string\n",
    "import math\n",
    "import re\n",
    "from collections import Counter"
   ]
  },
  {
   "cell_type": "code",
   "execution_count": 4,
   "metadata": {},
   "outputs": [],
   "source": [
    "data = pd.read_json('gg2013.json')"
   ]
  },
  {
   "cell_type": "code",
   "execution_count": 5,
   "metadata": {},
   "outputs": [],
   "source": [
    "data_df = pd.DataFrame(data)"
   ]
  },
  {
   "cell_type": "code",
   "execution_count": 6,
   "metadata": {
    "scrolled": true
   },
   "outputs": [
    {
     "name": "stdout",
     "output_type": "stream",
     "text": [
      "                    id                                               text  \\\n",
      "0   290620657987887104             JLo's dress! #eredcarpet #GoldenGlobes   \n",
      "1   290620657887219713  What's making Sofia Vergara's boobs stay like ...   \n",
      "2   290620657828524032  RT @FabSugar: Kerry Washington is EVERYTHING. ...   \n",
      "3   290620657799159809     Anne Hathaway has got me living. #GoldenGlobes   \n",
      "4   290620657778188288  Jennifer Lopez's lace dress? Thoughts? #Golden...   \n",
      "5   290620657719455745  Podrán criticar a #Adele de su moda y su maniq...   \n",
      "6   290620657715273728                           US, Weakly #GoldenGlobes   \n",
      "7   290620657715253248  RT @BillMc7: \"Wait. What's that smell?!\" (ever...   \n",
      "8   290620657706872832        Hugh Jackman is so awesome!!! #goldenglobes   \n",
      "9   290620657560084480  It was awkward. RT @hollywoodhwife: They cut t...   \n",
      "10  290620657551671297                    hellen mirren *O* #goldenglobes   \n",
      "11  290620657526505475  Jennifer Lopez's dress is jaw droppingly amazi...   \n",
      "12  290620657316794368  Jessica Alba is absolutely flawless, omg❤ #red...   \n",
      "13  290620657274855424  Werk @kerrywashington Stunning!!! #GoldenGlobe...   \n",
      "14  290620657232908289  Sofia Vergara este bueno ella es Sofia Vergara...   \n",
      "15  290620657178378240  “@amsdiva: Kate Hudson's smile is as infectiou...   \n",
      "16  290620657170014208  Why did I just flip out? Because one of the be...   \n",
      "17  290620657161613313  What's up with this I'm wearing lace/a tattoo ...   \n",
      "18  290620657157406720  Hugh Jackman is looking a bit too bronzed. Ora...   \n",
      "19  290620656972869632  RT @AudrinaPatridge: @SofiaVergara is my favor...   \n",
      "20  290620656951914497  Who's that teenage boy standing behind Jessica...   \n",
      "21  290620656943509505  Poor Al Roker. He is just too easy a target. #...   \n",
      "22  290620656834453504  #SofiaVergara is gorgeous. Loved her dress.  #...   \n",
      "23  290620656683462656  mi programa de domingo a la noche va a ser ver...   \n",
      "24  290620656461168640  RT @Chrishell7: If all these beautiful actress...   \n",
      "25  290620656456982528  My Baby Leo DiCaprio.aaaaaah estava esperando ...   \n",
      "26  290620656394051584      Kerry Washington is perfect!!!! #GoldenGlobes   \n",
      "27  290620656314351616  It should be illegal to look as good as Ewan M...   \n",
      "28  290620656276631552  .@kerrywashington's nude &amp; sheer = yes. Je...   \n",
      "29  290620656209498112  Ok the moms are shutting it down tonight! Just...   \n",
      "30  290620655844589569  When I grow up, I want to be Dame Helen Mirren...   \n",
      "31  290620655840403459       Miu Miu!! yes @kerrywashington #goldenGlobes   \n",
      "32  290620655811051521  @CarinesBridal @goldenglobes actually that cor...   \n",
      "33  290620655806861312  Kerry Washington has been killing it lately! L...   \n",
      "34  290620655739752451  Natalie Morales is gorgeous, but don't like th...   \n",
      "35  290620655647477760  They are ruining the red carpet...“@PaulaEdgar...   \n",
      "36  290620655634874369  Kerry Washington looks fabulous!! #ERedCarpet ...   \n",
      "37  290620655534235648  Black dresses with Plunging v necklines and hi...   \n",
      "38  290620655450337280  I'm seeing alot of black in the red carpet ton...   \n",
      "39  290620655446159360          @goldenglobes Saw George Clooney..:-) :-)   \n",
      "40  290620655395827713  J.Lo needs to stop! #fashionmess #GoldenGlobes...   \n",
      "41  290620655240613889  Julianna Rancic standing next to short men, Ry...   \n",
      "42  290620655236444162  RT @Forever21: Oh, Adele. Takes our #heart eve...   \n",
      "43  290620655202861056          Um... mani cam? That's new. #GoldenGlobes   \n",
      "44  290620655190298625  RT @CondensadorFL: Llega el futuro ganador del...   \n",
      "45  290620662098296832  Kerry Washington is totally showing J.Lo how y...   \n",
      "46  290620662047977472  @whitbyfoodie Yay another Hamm fan. #goldenglo...   \n",
      "47  290620662043779072  Seacrest asked what Ben Affleck's kids wrote o...   \n",
      "48  290620661964095488  Definetely Kate's top designers are present in...   \n",
      "49  290620661959888896  RT @Loki_Page: #GoldenGlobes Times! We wish go...   \n",
      "\n",
      "          timestamp_ms                                               user  \n",
      "0  2013-01-14 00:45:38      {'screen_name': 'Dozaaa_xo', 'id': 557374298}  \n",
      "1  2013-01-14 00:45:38    {'screen_name': 'theAmberShow', 'id': 14648726}  \n",
      "2  2013-01-14 00:45:38        {'screen_name': 'SweetyPW', 'id': 35498686}  \n",
      "3  2013-01-14 00:45:38  {'screen_name': '_NicoleEdwards', 'id': 144430...  \n",
      "4  2013-01-14 00:45:38  {'screen_name': 'lolaogunnaike', 'id': 134953223}  \n",
      "5  2013-01-14 00:45:38     {'screen_name': 'SabyOnford', 'id': 404554221}  \n",
      "6  2013-01-14 00:45:38  {'screen_name': 'alejandraoleary', 'id': 45748...  \n",
      "7  2013-01-14 00:45:38    {'screen_name': 'xtinavickers', 'id': 92139052}  \n",
      "8  2013-01-14 00:45:38        {'screen_name': 'Boaz_173', 'id': 31504713}  \n",
      "9  2013-01-14 00:45:38    {'screen_name': 'KateSpencer1', 'id': 21571382}  \n",
      "10 2013-01-14 00:45:38     {'screen_name': 'ItsBlerena', 'id': 359715651}  \n",
      "11 2013-01-14 00:45:38  {'screen_name': 'noirlashlounge', 'id': 21706403}  \n",
      "12 2013-01-14 00:45:38    {'screen_name': '_VickiAnne_', 'id': 371344639}  \n",
      "13 2013-01-14 00:45:38   {'screen_name': 'LisaFranceCNN', 'id': 52752875}  \n",
      "14 2013-01-14 00:45:38   {'screen_name': 'OrsiniRobert', 'id': 750218220}  \n",
      "15 2013-01-14 00:45:38     {'screen_name': 'PhilToochi', 'id': 285620930}  \n",
      "16 2013-01-14 00:45:38  {'screen_name': 'mo_JOE_marino', 'id': 286809109}  \n",
      "17 2013-01-14 00:45:38   {'screen_name': 'RachelTRAFFIC', 'id': 30718025}  \n",
      "18 2013-01-14 00:45:38        {'screen_name': 'NolaBeth', 'id': 18909973}  \n",
      "19 2013-01-14 00:45:38  {'screen_name': 'melissapenagos', 'id': 178463...  \n",
      "20 2013-01-14 00:45:38      {'screen_name': 'mylifeslap', 'id': 19845495}  \n",
      "21 2013-01-14 00:45:38    {'screen_name': 'ronaldfsuber', 'id': 60428693}  \n",
      "22 2013-01-14 00:45:38     {'screen_name': 'ErickaWoode', 'id': 15087056}  \n",
      "23 2013-01-14 00:45:38      {'screen_name': 'paligomez', 'id': 137765371}  \n",
      "24 2013-01-14 00:45:38     {'screen_name': 'panthergrrl', 'id': 14095512}  \n",
      "25 2013-01-14 00:45:38         {'screen_name': 'TVDPLL', 'id': 175201062}  \n",
      "26 2013-01-14 00:45:38  {'screen_name': 'FringePhalanges', 'id': 32439...  \n",
      "27 2013-01-14 00:45:38   {'screen_name': 'ACaryGrantFan', 'id': 71066469}  \n",
      "28 2013-01-14 00:45:38  {'screen_name': 'OnScreenStyle', 'id': 818609779}  \n",
      "29 2013-01-14 00:45:38      {'screen_name': 'BabyShopa', 'id': 275043891}  \n",
      "30 2013-01-14 00:45:38     {'screen_name': 'HelloKit86', 'id': 130180869}  \n",
      "31 2013-01-14 00:45:38  {'screen_name': 'LovelleEbonie', 'id': 458714198}  \n",
      "32 2013-01-14 00:45:38    {'screen_name': 'ave42designs', 'id': 85446128}  \n",
      "33 2013-01-14 00:45:38     {'screen_name': 'styleblogca', 'id': 45485382}  \n",
      "34 2013-01-14 00:45:38  {'screen_name': 'ReadyDressedGo', 'id': 598418...  \n",
      "35 2013-01-14 00:45:38        {'screen_name': 'akamami', 'id': 273066222}  \n",
      "36 2013-01-14 00:45:38           {'screen_name': 'R_Tho', 'id': 22544632}  \n",
      "37 2013-01-14 00:45:38    {'screen_name': 'JanetScanlon', 'id': 29192300}  \n",
      "38 2013-01-14 00:45:38   {'screen_name': 'Olaffy_Taffy', 'id': 150255062}  \n",
      "39 2013-01-14 00:45:38     {'screen_name': 'staffzen43', 'id': 208822685}  \n",
      "40 2013-01-14 00:45:38       {'screen_name': 'Stylebylu', 'id': 49748681}  \n",
      "41 2013-01-14 00:45:38    {'screen_name': 'SandraBrujis', 'id': 34423583}  \n",
      "42 2013-01-14 00:45:38  {'screen_name': 'JayneGWilson26', 'id': 411191...  \n",
      "43 2013-01-14 00:45:38       {'screen_name': 'ashbursey', 'id': 28364916}  \n",
      "44 2013-01-14 00:45:38     {'screen_name': 'Funmagic99', 'id': 240358866}  \n",
      "45 2013-01-14 00:45:39    {'screen_name': 'LoganLevkoff', 'id': 47797835}  \n",
      "46 2013-01-14 00:45:39    {'screen_name': 'moniquebeech', 'id': 20459342}  \n",
      "47 2013-01-14 00:45:39     {'screen_name': 'StaceyWOMC', 'id': 518510715}  \n",
      "48 2013-01-14 00:45:39  {'screen_name': 'HRHkateaddict', 'id': 974729437}  \n",
      "49 2013-01-14 00:45:39     {'screen_name': 'QueenF1989', 'id': 117283451}  \n"
     ]
    }
   ],
   "source": [
    "print(data.head(50))"
   ]
  },
  {
   "cell_type": "code",
   "execution_count": 7,
   "metadata": {},
   "outputs": [],
   "source": [
    "# return cleaned Tweet as string\n",
    "# remove stopwords, user handles, punctuation, urls\n",
    "\n",
    "def cleanTweets(tweet):\n",
    "    tt = TweetTokenizer(strip_handles=True, reduce_len=True, preserve_case=True)\n",
    "\n",
    "    punctuation = list(string.punctuation)\n",
    "    \n",
    "    # strip stopwords, punctuation, url components \n",
    "    stop = stopwords.words('english') + punctuation + ['t.co', 'http', 'https', '...', '..', ':\\\\', 'RT', '#']\n",
    "\n",
    "    strip_nums = re.sub(\"\\d+\", \"\", tweet)\n",
    "    tokenized = tt.tokenize(strip_nums)\n",
    "    terms_stop = [term for term in tokenized if term not in stop]\n",
    "    cleaned = [term for term in terms_stop]\n",
    "    cleaned = ' '.join(cleaned)\n",
    "    \n",
    "    return cleaned"
   ]
  },
  {
   "cell_type": "code",
   "execution_count": 8,
   "metadata": {
    "scrolled": true
   },
   "outputs": [],
   "source": [
    "data['text'] = data['text'].map(cleanTweets)"
   ]
  },
  {
   "cell_type": "code",
   "execution_count": 9,
   "metadata": {
    "scrolled": false
   },
   "outputs": [
    {
     "name": "stdout",
     "output_type": "stream",
     "text": [
      "0                JLo's dress #eredcarpet #GoldenGlobes\n",
      "1    What's making Sofia Vergara's boobs stay like ...\n",
      "2    Kerry Washington EVERYTHING Dying Miu Miu gown...\n",
      "3               Anne Hathaway got living #GoldenGlobes\n",
      "4    Jennifer Lopez's lace dress Thoughts #GoldenGl...\n",
      "Name: text, dtype: object\n"
     ]
    }
   ],
   "source": [
    "print(data['text'].head())"
   ]
  },
  {
   "cell_type": "code",
   "execution_count": 13,
   "metadata": {
    "scrolled": true
   },
   "outputs": [
    {
     "name": "stdout",
     "output_type": "stream",
     "text": [
      "[(('Tina', 'Fey'), 3660), (('Amy', 'Poehler'), 3516), (('Fey', 'Amy'), 2646), (('Tina', 'Amy'), 2262), (('Poehler', 'Tina'), 840), (('Amy', 'Tina'), 804), (('Will', 'Ferrell'), 696), (('Kristen', 'Wiig'), 666), (('Can', 'Tina'), 522), (('Ferrell', 'Kristen'), 462)]\n"
     ]
    }
   ],
   "source": [
    "print(findHosts(data))"
   ]
  }
 ],
 "metadata": {
  "kernelspec": {
   "display_name": "Python 3",
   "language": "python",
   "name": "python3"
  },
  "language_info": {
   "codemirror_mode": {
    "name": "ipython",
    "version": 3
   },
   "file_extension": ".py",
   "mimetype": "text/x-python",
   "name": "python",
   "nbconvert_exporter": "python",
   "pygments_lexer": "ipython3",
   "version": "3.7.0"
  }
 },
 "nbformat": 4,
 "nbformat_minor": 2
}
