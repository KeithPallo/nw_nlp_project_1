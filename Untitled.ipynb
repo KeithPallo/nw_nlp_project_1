{
 "cells": [
  {
   "cell_type": "code",
   "execution_count": 2,
   "metadata": {},
   "outputs": [],
   "source": [
    "import pandas as pd\n",
    "import numpy as np\n",
    " \n",
    "import nltk\n",
    "from nltk.probability import FreqDist\n",
    "from nltk.tokenize import TweetTokenizer\n",
    "from nltk.tokenize import sent_tokenize\n",
    "from nltk.corpus import stopwords\n",
    "\n",
    "import string\n",
    "import math\n",
    "import re\n",
    "from collections import Counter "
   ]
  },
  {
   "cell_type": "code",
   "execution_count": 3,
   "metadata": {},
   "outputs": [],
   "source": [
    "data = pd.read_json('gg2013.json')\n",
    "data = pd.DataFrame(data)\n",
    "data = data['text'].values.tolist()"
   ]
  },
  {
   "cell_type": "code",
   "execution_count": 4,
   "metadata": {},
   "outputs": [],
   "source": [
    "category_dict = {\n",
    "    'Best Motion Picture – Drama' :  ['best', 'drama', 'movie', 'motion', 'picture'], \n",
    "    'Best Motion Picture – Musical or Comedy' : ['best', 'movie', 'musical', 'comedy', 'motion', 'picture'],\n",
    "    'Best Motion Picture – Foreign Language' : ['best', 'foreign', 'language', 'motion', 'picture'],\n",
    "    'Best Motion Picture – Animated' : ['best', 'animated', 'motion', 'picture'],\n",
    "    'Best Director – Motion Picture' : ['best', 'director', 'motion', 'picture'],\n",
    "    'Best Actor – Motion Picture Drama' : ['best', 'drama', 'actor', 'motion', 'picture'],\n",
    "    'Best Actor – Motion Picture Musical or Comedy' : ['best', 'actor', 'musical', 'comedy', 'motion', 'picture'],\n",
    "    'Best Actress – Motion Picture Drama' : ['best', 'actress', 'drama', 'motion', 'picture'],\n",
    "    'Best Actress – Motion Picture Musical or Comedy' : ['best', 'musical', 'comedy', 'actress', 'motion', 'picture'],\n",
    "    'Best Supporting Actor – Motion Picture' : ['best', 'supporting', 'actor', 'motion', 'picture'],\n",
    "    'Best Supporting Actress – Motion Picture' : ['best', 'supporting', 'actress', 'motion', 'picture'],\n",
    "    'Best Screenplay – Motion Picture' : ['best', 'screenplay', 'motion', 'picture'],\n",
    "    'Best Original Score – Motion Picture' : ['best', 'original', 'score', 'motion', 'picture'],\n",
    "    'Best Original Song – Motion Picture' : ['best', 'original', 'song', 'motion', 'picture'],\n",
    "    'Cecil B. DeMille Award for Lifetime Achievement in Motion Pictures' : ['cecil', 'demille', 'lifetime', 'achievement'],\n",
    "    'Best Television Series – Drama' : ['best', 'television', 'tv', 'series', 'drama'],\n",
    "    'Best Television Series – Musical or Comedy' : ['best', 'television', 'tv', 'series', 'musical', 'comedy'],\n",
    "    'Best Miniseries or Television Film' : ['best', 'television', 'tv', 'film', 'miniseries'],\n",
    "    'Best Actor – Television Series Drama' : ['best', 'actor', 'television', 'drama'],\n",
    "    'Best Actor – Television Series Musical or Comedy' : ['best', 'actor', 'television', 'tv', 'musical', 'comedy'],\n",
    "    'Best Actor – Miniseries or Television Film' : ['best', 'actor', 'miniseries', 'television', 'film'],\n",
    "    'Best Actress – Television Series Drama' : ['best', 'actress', 'television', 'tv', 'drama'],\n",
    "    'Best Actress – Television Series Musical or Comedy' : ['best', 'actress', 'television', 'tv', 'musical', 'comedy'],\n",
    "    'Best Actress – Miniseries or Television Film' : ['best', 'actress', 'mini', 'miniseries', 'television', 'tv'], \n",
    "    'Best Supporting Actor – Series, Miniseries or Television Film' : ['best', 'supporting', 'actor', 'series', 'mini', 'miniseries', 'tv', 'television', 'film'], \n",
    "    'Best Supporting Actress – Series, Miniseries or Television Film' : ['best', 'supporting', 'actress', 'series', 'mini', 'miniseries', 'tv', 'television', 'film'], \n",
    "    'Carol Burnett Award for Achievement in Television' : ['carol', 'burnett', 'television', 'tv']\n",
    "}"
   ]
  },
  {
   "cell_type": "code",
   "execution_count": 5,
   "metadata": {},
   "outputs": [],
   "source": [
    "# return cleaned Tweet as string\n",
    "# remove stopwords, user handles, punctuation, urls\n",
    "\n",
    "def cleanTweets(tweet):\n",
    "    tt = TweetTokenizer(strip_handles=True, reduce_len=True, preserve_case=True)\n",
    "\n",
    "    punctuation = list(string.punctuation)\n",
    "    \n",
    "    # strip stopwords, punctuation, url components \n",
    "    stop = stopwords.words('english') + punctuation + ['t.co', 'http', 'https', '...', '..', ':\\\\', 'RT', '#']\n",
    "\n",
    "    strip_nums = re.sub(\"\\d+\", \"\", tweet)\n",
    "    tokenized = tt.tokenize(strip_nums)\n",
    "    terms_stop = [term for term in tokenized if term not in stop]\n",
    "    cleaned = [term for term in terms_stop]\n",
    "    cleaned = ' '.join(cleaned)\n",
    "    \n",
    "    return cleaned"
   ]
  },
  {
   "cell_type": "code",
   "execution_count": 6,
   "metadata": {},
   "outputs": [],
   "source": [
    "clean_data = []\n",
    "\n",
    "for tweet in data:\n",
    "    clean_data.append(cleanTweets(tweet))"
   ]
  },
  {
   "cell_type": "code",
   "execution_count": null,
   "metadata": {},
   "outputs": [],
   "source": []
  },
  {
   "cell_type": "code",
   "execution_count": null,
   "metadata": {},
   "outputs": [],
   "source": []
  },
  {
   "cell_type": "code",
   "execution_count": 1,
   "metadata": {},
   "outputs": [],
   "source": [
    "import requests\n",
    "\n",
    "url = 'https://query.wikidata.org/sparql'\n",
    "query = \"\"\"\n",
    "SELECT DISTINCT ?itemLabel  WHERE {\n",
    "  ?item wdt:P31 wd:Q11424.\n",
    "  ?item wdt:P577 ?_publication_date.\n",
    "  ?item wdt:P136 ?_genre.\n",
    "  ?_genre rdfs:label ?_genreLabel.\n",
    "  BIND(str(YEAR(?_publication_date)) AS ?year)\n",
    "  FILTER((LANG(?_genreLabel)) = \"en\")\n",
    "\n",
    " FILTER (?_publication_date >= \"2017-00-00T00:00:00Z\"^^xsd:dateTime && ?_publication_date <= \"2019-00-00T00:00:00Z\"^^xsd:dateTime )\n",
    "\n",
    "  SERVICE wikibase:label {\n",
    "    bd:serviceParam wikibase:language \"[AUTO_LANGUAGE],en\" .\n",
    "    }\n",
    "}\n",
    "\"\"\"\n",
    "r = requests.get(url, params = {'format': 'json', 'query': query})\n",
    "data = r.json()"
   ]
  }
 ],
 "metadata": {
  "kernelspec": {
   "display_name": "Python 3",
   "language": "python",
   "name": "python3"
  },
  "language_info": {
   "codemirror_mode": {
    "name": "ipython",
    "version": 3
   },
   "file_extension": ".py",
   "mimetype": "text/x-python",
   "name": "python",
   "nbconvert_exporter": "python",
   "pygments_lexer": "ipython3",
   "version": "3.7.1"
  }
 },
 "nbformat": 4,
 "nbformat_minor": 2
}
