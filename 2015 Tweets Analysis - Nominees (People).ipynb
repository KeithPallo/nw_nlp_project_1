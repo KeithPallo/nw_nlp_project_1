{
 "cells": [
  {
   "cell_type": "code",
   "execution_count": 48,
   "metadata": {},
   "outputs": [],
   "source": [
    "import pandas as pd\n",
    "import numpy as np\n",
    "\n",
    "import nltk\n",
    "from nltk.probability import FreqDist\n",
    "from nltk.tokenize import TweetTokenizer\n",
    "from nltk.corpus import stopwords\n",
    "from stop_words import get_stop_words\n",
    "\n",
    "import string\n",
    "import re\n",
    "from collections import Counter\n",
    "from collections import OrderedDict\n",
    "import unidecode\n",
    "import requests"
   ]
  },
  {
   "cell_type": "code",
   "execution_count": 14,
   "metadata": {},
   "outputs": [],
   "source": [
    "data = pd.read_json('gg2015.json')\n",
    "data = pd.DataFrame(data)"
   ]
  },
  {
   "cell_type": "code",
   "execution_count": 15,
   "metadata": {},
   "outputs": [],
   "source": [
    "data = data['text'].values.tolist()"
   ]
  },
  {
   "cell_type": "code",
   "execution_count": 16,
   "metadata": {},
   "outputs": [],
   "source": [
    "#print(data[:10])"
   ]
  },
  {
   "cell_type": "code",
   "execution_count": 62,
   "metadata": {},
   "outputs": [],
   "source": [
    "people = set()"
   ]
  },
  {
   "cell_type": "code",
   "execution_count": 63,
   "metadata": {},
   "outputs": [],
   "source": [
    "url = 'https://query.wikidata.org/sparql'\n",
    "query = \"\"\"\n",
    "# ALL PERSONS required for awards\n",
    "SELECT DISTINCT ?person ?personLabel WHERE {\n",
    "# FIRST: uncomment occupation:\n",
    "  ?person wdt:P31 wd:Q5;\n",
    "           wdt:P106/wdt:P279* wd:Q2526255; #uncomment for     FILM director (no award for TV director)\n",
    "  FILTER NOT EXISTS { ?person wdt:P570 ?date. } #person is alive\n",
    "  \n",
    "# SECOND: uncomment gender if applicable (for actor/actress):\n",
    "#          wdt:P21 wd:Q6581097;    #male\n",
    "#          wdt:P21 wd:Q6581072;    #female\n",
    "  SERVICE wikibase:label { bd:serviceParam wikibase:language \"[AUTO_LANGUAGE],en\". }\n",
    "}\n",
    "\"\"\"\n",
    "r = requests.get(url, params = {'format': 'json', 'query': query})\n",
    "kb = r.json()\n",
    "for item in kb['results']['bindings']:\n",
    "    people.add(unidecode.unidecode(item['personLabel']['value']))"
   ]
  },
  {
   "cell_type": "code",
   "execution_count": 64,
   "metadata": {},
   "outputs": [],
   "source": [
    "url = 'https://query.wikidata.org/sparql'\n",
    "query = \"\"\"\n",
    "# ALL PERSONS required for awards\n",
    "SELECT DISTINCT ?person ?personLabel WHERE {\n",
    "# FIRST: uncomment occupation:\n",
    "  ?person wdt:P31 wd:Q5;\n",
    "           wdt:P106/wdt:P279* wd:Q10800557; #uncomment for    FILM actor (don't just use actor)\n",
    "  FILTER NOT EXISTS { ?person wdt:P570 ?date. } #person is alive\n",
    "  \n",
    "# SECOND: uncomment gender if applicable (for actor/actress):\n",
    "#          wdt:P21 wd:Q6581097;    #male\n",
    "#          wdt:P21 wd:Q6581072;    #female\n",
    "  SERVICE wikibase:label { bd:serviceParam wikibase:language \"[AUTO_LANGUAGE],en\". }\n",
    "}\n",
    "\"\"\"\n",
    "r = requests.get(url, params = {'format': 'json', 'query': query})\n",
    "kb = r.json()\n",
    "for item in kb['results']['bindings']:\n",
    "    people.add(unidecode.unidecode(item['personLabel']['value']))"
   ]
  },
  {
   "cell_type": "code",
   "execution_count": 65,
   "metadata": {},
   "outputs": [],
   "source": [
    "url = 'https://query.wikidata.org/sparql'\n",
    "query = \"\"\"\n",
    "# ALL PERSONS required for awards\n",
    "SELECT DISTINCT ?person ?personLabel WHERE {\n",
    "# FIRST: uncomment occupation:\n",
    "  ?person wdt:P31 wd:Q5;\n",
    "           wdt:P106/wdt:P279* wd:Q10798782; #uncomment for    TV actor (don't just use actor)\n",
    "  FILTER NOT EXISTS { ?person wdt:P570 ?date. } #person is alive\n",
    "  \n",
    "# SECOND: uncomment gender if applicable (for actor/actress):\n",
    "#          wdt:P21 wd:Q6581097;    #male\n",
    "#          wdt:P21 wd:Q6581072;    #female\n",
    "  SERVICE wikibase:label { bd:serviceParam wikibase:language \"[AUTO_LANGUAGE],en\". }\n",
    "}\n",
    "\"\"\"\n",
    "r = requests.get(url, params = {'format': 'json', 'query': query})\n",
    "kb = r.json()\n",
    "for item in kb['results']['bindings']:\n",
    "    people.add(unidecode.unidecode(item['personLabel']['value']))"
   ]
  },
  {
   "cell_type": "code",
   "execution_count": 66,
   "metadata": {},
   "outputs": [],
   "source": [
    "url = 'https://query.wikidata.org/sparql'\n",
    "query = \"\"\"\n",
    "# ALL PERSONS required for awards\n",
    "SELECT DISTINCT ?person ?personLabel WHERE {\n",
    "# FIRST: uncomment occupation:\n",
    "  ?person wdt:P31 wd:Q5;\n",
    "           wdt:P106/wdt:P279* wd:Q36834; #uncomment for       composer (cannot use songwriter)\n",
    "  FILTER NOT EXISTS { ?person wdt:P570 ?date. } #person is alive\n",
    "  \n",
    "# SECOND: uncomment gender if applicable (for actor/actress):\n",
    "#          wdt:P21 wd:Q6581097;    #male\n",
    "#          wdt:P21 wd:Q6581072;    #female\n",
    "  SERVICE wikibase:label { bd:serviceParam wikibase:language \"[AUTO_LANGUAGE],en\". }\n",
    "}\n",
    "\"\"\"\n",
    "r = requests.get(url, params = {'format': 'json', 'query': query})\n",
    "kb = r.json()\n",
    "for item in kb['results']['bindings']:\n",
    "    people.add(unidecode.unidecode(item['personLabel']['value']))"
   ]
  },
  {
   "cell_type": "code",
   "execution_count": 67,
   "metadata": {},
   "outputs": [],
   "source": [
    "url = 'https://query.wikidata.org/sparql'\n",
    "query = \"\"\"\n",
    "# ALL PERSONS required for awards\n",
    "SELECT DISTINCT ?person ?personLabel WHERE {\n",
    "# FIRST: uncomment occupation:\n",
    "  ?person wdt:P31 wd:Q5;\n",
    "           wdt:P106/wdt:P279* wd:Q28389; #uncomment for       screenwriter\n",
    "  FILTER NOT EXISTS { ?person wdt:P570 ?date. } #person is alive\n",
    "  \n",
    "# SECOND: uncomment gender if applicable (for actor/actress):\n",
    "#          wdt:P21 wd:Q6581097;    #male\n",
    "#          wdt:P21 wd:Q6581072;    #female\n",
    "  SERVICE wikibase:label { bd:serviceParam wikibase:language \"[AUTO_LANGUAGE],en\". }\n",
    "}\n",
    "\"\"\"\n",
    "r = requests.get(url, params = {'format': 'json', 'query': query})\n",
    "kb = r.json()\n",
    "for item in kb['results']['bindings']:\n",
    "    people.add(unidecode.unidecode(item['personLabel']['value']))"
   ]
  },
  {
   "cell_type": "code",
   "execution_count": 19,
   "metadata": {},
   "outputs": [],
   "source": [
    "#print(tv_actors)"
   ]
  },
  {
   "cell_type": "code",
   "execution_count": 20,
   "metadata": {},
   "outputs": [],
   "source": [
    "winners = {'cecil b. demille award': ['George', 'Clooney'],\n",
    "    'best performance by an actress in a motion picture - drama': ['Julianne', 'Moore'],\n",
    "    'best performance by an actor in a motion picture - drama': ['Eddie', 'Redmayne'],\n",
    "    'best performance by an actress in a motion picture - comedy or musical': ['Amy', 'Adams'],\n",
    "    'best performance by an actor in a motion picture - comedy or musical': ['Michael', 'Keaton'],\n",
    "    'best performance by an actress in a supporting role in a motion picture': ['Patricia', 'Arquette'],\n",
    "    'best performance by an actor in a supporting role in a motion picture': ['Simmons', 'J.', 'K.'],\n",
    "    'best director - motion picture': ['Richard', 'Linklater'],\n",
    "    'best screenplay - motion picture': ['Alejandro', 'Inarritu', 'Nicolas', 'Giacobone', 'Alexander', 'Dinelaris', 'Armando', 'Bo'],\n",
    "    'best original score - motion picture': ['Johann', 'Johannsson'],\n",
    "    'best performance by an actress in a television series - drama': ['Ruth', 'Wilson'],\n",
    "    'best performance by an actor in a television series - drama': ['Kevin', 'Spacey'],\n",
    "    'best performance by an actress in a television series - comedy or musical': ['Gina', 'Rodriguez'],\n",
    "    'best performance by an actor in a television series - comedy or musical': ['Jeffrey', 'Tambor'],\n",
    "    'best performance by an actress in a mini-series or motion picture made for television': ['Maggie', 'Gyllenhaal'],\n",
    "    'best performance by an actor in a mini-series or motion picture made for television': ['Billy', 'Bob', 'Thorton'],\n",
    "    'best performance by an actress in a supporting role in a series, mini-series or motion picture made for television': ['Joanne', 'Froggatt'],\n",
    "    'best performance by an actor in a supporting role in a series, mini-series or motion picture made for television': ['Matt', 'Bomer']}"
   ]
  },
  {
   "cell_type": "code",
   "execution_count": 21,
   "metadata": {},
   "outputs": [],
   "source": [
    "f = open('english.txt', 'r')\n",
    "stop_words = f.read().splitlines()\n",
    "#print(stopwords)"
   ]
  },
  {
   "cell_type": "code",
   "execution_count": 54,
   "metadata": {},
   "outputs": [],
   "source": [
    "OFFICIAL_AWARDS_1315 = ['cecil b. demille award',\n",
    "                        'best performance by an actress in a motion picture - drama', \n",
    "                        'best performance by an actor in a motion picture - drama',\n",
    "                        'best performance by an actress in a motion picture - comedy or musical', \n",
    "                        'best performance by an actor in a motion picture - comedy or musical',\n",
    "                        'best performance by an actress in a supporting role in a motion picture', \n",
    "                        'best performance by an actor in a supporting role in a motion picture', \n",
    "                        'best director - motion picture', \n",
    "                        'best screenplay - motion picture', \n",
    "                        'best original score - motion picture',\n",
    "                        'best performance by an actress in a television series - drama', \n",
    "                        'best performance by an actor in a television series - drama',\n",
    "                        'best performance by an actress in a television series - comedy or musical', \n",
    "                        'best performance by an actor in a television series - comedy or musical', \n",
    "                        'best performance by an actress in a mini-series or motion picture made for television', \n",
    "                        'best performance by an actor in a mini-series or motion picture made for television', \n",
    "                        'best performance by an actress in a supporting role in a series, mini-series or motion picture made for television', \n",
    "                        'best performance by an actor in a supporting role in a series, mini-series or motion picture made for television']"
   ]
  },
  {
   "cell_type": "code",
   "execution_count": 27,
   "metadata": {},
   "outputs": [],
   "source": [
    "def parseAward(award):\n",
    "    award = re.split('\\W+', award)\n",
    "    award = [i for i in award if i not in stop_words]\n",
    "    return award"
   ]
  },
  {
   "cell_type": "code",
   "execution_count": 28,
   "metadata": {},
   "outputs": [],
   "source": [
    "def getCategoriesDict():\n",
    "    categories_dict = dict()\n",
    "    for a in OFFICIAL_AWARDS_1315:\n",
    "        terms = parseAward(a)\n",
    "        categories_dict[a] = terms\n",
    "\n",
    "    return categories_dict"
   ]
  },
  {
   "cell_type": "code",
   "execution_count": 29,
   "metadata": {},
   "outputs": [],
   "source": [
    "categories_dict = getCategoriesDict()"
   ]
  },
  {
   "cell_type": "code",
   "execution_count": 30,
   "metadata": {},
   "outputs": [],
   "source": [
    "def filter0(data, list1):\n",
    "    result = []\n",
    "    \n",
    "    list1 = [i for i in list1 if i != 'performance' and i != 'role']\n",
    "\n",
    "    for tweet in data:\n",
    "        if all(term in tweet.lower() for term in list1):\n",
    "            result.append(tweet)\n",
    "\n",
    "    return result"
   ]
  },
  {
   "cell_type": "code",
   "execution_count": 31,
   "metadata": {
    "scrolled": true
   },
   "outputs": [],
   "source": [
    "def extractNominees(data, list1):\n",
    "    #print(data[0])\n",
    "    result = []\n",
    "       \n",
    "    #tt = TweetTokenizer(strip_handles=True, reduce_len=True, preserve_case=True)\n",
    "    translator = str.maketrans('', '', string.punctuation)\n",
    "    remove_terms = ['#goldenglobes', 'golden globes', '#goldenglobe', 'golden globe', 'goldenglobes', 'goldenglobe', 'rt', 'golden', 'globe', 'globes']    \n",
    "    stop = remove_terms + list1\n",
    "    \n",
    "    for tweet in data:\n",
    "        #print(tweet)\n",
    "        tweet = re.sub(\"\\d+\", \"\", tweet) #strip nums\n",
    "        tweet = re.sub(r'http\\S+', '', tweet) #strip urls\n",
    "        tweet = re.sub(r'#\\S+', '', tweet) #strip hashtags\n",
    "        tweet = tweet.translate(translator) #strip non-alphanumeric characters\n",
    "        tweet = tweet.split() #tokenize\n",
    "        tweet = [term for term in tweet if term.lower() not in stop_words] #remove stop words\n",
    "        for i in stop:\n",
    "            for j in tweet:\n",
    "                if i.lower() in j.lower():\n",
    "                    tweet.remove(j)\n",
    "        result.append(tweet)\n",
    "        \n",
    "    #print(result[:20])\n",
    "        \n",
    "    bgrams = [];\n",
    "\n",
    "    for tweet in result:\n",
    "        if tweet:\n",
    "            bigram = list(nltk.bigrams(tweet))\n",
    "            #print(bigram[:10])\n",
    "            for bg in bigram:\n",
    "                if bool(re.match(r'\\b[A-Z][a-z]+\\b', bg[0])) and bool(re.match(r'\\b[A-Z][a-z]+\\b', bg[1])):\n",
    "                    #print(bg[0], bg[1])\n",
    "                    bgrams.append(bg)\n",
    "            #tweet = re.findall('([A-Z][a-z]+)', tweet)\n",
    "            #if tweet:\n",
    "                #bgrams += list(nltk.bigrams(tweet))\n",
    "  \n",
    "    fdist = nltk.FreqDist(bgrams)\n",
    "    #print(fdist)\n",
    "\n",
    "    try:\n",
    "        names = fdist.most_common()\n",
    "        #names = [' '.join(i[0]) for i in fdist.most_common()]\n",
    "    except:\n",
    "        names = \"nothing here\"\n",
    "    \n",
    "    return names"
   ]
  },
  {
   "cell_type": "code",
   "execution_count": 68,
   "metadata": {},
   "outputs": [],
   "source": [
    "def getNominees():\n",
    "    d = {}\n",
    "    for award in OFFICIAL_AWARDS_1315:\n",
    "        d[\"{0}\".format(award)] = filter0(data, categories_dict[award])\n",
    "            \n",
    "    nominees = {}\n",
    "    for award in OFFICIAL_AWARDS_1315:\n",
    "        nominees[\"{0}\".format(award)] = extractNominees(d[award], categories_dict[award])\n",
    "    \n",
    "    return nominees"
   ]
  },
  {
   "cell_type": "code",
   "execution_count": 33,
   "metadata": {
    "scrolled": true
   },
   "outputs": [
    {
     "name": "stdout",
     "output_type": "stream",
     "text": [
      "76.71186219300012\n"
     ]
    }
   ],
   "source": [
    "import timeit\n",
    "start_time = timeit.default_timer()\n",
    "getNominees()\n",
    "elapsed = timeit.default_timer() - start_time\n",
    "print(elapsed)"
   ]
  },
  {
   "cell_type": "code",
   "execution_count": 69,
   "metadata": {
    "scrolled": true
   },
   "outputs": [],
   "source": [
    "nominees = getNominees()"
   ]
  },
  {
   "cell_type": "code",
   "execution_count": 58,
   "metadata": {},
   "outputs": [
    {
     "data": {
      "text/plain": [
       "dict_keys(['cecil b. demille award', 'best performance by an actress in a motion picture - drama', 'best performance by an actor in a motion picture - drama', 'best performance by an actress in a motion picture - comedy or musical', 'best performance by an actor in a motion picture - comedy or musical', 'best performance by an actress in a supporting role in a motion picture', 'best performance by an actor in a supporting role in a motion picture', 'best director - motion picture', 'best screenplay - motion picture', 'best original score - motion picture', 'best performance by an actress in a television series - drama', 'best performance by an actor in a television series - drama', 'best performance by an actress in a television series - comedy or musical', 'best performance by an actor in a television series - comedy or musical', 'best performance by an actress in a mini-series or motion picture made for television', 'best performance by an actor in a mini-series or motion picture made for television', 'best performance by an actress in a supporting role in a series, mini-series or motion picture made for television', 'best performance by an actor in a supporting role in a series, mini-series or motion picture made for television'])"
      ]
     },
     "execution_count": 58,
     "metadata": {},
     "output_type": "execute_result"
    }
   ],
   "source": [
    "nominees.keys()"
   ]
  },
  {
   "cell_type": "code",
   "execution_count": 70,
   "metadata": {},
   "outputs": [],
   "source": [
    "def compareToKB(list1):\n",
    "    for i in list1:\n",
    "        j = ' '.join(i[0])\n",
    "        if j in people:\n",
    "            print(i)"
   ]
  },
  {
   "cell_type": "code",
   "execution_count": null,
   "metadata": {},
   "outputs": [],
   "source": [
    "#Julianne Moore – Still Alice as Dr. Alice Howland - 3132\n",
    "#Jennifer Aniston – Cake as Claire Bennett -13\n",
    "#Felicity Jones – The Theory of Everything as Jane Hawking - 6\n",
    "#Rosamund Pike – Gone Girl as Amy Elliott-Dunne - 11\n",
    "#Reese Witherspoon – Wild as Cheryl Strayed - 6"
   ]
  },
  {
   "cell_type": "code",
   "execution_count": 71,
   "metadata": {
    "scrolled": false
   },
   "outputs": [
    {
     "name": "stdout",
     "output_type": "stream",
     "text": [
      "(('George', 'Clooney'), 2440)\n",
      "(('Julianna', 'Margulies'), 30)\n",
      "(('Liza', 'Minnelli'), 5)\n",
      "(('Michael', 'Keaton'), 5)\n",
      "(('Meryl', 'Streep'), 3)\n",
      "(('Jim', 'Carrey'), 2)\n",
      "(('Jodie', 'Foster'), 2)\n",
      "(('Gary', 'Busey'), 1)\n",
      "(('Pia', 'Zadora'), 1)\n",
      "(('Kevin', 'Spacey'), 1)\n",
      "(('Matt', 'Damon'), 1)\n",
      "(('Dakota', 'Fanning'), 1)\n",
      "(('Angelina', 'Jolie'), 1)\n",
      "(('Richard', 'Linklater'), 1)\n"
     ]
    }
   ],
   "source": [
    "compareToKB(nominees['cecil b. demille award'])"
   ]
  },
  {
   "cell_type": "code",
   "execution_count": 72,
   "metadata": {
    "scrolled": true
   },
   "outputs": [
    {
     "name": "stdout",
     "output_type": "stream",
     "text": [
      "(('Julianne', 'Moore'), 3132)\n",
      "(('Jennifer', 'Aniston'), 13)\n",
      "(('Rosamund', 'Pike'), 11)\n",
      "(('Patricia', 'Arquette'), 9)\n",
      "(('Eddie', 'Redmayne'), 7)\n",
      "(('Reese', 'Witherspoon'), 6)\n",
      "(('Felicity', 'Jones'), 6)\n",
      "(('Shailene', 'Woodley'), 6)\n",
      "(('Amy', 'Adams'), 4)\n"
     ]
    }
   ],
   "source": [
    "compareToKB(nominees['best performance by an actress in a motion picture - drama'])"
   ]
  },
  {
   "cell_type": "code",
   "execution_count": 73,
   "metadata": {
    "scrolled": true
   },
   "outputs": [
    {
     "name": "stdout",
     "output_type": "stream",
     "text": [
      "(('Eddie', 'Redmayne'), 3041)\n",
      "(('David', 'Oyelowo'), 13)\n",
      "(('Benedict', 'Cumberbatch'), 10)\n",
      "(('Jake', 'Gyllenhaal'), 7)\n",
      "(('Michael', 'Keaton'), 6)\n",
      "(('Julianne', 'Moore'), 6)\n",
      "(('Gwyneth', 'Paltrow'), 6)\n",
      "(('Steve', 'Carell'), 4)\n",
      "(('Jennifer', 'Aniston'), 1)\n",
      "(('George', 'Clooney'), 1)\n"
     ]
    }
   ],
   "source": [
    "compareToKB(nominees['best performance by an actor in a motion picture - drama'])"
   ]
  },
  {
   "cell_type": "code",
   "execution_count": 74,
   "metadata": {
    "scrolled": true
   },
   "outputs": [
    {
     "name": "stdout",
     "output_type": "stream",
     "text": [
      "(('Amy', 'Adams'), 3262)\n",
      "(('Patricia', 'Arquette'), 6)\n",
      "(('Emily', 'Blunt'), 5)\n",
      "(('Helen', 'Mirren'), 4)\n",
      "(('Ricky', 'Gervais'), 4)\n",
      "(('Julianne', 'Moore'), 3)\n",
      "(('Quvenzhane', 'Wallis'), 1)\n",
      "(('Meryl', 'Streep'), 1)\n",
      "(('Lana', 'Parrilla'), 1)\n"
     ]
    }
   ],
   "source": [
    "compareToKB(nominees['best performance by an actress in a motion picture - comedy or musical'])"
   ]
  },
  {
   "cell_type": "code",
   "execution_count": 75,
   "metadata": {
    "scrolled": true
   },
   "outputs": [
    {
     "name": "stdout",
     "output_type": "stream",
     "text": [
      "(('Michael', 'Keaton'), 2526)\n",
      "(('Amy', 'Adams'), 5)\n",
      "(('Ralph', 'Fiennes'), 3)\n",
      "(('Joaquin', 'Phoenix'), 2)\n",
      "(('Christoph', 'Waltz'), 2)\n",
      "(('Jeffrey', 'Tambor'), 1)\n",
      "(('Jamie', 'Foxx'), 1)\n",
      "(('Wes', 'Anderson'), 1)\n"
     ]
    }
   ],
   "source": [
    "compareToKB(nominees['best performance by an actor in a motion picture - comedy or musical'])"
   ]
  },
  {
   "cell_type": "code",
   "execution_count": 76,
   "metadata": {
    "scrolled": false
   },
   "outputs": [
    {
     "name": "stdout",
     "output_type": "stream",
     "text": [
      "(('Richard', 'Linklater'), 1141)\n",
      "(('Ellar', 'Coltrane'), 14)\n",
      "(('Wes', 'Anderson'), 5)\n",
      "(('David', 'Fincher'), 2)\n",
      "(('Ethan', 'Hawke'), 1)\n",
      "(('Patricia', 'Arquette'), 1)\n",
      "(('Eddie', 'Redmayne'), 1)\n"
     ]
    }
   ],
   "source": [
    "compareToKB(nominees['best director - motion picture'])"
   ]
  },
  {
   "cell_type": "code",
   "execution_count": 59,
   "metadata": {
    "scrolled": true
   },
   "outputs": [
    {
     "name": "stdout",
     "output_type": "stream",
     "text": [
      "(('Kristen', 'Wiig'), 1)\n",
      "(('Emma', 'Stone'), 1)\n",
      "(('Michael', 'Keaton'), 1)\n"
     ]
    }
   ],
   "source": [
    "compareToKB(nominees['best screenplay - motion picture'])"
   ]
  },
  {
   "cell_type": "code",
   "execution_count": 43,
   "metadata": {},
   "outputs": [
    {
     "name": "stdout",
     "output_type": "stream",
     "text": [
      "(('Sienna', 'Miller'), 2)\n",
      "(('Vince', 'Vaughn'), 2)\n",
      "(('John', 'Legend'), 2)\n",
      "(('Emma', 'Stone'), 1)\n",
      "(('Kevin', 'Spacey'), 1)\n"
     ]
    }
   ],
   "source": [
    "compareToKB(nominees['best original score - motion picture'])"
   ]
  },
  {
   "cell_type": "code",
   "execution_count": 44,
   "metadata": {},
   "outputs": [
    {
     "name": "stdout",
     "output_type": "stream",
     "text": [
      "(('Viola', 'Davis'), 5)\n",
      "(('Claire', 'Danes'), 4)\n",
      "(('Lana', 'Parrilla'), 4)\n",
      "(('Julianna', 'Margulies'), 2)\n",
      "(('Robin', 'Wright'), 1)\n"
     ]
    }
   ],
   "source": [
    "compareToKB(nominees['best performance by an actress in a television series - drama'])"
   ]
  },
  {
   "cell_type": "code",
   "execution_count": 82,
   "metadata": {
    "scrolled": true
   },
   "outputs": [],
   "source": [
    "# RUTH WILSON NOT IN KB EVEN THOUGH SHE IS AN ACTOR AND ALIVE"
   ]
  },
  {
   "cell_type": "code",
   "execution_count": 79,
   "metadata": {},
   "outputs": [
    {
     "name": "stdout",
     "output_type": "stream",
     "text": [
      "(('Kevin', 'Spacey'), 2270)\n",
      "(('Frank', 'Underwood'), 3)\n",
      "(('Clive', 'Owen'), 2)\n",
      "(('Liev', 'Schreiber'), 2)\n",
      "(('Dominic', 'West'), 2)\n",
      "(('James', 'Spader'), 1)\n"
     ]
    }
   ],
   "source": [
    "compareToKB(nominees['best performance by an actor in a television series - drama'])"
   ]
  },
  {
   "cell_type": "code",
   "execution_count": 83,
   "metadata": {},
   "outputs": [
    {
     "name": "stdout",
     "output_type": "stream",
     "text": [
      "(('Gina', 'Rodriguez'), 10)\n"
     ]
    }
   ],
   "source": [
    "compareToKB(nominees['best performance by an actress in a television series - comedy or musical'])"
   ]
  },
  {
   "cell_type": "code",
   "execution_count": 84,
   "metadata": {},
   "outputs": [
    {
     "name": "stdout",
     "output_type": "stream",
     "text": [
      "(('Jeffrey', 'Tambor'), 738)\n",
      "(('Ricky', 'Gervais'), 2)\n"
     ]
    }
   ],
   "source": [
    "compareToKB(nominees['best performance by an actor in a television series - comedy or musical'])"
   ]
  },
  {
   "cell_type": "code",
   "execution_count": 90,
   "metadata": {
    "scrolled": false
   },
   "outputs": [
    {
     "name": "stdout",
     "output_type": "stream",
     "text": [
      "(('Maggie', 'Gyllenhaal'), 4)\n"
     ]
    }
   ],
   "source": [
    "compareToKB(nominees['best performance by an actress in a mini-series or motion picture made for television'])"
   ]
  },
  {
   "cell_type": "code",
   "execution_count": 91,
   "metadata": {},
   "outputs": [
    {
     "data": {
      "text/plain": [
       "[(('Joanne', 'Froggatt'), 4),\n",
       " (('Froggatt', 'Downton'), 4),\n",
       " (('Maggie', 'Gyllenhaal'), 4),\n",
       " (('Downton', 'Abbe'), 3),\n",
       " (('Downton', 'Abbey'), 1),\n",
       " (('Gyllenhaal', 'Honorable'), 1),\n",
       " (('Honorable', 'Woman'), 1)]"
      ]
     },
     "execution_count": 91,
     "metadata": {},
     "output_type": "execute_result"
    }
   ],
   "source": [
    "nominees['best performance by an actress in a mini-series or motion picture made for television']"
   ]
  },
  {
   "cell_type": "code",
   "execution_count": 89,
   "metadata": {},
   "outputs": [
    {
     "name": "stdout",
     "output_type": "stream",
     "text": [
      "(('Matt', 'Bomer'), 4)\n"
     ]
    }
   ],
   "source": [
    "compareToKB(nominees['best performance by an actor in a mini-series or motion picture made for television'])"
   ]
  },
  {
   "cell_type": "code",
   "execution_count": 94,
   "metadata": {},
   "outputs": [
    {
     "data": {
      "text/plain": [
       "[(('Bob', 'Thornton'), 66),\n",
       " (('Billy', 'Bob'), 64),\n",
       " (('Thornton', 'Fargo'), 10),\n",
       " (('Matt', 'Bomer'), 4),\n",
       " (('Bomer', 'Normal'), 3),\n",
       " (('Fargo', 'Fargo'), 1),\n",
       " (('Congrats', 'Billy'), 1),\n",
       " (('Role', 'Matt'), 1),\n",
       " (('Role', 'Matt…'), 1),\n",
       " (('Bob', 'Fargo'), 1)]"
      ]
     },
     "execution_count": 94,
     "metadata": {},
     "output_type": "execute_result"
    }
   ],
   "source": [
    "nominees['best performance by an actor in a mini-series or motion picture made for television']"
   ]
  },
  {
   "cell_type": "code",
   "execution_count": 92,
   "metadata": {},
   "outputs": [],
   "source": [
    "compareToKB(nominees['best performance by an actress in a supporting role in a series, mini-series or motion picture made for television'])"
   ]
  },
  {
   "cell_type": "code",
   "execution_count": 93,
   "metadata": {},
   "outputs": [
    {
     "name": "stdout",
     "output_type": "stream",
     "text": [
      "(('Matt', 'Bomer'), 4)\n"
     ]
    }
   ],
   "source": [
    "compareToKB(nominees['best performance by an actor in a supporting role in a series, mini-series or motion picture made for television'])"
   ]
  },
  {
   "cell_type": "code",
   "execution_count": null,
   "metadata": {},
   "outputs": [],
   "source": [
    "#Eddie Redmayne – The Theory of Everything as Stephen Hawking - 3041\n",
    "#Steve Carell – Foxcatcher as John du Pont - 4\n",
    "#Benedict Cumberbatch – The Imitation Game as Alan Turing - 10\n",
    "#Jake Gyllenhaal – Nightcrawler as Louis \"Lou\" Bloom - 7\n",
    "#David Oyelowo – Selma as Martin Luther King Jr. - 13"
   ]
  },
  {
   "cell_type": "code",
   "execution_count": null,
   "metadata": {
    "scrolled": true
   },
   "outputs": [],
   "source": [
    "c2 = filter0(data, categories_dict['best performance by an actor in a motion picture - drama'])  \n",
    "actor_movie_drama = extractNominees(c2, categories_dict['best performance by an actor in a motion picture - drama'])"
   ]
  },
  {
   "cell_type": "code",
   "execution_count": null,
   "metadata": {
    "scrolled": false
   },
   "outputs": [],
   "source": [
    "compareToKB(actor_movie_drama)"
   ]
  },
  {
   "cell_type": "code",
   "execution_count": null,
   "metadata": {},
   "outputs": [],
   "source": [
    "#Amy Adams – Big Eyes as Margaret Keane - 3262\n",
    "#Emily Blunt – Into the Woods as The Baker's Wife - 5\n",
    "#Helen Mirren – The Hundred-Foot Journey as Madame Mallory - 4\n",
    "#Julianne Moore – Maps to the Stars as Havana Segrand - 3\n",
    "#Quvenzhané Wallis – Annie as Annie Bennett - 3"
   ]
  },
  {
   "cell_type": "code",
   "execution_count": null,
   "metadata": {
    "scrolled": true
   },
   "outputs": [],
   "source": [
    "c3 = filter0(data, categories_dict['best performance by an actress in a motion picture - comedy or musical'])  \n",
    "actress_movie_cm = extractNominees(c3, categories_dict['best performance by an actress in a motion picture - comedy or musical'])"
   ]
  },
  {
   "cell_type": "code",
   "execution_count": null,
   "metadata": {},
   "outputs": [],
   "source": [
    "compareToKB(actress_movie_cm)"
   ]
  },
  {
   "cell_type": "code",
   "execution_count": null,
   "metadata": {},
   "outputs": [],
   "source": [
    "#conclusion: for 2015 data, searching for all terms at once about 10s slower, about same accuracy\n",
    "#although search all terms may be signicantly slower if include other ngrams\n",
    "#both get J.K. Simmons wrong -> Simmons Whiplash\n",
    "#search all terms gets nothing for supporting actress in series, mini series, or motion picture ('Joanne Froggatt')\n",
    "#search all terms gets 'the theory' for best original score\n",
    "#hardcoded filtering gets 'the theory' for best original score\n",
    "#hardcoded filtering gets 'the theory' for best actor motion picture drama (eddie redmayne)"
   ]
  },
  {
   "cell_type": "code",
   "execution_count": null,
   "metadata": {
    "scrolled": true
   },
   "outputs": [],
   "source": [
    "c12 = filter0(data, categories_dict['best performance by an actor in a television series - drama'])\n",
    "n = extractNominees(c12, categories_dict['best performance by an actor in a television series - drama'])"
   ]
  },
  {
   "cell_type": "code",
   "execution_count": null,
   "metadata": {},
   "outputs": [],
   "source": [
    "for i in n:\n",
    "    if i in people:\n",
    "        print(i)\n",
    "        "
   ]
  },
  {
   "cell_type": "code",
   "execution_count": null,
   "metadata": {
    "scrolled": true
   },
   "outputs": [],
   "source": [
    "if 'Clive Owen' in tv_actors:\n",
    "    print(True)"
   ]
  },
  {
   "cell_type": "code",
   "execution_count": 104,
   "metadata": {},
   "outputs": [
    {
     "data": {
      "text/plain": [
       "True"
      ]
     },
     "execution_count": 104,
     "metadata": {},
     "output_type": "execute_result"
    }
   ],
   "source": [
    "bool(re.search(r'(\\b[A-Z][a-z]+\\b)(.*)(\\b[A-Z][a-z]+\\b)*', 'I really like the movie Life of Pie'))"
   ]
  }
 ],
 "metadata": {
  "kernelspec": {
   "display_name": "Python 3",
   "language": "python",
   "name": "python3"
  },
  "language_info": {
   "codemirror_mode": {
    "name": "ipython",
    "version": 3
   },
   "file_extension": ".py",
   "mimetype": "text/x-python",
   "name": "python",
   "nbconvert_exporter": "python",
   "pygments_lexer": "ipython3",
   "version": "3.7.0"
  }
 },
 "nbformat": 4,
 "nbformat_minor": 2
}
