{
 "cells": [
  {
   "cell_type": "code",
   "execution_count": 42,
   "metadata": {},
   "outputs": [],
   "source": [
    "import pandas as pd\n",
    "import numpy as np\n",
    "\n",
    "import nltk\n",
    "from nltk.probability import FreqDist\n",
    "from nltk.tokenize import TweetTokenizer\n",
    "from nltk.corpus import stopwords\n",
    "from stop_words import get_stop_words\n",
    "\n",
    "import string\n",
    "import re\n",
    "from collections import Counter\n",
    "from collections import OrderedDict\n",
    "import unidecode\n",
    "import requests"
   ]
  },
  {
   "cell_type": "code",
   "execution_count": 86,
   "metadata": {},
   "outputs": [],
   "source": [
    "data = pd.read_json('gg2015.json')\n",
    "data = pd.DataFrame(data)"
   ]
  },
  {
   "cell_type": "code",
   "execution_count": 87,
   "metadata": {},
   "outputs": [],
   "source": [
    "data = data['text'].values.tolist()"
   ]
  },
  {
   "cell_type": "code",
   "execution_count": 88,
   "metadata": {},
   "outputs": [],
   "source": [
    "#print(data[:10])"
   ]
  },
  {
   "cell_type": "code",
   "execution_count": 89,
   "metadata": {},
   "outputs": [],
   "source": [
    "people = set()"
   ]
  },
  {
   "cell_type": "code",
   "execution_count": 104,
   "metadata": {},
   "outputs": [],
   "source": [
    "url = 'https://query.wikidata.org/sparql'"
   ]
  },
  {
   "cell_type": "code",
   "execution_count": 156,
   "metadata": {},
   "outputs": [],
   "source": [
    "query = \"\"\"\n",
    "# ALL PERSONS required for awards\n",
    "SELECT DISTINCT ?person ?personLabel WHERE {\n",
    "# FIRST: uncomment occupation:\n",
    "  ?person wdt:P31 wd:Q5;\n",
    "           wdt:P106/wdt:P279* wd:Q2526255; #uncomment for     FILM director (no award for TV director)\n",
    "  FILTER NOT EXISTS { ?person wdt:P570 ?date. } #person is alive\n",
    "  \n",
    "# SECOND: uncomment gender if applicable (for actor/actress):\n",
    "#          wdt:P21 wd:Q6581097;    #male\n",
    "#          wdt:P21 wd:Q6581072;    #female\n",
    "  SERVICE wikibase:label { bd:serviceParam wikibase:language \"[AUTO_LANGUAGE],en\". }\n",
    "}\n",
    "\"\"\"\n",
    "r = requests.get(url, params = {'format': 'json', 'query': query})\n",
    "kb = r.json()\n",
    "for item in kb['results']['bindings']:\n",
    "    people.add(unidecode.unidecode(item['personLabel']['value']))"
   ]
  },
  {
   "cell_type": "code",
   "execution_count": 163,
   "metadata": {},
   "outputs": [],
   "source": [
    "query = \"\"\"\n",
    "# ALL PERSONS required for awards\n",
    "SELECT DISTINCT ?person ?personLabel WHERE {\n",
    "# FIRST: uncomment occupation:\n",
    "  ?person wdt:P31 wd:Q5;\n",
    "           wdt:P106/wdt:P279* wd:Q10800557; #uncomment for    FILM actor (don't just use actor)\n",
    "  FILTER NOT EXISTS { ?person wdt:P570 ?date. } #person is alive\n",
    "  \n",
    "# SECOND: uncomment gender if applicable (for actor/actress):\n",
    "#          wdt:P21 wd:Q6581097;    #male\n",
    "#          wdt:P21 wd:Q6581072;    #female\n",
    "  SERVICE wikibase:label { bd:serviceParam wikibase:language \"[AUTO_LANGUAGE],en\". }\n",
    "}\n",
    "\"\"\"\n",
    "r1 = requests.get(url, params = {'format': 'json', 'query': query})\n",
    "kb1 = r1.json()\n",
    "for item in kb1['results']['bindings']:\n",
    "    people.add(unidecode.unidecode(item['personLabel']['value']))"
   ]
  },
  {
   "cell_type": "code",
   "execution_count": 164,
   "metadata": {},
   "outputs": [],
   "source": [
    "query = \"\"\"\n",
    "# ALL PERSONS required for awards\n",
    "SELECT DISTINCT ?person ?personLabel WHERE {\n",
    "# FIRST: uncomment occupation:\n",
    "  ?person wdt:P31 wd:Q5;\n",
    "           wdt:P106/wdt:P279* wd:Q10798782; #uncomment for    TV actor (don't just use actor)\n",
    "  FILTER NOT EXISTS { ?person wdt:P570 ?date. } #person is alive\n",
    "  \n",
    "# SECOND: uncomment gender if applicable (for actor/actress):\n",
    "#          wdt:P21 wd:Q6581097;    #male\n",
    "#          wdt:P21 wd:Q6581072;    #female\n",
    "  SERVICE wikibase:label { bd:serviceParam wikibase:language \"[AUTO_LANGUAGE],en\". }\n",
    "}\n",
    "\"\"\"\n",
    "r = requests.get(url, params = {'format': 'json', 'query': query})\n",
    "kb = r.json()\n",
    "for item in kb['results']['bindings']:\n",
    "    people.add(unidecode.unidecode(item['personLabel']['value']))"
   ]
  },
  {
   "cell_type": "code",
   "execution_count": 165,
   "metadata": {},
   "outputs": [],
   "source": [
    "query = \"\"\"\n",
    "# ALL PERSONS required for awards\n",
    "SELECT DISTINCT ?person ?personLabel WHERE {\n",
    "# FIRST: uncomment occupation:\n",
    "  ?person wdt:P31 wd:Q5;\n",
    "           wdt:P106/wdt:P279* wd:Q36834; #uncomment for       composer (cannot use songwriter)\n",
    "  FILTER NOT EXISTS { ?person wdt:P570 ?date. } #person is alive\n",
    "  \n",
    "# SECOND: uncomment gender if applicable (for actor/actress):\n",
    "#          wdt:P21 wd:Q6581097;    #male\n",
    "#          wdt:P21 wd:Q6581072;    #female\n",
    "  SERVICE wikibase:label { bd:serviceParam wikibase:language \"[AUTO_LANGUAGE],en\". }\n",
    "}\n",
    "\"\"\"\n",
    "r = requests.get(url, params = {'format': 'json', 'query': query})\n",
    "kb = r.json()\n",
    "for item in kb['results']['bindings']:\n",
    "    people.add(unidecode.unidecode(item['personLabel']['value']))"
   ]
  },
  {
   "cell_type": "code",
   "execution_count": 166,
   "metadata": {
    "scrolled": true
   },
   "outputs": [],
   "source": [
    "query = \"\"\"\n",
    "# ALL PERSONS required for awards\n",
    "SELECT DISTINCT ?person ?personLabel WHERE {\n",
    "# FIRST: uncomment occupation:\n",
    "  ?person wdt:P31 wd:Q5;\n",
    "           wdt:P106/wdt:P279* wd:Q28389; #uncomment for       screenwriter\n",
    "  FILTER NOT EXISTS { ?person wdt:P570 ?date. } #person is alive\n",
    "  \n",
    "# SECOND: uncomment gender if applicable (for actor/actress):\n",
    "#          wdt:P21 wd:Q6581097;    #male\n",
    "#          wdt:P21 wd:Q6581072;    #female\n",
    "  SERVICE wikibase:label { bd:serviceParam wikibase:language \"[AUTO_LANGUAGE],en\". }\n",
    "}\n",
    "\"\"\"\n",
    "r = requests.get(url, params = {'format': 'json', 'query': query})\n",
    "kb = r.json()\n",
    "for item in kb['results']['bindings']:\n",
    "    people.add(unidecode.unidecode(item['personLabel']['value']))"
   ]
  },
  {
   "cell_type": "code",
   "execution_count": null,
   "metadata": {},
   "outputs": [],
   "source": [
    "#print(tv_actors)"
   ]
  },
  {
   "cell_type": "code",
   "execution_count": 112,
   "metadata": {},
   "outputs": [],
   "source": [
    "winners = {'cecil b. demille award': ['George', 'Clooney'],\n",
    "    'best performance by an actress in a motion picture - drama': ['Julianne', 'Moore'],\n",
    "    'best performance by an actor in a motion picture - drama': ['Eddie', 'Redmayne'],\n",
    "    'best performance by an actress in a motion picture - comedy or musical': ['Amy', 'Adams'],\n",
    "    'best performance by an actor in a motion picture - comedy or musical': ['Michael', 'Keaton'],\n",
    "    'best performance by an actress in a supporting role in a motion picture': ['Patricia', 'Arquette'],\n",
    "    'best performance by an actor in a supporting role in a motion picture': ['Simmons', 'J.', 'K.'],\n",
    "    'best director - motion picture': ['Richard', 'Linklater'],\n",
    "    'best screenplay - motion picture': ['Alejandro', 'Inarritu', 'Nicolas', 'Giacobone', 'Alexander', 'Dinelaris', 'Armando', 'Bo'],\n",
    "    'best original score - motion picture': ['Johann', 'Johannsson'],\n",
    "    'best performance by an actress in a television series - drama': ['Ruth', 'Wilson'],\n",
    "    'best performance by an actor in a television series - drama': ['Kevin', 'Spacey'],\n",
    "    'best performance by an actress in a television series - comedy or musical': ['Gina', 'Rodriguez'],\n",
    "    'best performance by an actor in a television series - comedy or musical': ['Jeffrey', 'Tambor'],\n",
    "    'best performance by an actress in a mini-series or motion picture made for television': ['Maggie', 'Gyllenhaal'],\n",
    "    'best performance by an actor in a mini-series or motion picture made for television': ['Billy', 'Bob', 'Thorton'],\n",
    "    'best performance by an actress in a supporting role in a series, mini-series or motion picture made for television': ['Joanne', 'Froggatt'],\n",
    "    'best performance by an actor in a supporting role in a series, mini-series or motion picture made for television': ['Matt', 'Bomer']}"
   ]
  },
  {
   "cell_type": "code",
   "execution_count": 113,
   "metadata": {},
   "outputs": [],
   "source": [
    "f = open('english.txt', 'r')\n",
    "stop_words = f.read().splitlines()\n",
    "#print(stopwords)"
   ]
  },
  {
   "cell_type": "code",
   "execution_count": 114,
   "metadata": {},
   "outputs": [],
   "source": [
    "OFFICIAL_AWARDS_1315 = ['cecil b. demille award',\n",
    "                        'best performance by an actress in a motion picture - drama', \n",
    "                        'best performance by an actor in a motion picture - drama',\n",
    "                        'best performance by an actress in a motion picture - comedy or musical', \n",
    "                        'best performance by an actor in a motion picture - comedy or musical',\n",
    "                        'best performance by an actress in a supporting role in a motion picture', \n",
    "                        'best performance by an actor in a supporting role in a motion picture', \n",
    "                        'best director - motion picture', \n",
    "                        'best screenplay - motion picture', \n",
    "                        'best original score - motion picture',\n",
    "                        'best performance by an actress in a television series - drama', \n",
    "                        'best performance by an actor in a television series - drama',\n",
    "                        'best performance by an actress in a television series - comedy or musical', \n",
    "                        'best performance by an actor in a television series - comedy or musical', \n",
    "                        'best performance by an actress in a mini-series or motion picture made for television', \n",
    "                        'best performance by an actor in a mini-series or motion picture made for television', \n",
    "                        'best performance by an actress in a supporting role in a series, mini-series or motion picture made for television', \n",
    "                        'best performance by an actor in a supporting role in a series, mini-series or motion picture made for television']"
   ]
  },
  {
   "cell_type": "code",
   "execution_count": 115,
   "metadata": {},
   "outputs": [],
   "source": [
    "def parseAward(award):\n",
    "    award = re.split('\\W+', award)\n",
    "    award = [i for i in award if i not in stop_words]\n",
    "    if 'motion' in award and 'picture' in award:\n",
    "        award.remove('motion')\n",
    "        award.remove('picture')\n",
    "        award.append('motion picture')\n",
    "    if 'mini' in award and 'series' in award:\n",
    "        award.remove('mini')\n",
    "        award.remove('series')\n",
    "        award.append('miniseries')\n",
    "    return award"
   ]
  },
  {
   "cell_type": "code",
   "execution_count": 116,
   "metadata": {},
   "outputs": [],
   "source": [
    "def getCategoriesDict():\n",
    "    categories_dict = dict()\n",
    "    for a in OFFICIAL_AWARDS_1315:\n",
    "        terms = parseAward(a)\n",
    "        categories_dict[a] = terms\n",
    "\n",
    "    return categories_dict"
   ]
  },
  {
   "cell_type": "code",
   "execution_count": 117,
   "metadata": {},
   "outputs": [],
   "source": [
    "categories_dict = getCategoriesDict()"
   ]
  },
  {
   "cell_type": "code",
   "execution_count": 118,
   "metadata": {
    "scrolled": true
   },
   "outputs": [
    {
     "data": {
      "text/plain": [
       "{'cecil b. demille award': ['cecil', 'demille', 'award'],\n",
       " 'best performance by an actress in a motion picture - drama': ['performance',\n",
       "  'actress',\n",
       "  'drama',\n",
       "  'motion picture'],\n",
       " 'best performance by an actor in a motion picture - drama': ['performance',\n",
       "  'actor',\n",
       "  'drama',\n",
       "  'motion picture'],\n",
       " 'best performance by an actress in a motion picture - comedy or musical': ['performance',\n",
       "  'actress',\n",
       "  'comedy',\n",
       "  'musical',\n",
       "  'motion picture'],\n",
       " 'best performance by an actor in a motion picture - comedy or musical': ['performance',\n",
       "  'actor',\n",
       "  'comedy',\n",
       "  'musical',\n",
       "  'motion picture'],\n",
       " 'best performance by an actress in a supporting role in a motion picture': ['performance',\n",
       "  'actress',\n",
       "  'supporting',\n",
       "  'role',\n",
       "  'motion picture'],\n",
       " 'best performance by an actor in a supporting role in a motion picture': ['performance',\n",
       "  'actor',\n",
       "  'supporting',\n",
       "  'role',\n",
       "  'motion picture'],\n",
       " 'best director - motion picture': ['director', 'motion picture'],\n",
       " 'best screenplay - motion picture': ['screenplay', 'motion picture'],\n",
       " 'best original score - motion picture': ['original',\n",
       "  'score',\n",
       "  'motion picture'],\n",
       " 'best performance by an actress in a television series - drama': ['performance',\n",
       "  'actress',\n",
       "  'television',\n",
       "  'series',\n",
       "  'drama'],\n",
       " 'best performance by an actor in a television series - drama': ['performance',\n",
       "  'actor',\n",
       "  'television',\n",
       "  'series',\n",
       "  'drama'],\n",
       " 'best performance by an actress in a television series - comedy or musical': ['performance',\n",
       "  'actress',\n",
       "  'television',\n",
       "  'series',\n",
       "  'comedy',\n",
       "  'musical'],\n",
       " 'best performance by an actor in a television series - comedy or musical': ['performance',\n",
       "  'actor',\n",
       "  'television',\n",
       "  'series',\n",
       "  'comedy',\n",
       "  'musical'],\n",
       " 'best performance by an actress in a mini-series or motion picture made for television': ['performance',\n",
       "  'actress',\n",
       "  'television',\n",
       "  'motion picture',\n",
       "  'miniseries'],\n",
       " 'best performance by an actor in a mini-series or motion picture made for television': ['performance',\n",
       "  'actor',\n",
       "  'television',\n",
       "  'motion picture',\n",
       "  'miniseries'],\n",
       " 'best performance by an actress in a supporting role in a series, mini-series or motion picture made for television': ['performance',\n",
       "  'actress',\n",
       "  'supporting',\n",
       "  'role',\n",
       "  'series',\n",
       "  'television',\n",
       "  'motion picture',\n",
       "  'miniseries'],\n",
       " 'best performance by an actor in a supporting role in a series, mini-series or motion picture made for television': ['performance',\n",
       "  'actor',\n",
       "  'supporting',\n",
       "  'role',\n",
       "  'series',\n",
       "  'television',\n",
       "  'motion picture',\n",
       "  'miniseries']}"
      ]
     },
     "execution_count": 118,
     "metadata": {},
     "output_type": "execute_result"
    }
   ],
   "source": [
    "categories_dict"
   ]
  },
  {
   "cell_type": "code",
   "execution_count": 214,
   "metadata": {},
   "outputs": [],
   "source": [
    "def filter0(data, list1):\n",
    "    synonyms = {\n",
    "        'motion picture': ['motion picture', 'motion', 'picture', 'movie'],\n",
    "        'television' : ['television', 'tv'],\n",
    "        'miniseries' : ['mini-series', 'mini', 'series', 'miniseries']\n",
    "    }\n",
    "    \n",
    "    result = []\n",
    "    \n",
    "    list1 = [i for i in list1 if i != 'performance' and i != 'role']\n",
    "\n",
    "    for tweet in data:\n",
    "        cond = True\n",
    "        for i in list1:\n",
    "            if i in synonyms:\n",
    "                if all(j not in tweet.lower() for j in synonyms[i]):\n",
    "                    cond = False\n",
    "            elif i not in tweet.lower():\n",
    "                cond = False\n",
    "        if cond:\n",
    "            result.append(tweet)\n",
    "\n",
    "    return result"
   ]
  },
  {
   "cell_type": "code",
   "execution_count": 185,
   "metadata": {
    "scrolled": true
   },
   "outputs": [],
   "source": [
    "def extractNominees(data, list1):\n",
    "    #print(data[0])\n",
    "    result = []\n",
    "       \n",
    "    #tt = TweetTokenizer(strip_handles=True, reduce_len=True, preserve_case=True)\n",
    "    translator = str.maketrans('', '', string.punctuation)\n",
    "    remove_terms = ['#goldenglobes', 'golden globes', '#goldenglobe', 'golden globe', 'goldenglobes', 'goldenglobe', 'rt', 'golden', 'globe', 'globes']    \n",
    "    stop = remove_terms + list1\n",
    "    \n",
    "    for tweet in data:\n",
    "        #print(tweet)\n",
    "        tweet = re.sub(\"\\d+\", \"\", tweet) #strip nums\n",
    "        tweet = re.sub(r'http\\S+', '', tweet) #strip urls\n",
    "        tweet = re.sub(r'#\\S+', '', tweet) #strip hashtags\n",
    "        tweet = tweet.translate(translator) #strip non-alphanumeric characters\n",
    "        tweet = tweet.split() #tokenize\n",
    "        tweet = [term for term in tweet if term.lower() not in stop_words] #remove stop words\n",
    "        for i in stop:\n",
    "            for j in tweet:\n",
    "                if i.lower() in j.lower():\n",
    "                    tweet.remove(j)\n",
    "        result.append(tweet)\n",
    "        \n",
    "    #print(result[:20])\n",
    "        \n",
    "    grams = [];\n",
    "\n",
    "    for tweet in result:\n",
    "        if tweet:\n",
    "            gram = list(nltk.everygrams(tweet, 2, 3))\n",
    "            #print(bigram[:10])\n",
    "            for g in gram:\n",
    "                if len(g) == 2:\n",
    "                    if bool(re.match(r'\\b[A-Z][a-z]+\\b', g[0])) and bool(re.match(r'\\b[A-Z][a-z]+\\b', g[1])):\n",
    "                        grams.append(g)\n",
    "                else:\n",
    "                    if bool(re.match(r'\\b[A-Z][a-z]+\\b', g[0])) and bool(re.match(r'\\b[A-Z][a-z]+\\b', g[1])) and bool(re.match(r'\\b[A-Z][a-z]+\\b', g[2])):\n",
    "                        grams.append(g)\n",
    "\n",
    "  \n",
    "    fdist = nltk.FreqDist(grams)\n",
    "    #print(fdist)\n",
    "\n",
    "    try:\n",
    "        names = fdist.most_common()\n",
    "        #names = [' '.join(i[0]) for i in fdist.most_common()]\n",
    "    except:\n",
    "        names = \"nothing here\"\n",
    "    \n",
    "    return names"
   ]
  },
  {
   "cell_type": "code",
   "execution_count": 121,
   "metadata": {},
   "outputs": [],
   "source": [
    "def getNominees():\n",
    "    d = {}\n",
    "    for award in OFFICIAL_AWARDS_1315:\n",
    "        d[\"{0}\".format(award)] = filter0(data, categories_dict[award])\n",
    "            \n",
    "    nominees = {}\n",
    "    for award in OFFICIAL_AWARDS_1315:\n",
    "        nominees[\"{0}\".format(award)] = extractNominees(d[award], categories_dict[award])\n",
    "    \n",
    "    return nominees"
   ]
  },
  {
   "cell_type": "code",
   "execution_count": 215,
   "metadata": {
    "scrolled": true
   },
   "outputs": [
    {
     "name": "stdout",
     "output_type": "stream",
     "text": [
      "213.69207202100006\n"
     ]
    }
   ],
   "source": [
    "import timeit\n",
    "start_time = timeit.default_timer()\n",
    "nominees = getNominees()\n",
    "elapsed = timeit.default_timer() - start_time\n",
    "print(elapsed)"
   ]
  },
  {
   "cell_type": "code",
   "execution_count": 190,
   "metadata": {},
   "outputs": [
    {
     "data": {
      "text/plain": [
       "dict_keys(['cecil b. demille award', 'best performance by an actress in a motion picture - drama', 'best performance by an actor in a motion picture - drama', 'best performance by an actress in a motion picture - comedy or musical', 'best performance by an actor in a motion picture - comedy or musical', 'best performance by an actress in a supporting role in a motion picture', 'best performance by an actor in a supporting role in a motion picture', 'best director - motion picture', 'best screenplay - motion picture', 'best original score - motion picture', 'best performance by an actress in a television series - drama', 'best performance by an actor in a television series - drama', 'best performance by an actress in a television series - comedy or musical', 'best performance by an actor in a television series - comedy or musical', 'best performance by an actress in a mini-series or motion picture made for television', 'best performance by an actor in a mini-series or motion picture made for television', 'best performance by an actress in a supporting role in a series, mini-series or motion picture made for television', 'best performance by an actor in a supporting role in a series, mini-series or motion picture made for television'])"
      ]
     },
     "execution_count": 190,
     "metadata": {},
     "output_type": "execute_result"
    }
   ],
   "source": [
    "nominees.keys()"
   ]
  },
  {
   "cell_type": "code",
   "execution_count": 204,
   "metadata": {},
   "outputs": [],
   "source": [
    "def compareToKB(list1):\n",
    "    for i in list1:\n",
    "        j = ' '.join(i[0])\n",
    "        if j in people:\n",
    "            print(i)"
   ]
  },
  {
   "cell_type": "code",
   "execution_count": 126,
   "metadata": {},
   "outputs": [],
   "source": [
    "#Julianne Moore – Still Alice as Dr. Alice Howland - 3132\n",
    "#Jennifer Aniston – Cake as Claire Bennett -13\n",
    "#Felicity Jones – The Theory of Everything as Jane Hawking - 6\n",
    "#Rosamund Pike – Gone Girl as Amy Elliott-Dunne - 11\n",
    "#Reese Witherspoon – Wild as Cheryl Strayed - 6"
   ]
  },
  {
   "cell_type": "code",
   "execution_count": 216,
   "metadata": {
    "scrolled": false
   },
   "outputs": [
    {
     "name": "stdout",
     "output_type": "stream",
     "text": [
      "(('George', 'Clooney'), 2440)\n",
      "(('Julianna', 'Margulies'), 30)\n",
      "(('Alejandro', 'Gonzalez', 'Inarritu'), 9)\n",
      "(('Liza', 'Minnelli'), 5)\n",
      "(('Michael', 'Keaton'), 5)\n",
      "(('Meryl', 'Streep'), 3)\n",
      "(('Jim', 'Carrey'), 2)\n",
      "(('Jodie', 'Foster'), 2)\n",
      "(('Gary', 'Busey'), 1)\n",
      "(('Pia', 'Zadora'), 1)\n",
      "(('Kevin', 'Spacey'), 1)\n",
      "(('Matt', 'Damon'), 1)\n",
      "(('Dakota', 'Fanning'), 1)\n",
      "(('Angelina', 'Jolie'), 1)\n",
      "(('Richard', 'Linklater'), 1)\n"
     ]
    }
   ],
   "source": [
    "compareToKB(nominees['cecil b. demille award'])"
   ]
  },
  {
   "cell_type": "code",
   "execution_count": 218,
   "metadata": {
    "scrolled": true
   },
   "outputs": [
    {
     "name": "stdout",
     "output_type": "stream",
     "text": [
      "(('Julianne', 'Moore'), 3298)\n",
      "(('Rosamund', 'Pike'), 22)\n",
      "(('Jennifer', 'Aniston'), 14)\n",
      "(('Patricia', 'Arquette'), 11)\n",
      "(('Reese', 'Witherspoon'), 9)\n",
      "(('Felicity', 'Jones'), 7)\n",
      "(('Amy', 'Adams'), 7)\n",
      "(('Eddie', 'Redmayne'), 7)\n",
      "(('Shailene', 'Woodley'), 6)\n",
      "(('Richard', 'Linklater'), 1)\n",
      "(('George', 'Clooney'), 1)\n"
     ]
    }
   ],
   "source": [
    "compareToKB(nominees['best performance by an actress in a motion picture - drama'])"
   ]
  },
  {
   "cell_type": "code",
   "execution_count": 219,
   "metadata": {
    "scrolled": false
   },
   "outputs": [
    {
     "name": "stdout",
     "output_type": "stream",
     "text": [
      "(('Eddie', 'Redmayne'), 3268)\n",
      "(('Kevin', 'Spacey'), 415)\n",
      "(('David', 'Oyelowo'), 14)\n",
      "(('Benedict', 'Cumberbatch'), 13)\n",
      "(('Jake', 'Gyllenhaal'), 10)\n",
      "(('Michael', 'Keaton'), 8)\n",
      "(('Steve', 'Carell'), 7)\n",
      "(('Julianne', 'Moore'), 6)\n",
      "(('Gwyneth', 'Paltrow'), 6)\n",
      "(('George', 'Clooney'), 2)\n",
      "(('Jennifer', 'Aniston'), 1)\n",
      "(('Frank', 'Underwood'), 1)\n"
     ]
    }
   ],
   "source": [
    "compareToKB(nominees['best performance by an actor in a motion picture - drama'])"
   ]
  },
  {
   "cell_type": "code",
   "execution_count": 220,
   "metadata": {
    "scrolled": false
   },
   "outputs": [
    {
     "name": "stdout",
     "output_type": "stream",
     "text": [
      "(('Amy', 'Adams'), 3511)\n",
      "(('Gina', 'Rodriguez'), 86)\n",
      "(('Emily', 'Blunt'), 7)\n",
      "(('Patricia', 'Arquette'), 6)\n",
      "(('Helen', 'Mirren'), 4)\n",
      "(('Ricky', 'Gervais'), 4)\n",
      "(('Julianne', 'Moore'), 3)\n",
      "(('Michael', 'Keaton'), 1)\n",
      "(('Quvenzhane', 'Wallis'), 1)\n",
      "(('Meryl', 'Streep'), 1)\n",
      "(('Lana', 'Parrilla'), 1)\n"
     ]
    }
   ],
   "source": [
    "compareToKB(nominees['best performance by an actress in a motion picture - comedy or musical'])"
   ]
  },
  {
   "cell_type": "code",
   "execution_count": 221,
   "metadata": {
    "scrolled": true
   },
   "outputs": [
    {
     "name": "stdout",
     "output_type": "stream",
     "text": [
      "(('Michael', 'Keaton'), 2976)\n",
      "(('Jeffrey', 'Tambor'), 65)\n",
      "(('Amy', 'Adams'), 5)\n",
      "(('Ralph', 'Fiennes'), 3)\n",
      "(('Joaquin', 'Phoenix'), 2)\n",
      "(('Christoph', 'Waltz'), 2)\n",
      "(('Emily', 'Blunt'), 1)\n",
      "(('Jamie', 'Foxx'), 1)\n",
      "(('Wes', 'Anderson'), 1)\n"
     ]
    }
   ],
   "source": [
    "compareToKB(nominees['best performance by an actor in a motion picture - comedy or musical'])"
   ]
  },
  {
   "cell_type": "code",
   "execution_count": 222,
   "metadata": {
    "scrolled": true
   },
   "outputs": [
    {
     "name": "stdout",
     "output_type": "stream",
     "text": [
      "(('Richard', 'Linklater'), 3231)\n",
      "(('Angelina', 'Jolie'), 14)\n",
      "(('Ellar', 'Coltrane'), 14)\n",
      "(('Wes', 'Anderson'), 9)\n",
      "(('Patricia', 'Arquette'), 3)\n",
      "(('Eddie', 'Redmayne'), 3)\n",
      "(('David', 'Fincher'), 2)\n",
      "(('Ethan', 'Hawke'), 2)\n",
      "(('Justin', 'Lin'), 1)\n",
      "(('Julianne', 'Moore'), 1)\n",
      "(('Seth', 'Meyers'), 1)\n",
      "(('Cary', 'Fukunaga'), 1)\n",
      "(('Andrey', 'Zvyagintsev'), 1)\n"
     ]
    }
   ],
   "source": [
    "compareToKB(nominees['best director - motion picture'])"
   ]
  },
  {
   "cell_type": "code",
   "execution_count": 223,
   "metadata": {
    "scrolled": false
   },
   "outputs": [
    {
     "name": "stdout",
     "output_type": "stream",
     "text": [
      "(('Patricia', 'Arquette'), 25)\n",
      "(('Kristen', 'Wiig'), 20)\n",
      "(('Alejandro', 'Gonzalez', 'Inarritu'), 6)\n",
      "(('Emma', 'Stone'), 3)\n",
      "(('Michael', 'Keaton'), 3)\n",
      "(('Richard', 'Linklater'), 2)\n",
      "(('Tyler', 'Perry'), 2)\n",
      "(('Michael', 'Bay'), 2)\n",
      "(('Mike', 'Leigh'), 2)\n",
      "(('Julianne', 'Moore'), 1)\n",
      "(('Gillian', 'Flynn'), 1)\n",
      "(('Judd', 'Apatow'), 1)\n",
      "(('Michael', 'Mann'), 1)\n",
      "(('Adam', 'Sandler'), 1)\n",
      "(('Wes', 'Anderson'), 1)\n"
     ]
    }
   ],
   "source": [
    "compareToKB(nominees['best screenplay - motion picture'])"
   ]
  },
  {
   "cell_type": "code",
   "execution_count": 224,
   "metadata": {
    "scrolled": true
   },
   "outputs": [
    {
     "name": "stdout",
     "output_type": "stream",
     "text": [
      "(('Hans', 'Zimmer'), 3)\n",
      "(('Sienna', 'Miller'), 2)\n",
      "(('Vince', 'Vaughn'), 2)\n",
      "(('Kevin', 'Spacey'), 2)\n",
      "(('John', 'Legend'), 2)\n",
      "(('Emma', 'Stone'), 1)\n",
      "(('Alexandre', 'Desplat'), 1)\n"
     ]
    }
   ],
   "source": [
    "compareToKB(nominees['best original score - motion picture'])"
   ]
  },
  {
   "cell_type": "code",
   "execution_count": 225,
   "metadata": {
    "scrolled": true
   },
   "outputs": [
    {
     "name": "stdout",
     "output_type": "stream",
     "text": [
      "(('Viola', 'Davis'), 11)\n",
      "(('Claire', 'Danes'), 7)\n",
      "(('Chris', 'Pratt'), 4)\n",
      "(('Lana', 'Parrilla'), 4)\n",
      "(('Julianna', 'Margulies'), 3)\n",
      "(('Robin', 'Wright'), 3)\n",
      "(('Gina', 'Rodriguez'), 2)\n",
      "(('Anna', 'Faris'), 2)\n",
      "(('Kevin', 'Spacey'), 2)\n",
      "(('Angela', 'Lansbury'), 1)\n",
      "(('Maggie', 'Gyllenhaal'), 1)\n",
      "(('Jessica', 'Lange'), 1)\n",
      "(('Allison', 'Tolman'), 1)\n",
      "(('Dominic', 'West'), 1)\n"
     ]
    }
   ],
   "source": [
    "compareToKB(nominees['best performance by an actress in a television series - drama'])"
   ]
  },
  {
   "cell_type": "code",
   "execution_count": 136,
   "metadata": {
    "scrolled": true
   },
   "outputs": [],
   "source": [
    "# RUTH WILSON NOT IN KB EVEN THOUGH SHE IS AN ACTOR AND ALIVE"
   ]
  },
  {
   "cell_type": "code",
   "execution_count": 226,
   "metadata": {},
   "outputs": [
    {
     "name": "stdout",
     "output_type": "stream",
     "text": [
      "(('Kevin', 'Spacey'), 4889)\n",
      "(('Frank', 'Underwood'), 32)\n",
      "(('Kate', 'Mara'), 8)\n",
      "(('Clive', 'Owen'), 7)\n",
      "(('Dominic', 'West'), 6)\n",
      "(('Liev', 'Schreiber'), 6)\n",
      "(('James', 'Spader'), 5)\n",
      "(('Katherine', 'Heigl'), 3)\n",
      "(('David', 'Duchovny'), 3)\n",
      "(('Amy', 'Adams'), 3)\n",
      "(('Billy', 'Bob', 'Thornton'), 1)\n",
      "(('Matt', 'Bomer'), 1)\n",
      "(('Jeffrey', 'Tambor'), 1)\n",
      "(('Deepika', 'Padukone'), 1)\n"
     ]
    }
   ],
   "source": [
    "compareToKB(nominees['best performance by an actor in a television series - drama'])"
   ]
  },
  {
   "cell_type": "code",
   "execution_count": 227,
   "metadata": {
    "scrolled": true
   },
   "outputs": [
    {
     "name": "stdout",
     "output_type": "stream",
     "text": [
      "(('Gina', 'Rodriguez'), 1943)\n",
      "(('Kerry', 'Washington'), 2)\n",
      "(('Chloe', 'Bennet'), 2)\n",
      "(('Bryan', 'Cranston'), 1)\n",
      "(('Lena', 'Dunham'), 1)\n",
      "(('Edie', 'Falco'), 1)\n",
      "(('Taylor', 'Schilling'), 1)\n",
      "(('Amy', 'Adams'), 1)\n"
     ]
    }
   ],
   "source": [
    "compareToKB(nominees['best performance by an actress in a television series - comedy or musical'])"
   ]
  },
  {
   "cell_type": "code",
   "execution_count": 228,
   "metadata": {},
   "outputs": [
    {
     "name": "stdout",
     "output_type": "stream",
     "text": [
      "(('Jeffrey', 'Tambor'), 1247)\n",
      "(('Matt', 'Bomer'), 3)\n",
      "(('Ricky', 'Gervais'), 3)\n",
      "(('Jane', 'Fonda'), 2)\n",
      "(('Katie', 'Holmes'), 1)\n",
      "(('Seth', 'Meyers'), 1)\n",
      "(('Lily', 'Tomlin'), 1)\n",
      "(('Gina', 'Rodriguez'), 1)\n"
     ]
    }
   ],
   "source": [
    "compareToKB(nominees['best performance by an actor in a television series - comedy or musical'])"
   ]
  },
  {
   "cell_type": "code",
   "execution_count": 229,
   "metadata": {
    "scrolled": false
   },
   "outputs": [
    {
     "name": "stdout",
     "output_type": "stream",
     "text": [
      "(('Maggie', 'Gyllenhaal'), 2160)\n",
      "(('Gina', 'Rodriguez'), 90)\n",
      "(('Adrien', 'Brody'), 3)\n",
      "(('Kate', 'Beckinsale'), 2)\n",
      "(('Uzo', 'Aduba'), 1)\n",
      "(('Kathy', 'Bates'), 1)\n",
      "(('Dakota', 'Johnson'), 1)\n",
      "(('Amy', 'Adams'), 1)\n",
      "(('Jessica', 'Lange'), 1)\n",
      "(('Allison', 'Tolman'), 1)\n",
      "(('Judith', 'Light'), 1)\n"
     ]
    }
   ],
   "source": [
    "compareToKB(nominees['best performance by an actress in a mini-series or motion picture made for television'])"
   ]
  },
  {
   "cell_type": "code",
   "execution_count": 230,
   "metadata": {},
   "outputs": [
    {
     "name": "stdout",
     "output_type": "stream",
     "text": [
      "(('Billy', 'Bob', 'Thornton'), 2142)\n",
      "(('Matt', 'Bomer'), 1357)\n",
      "(('Kevin', 'Spacey'), 252)\n",
      "(('Jeffrey', 'Tambor'), 5)\n",
      "(('Jeremy', 'Renner'), 2)\n",
      "(('Mark', 'Ruffalo'), 2)\n",
      "(('Jon', 'Voight'), 2)\n",
      "(('James', 'Spader'), 1)\n",
      "(('Woody', 'Harrelson'), 1)\n",
      "(('Katie', 'Holmes'), 1)\n",
      "(('Seth', 'Meyers'), 1)\n",
      "(('Alan', 'Cumming'), 1)\n",
      "(('Colin', 'Hanks'), 1)\n",
      "(('Frank', 'Underwood'), 1)\n"
     ]
    }
   ],
   "source": [
    "compareToKB(nominees['best performance by an actor in a mini-series or motion picture made for television'])"
   ]
  },
  {
   "cell_type": "code",
   "execution_count": 231,
   "metadata": {},
   "outputs": [
    {
     "name": "stdout",
     "output_type": "stream",
     "text": [
      "(('Maggie', 'Gyllenhaal'), 7)\n",
      "(('Uzo', 'Aduba'), 1)\n",
      "(('Kathy', 'Bates'), 1)\n",
      "(('Dakota', 'Johnson'), 1)\n"
     ]
    }
   ],
   "source": [
    "compareToKB(nominees['best performance by an actress in a supporting role in a series, mini-series or motion picture made for television'])"
   ]
  },
  {
   "cell_type": "code",
   "execution_count": 232,
   "metadata": {},
   "outputs": [
    {
     "name": "stdout",
     "output_type": "stream",
     "text": [
      "(('Matt', 'Bomer'), 1246)\n",
      "(('Billy', 'Bob', 'Thornton'), 2)\n",
      "(('Jon', 'Voight'), 2)\n",
      "(('Alan', 'Cumming'), 1)\n",
      "(('Colin', 'Hanks'), 1)\n",
      "(('Mark', 'Ruffalo'), 1)\n"
     ]
    }
   ],
   "source": [
    "compareToKB(nominees['best performance by an actor in a supporting role in a series, mini-series or motion picture made for television'])"
   ]
  }
 ],
 "metadata": {
  "kernelspec": {
   "display_name": "Python 3",
   "language": "python",
   "name": "python3"
  },
  "language_info": {
   "codemirror_mode": {
    "name": "ipython",
    "version": 3
   },
   "file_extension": ".py",
   "mimetype": "text/x-python",
   "name": "python",
   "nbconvert_exporter": "python",
   "pygments_lexer": "ipython3",
   "version": "3.7.0"
  }
 },
 "nbformat": 4,
 "nbformat_minor": 2
}
