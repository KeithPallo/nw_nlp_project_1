{
 "cells": [
  {
   "cell_type": "code",
<<<<<<< HEAD
   "execution_count": 2,
=======
   "execution_count": 46,
>>>>>>> aafa90b04fdcf9a623ce4691f4cac0d1a362a636
   "metadata": {},
   "outputs": [],
   "source": [
    "import pandas as pd\n",
    "import numpy as np\n",
    "\n",
    "import nltk\n",
    "from nltk.probability import FreqDist\n",
    "from nltk.tokenize import TweetTokenizer\n",
    "from nltk.corpus import stopwords\n",
    "\n",
    "import string\n",
    "import re"
   ]
  },
  {
   "cell_type": "code",
   "execution_count": 47,
   "metadata": {},
   "outputs": [],
   "source": [
    "data = pd.read_json('gg2013.json')\n",
    "data = pd.DataFrame(data)\n",
    "data = data['text'].values.tolist()"
   ]
  },
  {
   "cell_type": "code",
   "execution_count": 48,
   "metadata": {},
   "outputs": [],
   "source": [
    "category_dict = {\n",
    "    'Best Motion Picture – Drama' :  ['best', 'drama', 'movie', 'motion', 'picture'], \n",
    "    'Best Motion Picture – Musical or Comedy' : ['best', 'movie', 'musical', 'comedy', 'motion', 'picture'],\n",
    "    'Best Motion Picture – Foreign Language' : ['best', 'foreign', 'language', 'motion', 'picture'],\n",
    "    'Best Motion Picture – Animated' : ['best', 'animated', 'motion', 'picture'],\n",
    "    'Best Director – Motion Picture' : ['best', 'director', 'motion', 'picture'],\n",
    "    'Best Actor – Motion Picture Drama' : ['best', 'drama', 'actor', 'motion', 'picture'],\n",
    "    'Best Actor – Motion Picture Musical or Comedy' : ['best', 'actor', 'musical', 'comedy', 'motion', 'picture'],\n",
    "    'Best Actress – Motion Picture Drama' : ['best', 'actress', 'drama', 'motion', 'picture'],\n",
    "    'Best Actress – Motion Picture Musical or Comedy' : ['best', 'musical', 'comedy', 'actress', 'motion', 'picture'],\n",
    "    'Best Supporting Actor – Motion Picture' : ['best', 'supporting', 'actor', 'motion', 'picture'],\n",
    "    'Best Supporting Actress – Motion Picture' : ['best', 'supporting', 'actress', 'motion', 'picture'],\n",
    "    'Best Screenplay – Motion Picture' : ['best', 'screenplay', 'motion', 'picture'],\n",
    "    'Best Original Score – Motion Picture' : ['best', 'original', 'score', 'motion', 'picture'],\n",
    "    'Best Original Song – Motion Picture' : ['best', 'original', 'song', 'motion', 'picture'],\n",
    "    'Cecil B. DeMille Award for Lifetime Achievement in Motion Pictures' : ['cecil', 'demille', 'lifetime', 'achievement'],\n",
    "    'Best Television Series – Drama' : ['best', 'television', 'tv', 'series', 'drama'],\n",
    "    'Best Television Series – Musical or Comedy' : ['best', 'television', 'tv', 'series', 'musical', 'comedy'],\n",
    "    'Best Miniseries or Television Film' : ['best', 'television', 'tv', 'film', 'miniseries'],\n",
    "    'Best Actor – Television Series Drama' : ['best', 'actor', 'television', 'drama'],\n",
    "    'Best Actor – Television Series Musical or Comedy' : ['best', 'actor', 'television', 'tv', 'musical', 'comedy'],\n",
    "    'Best Actor – Miniseries or Television Film' : ['best', 'actor', 'miniseries', 'television', 'film'],\n",
    "    'Best Actress – Television Series Drama' : ['best', 'actress', 'television', 'tv', 'drama'],\n",
    "    'Best Actress – Television Series Musical or Comedy' : ['best', 'actress', 'television', 'tv', 'musical', 'comedy'],\n",
    "    'Best Actress – Miniseries or Television Film' : ['best', 'actress', 'mini', 'miniseries', 'television', 'tv'], \n",
    "    'Best Supporting Actor – Series, Miniseries or Television Film' : ['best', 'supporting', 'actor', 'series', 'mini', 'miniseries', 'tv', 'television', 'film'], \n",
    "    'Best Supporting Actress – Series, Miniseries or Television Film' : ['best', 'supporting', 'actress', 'series', 'mini', 'miniseries', 'tv', 'television', 'film'], \n",
    "    'Carol Burnett Award for Achievement in Television' : ['carol', 'burnett', 'television', 'tv']\n",
    "}"
   ]
  },
  {
   "cell_type": "code",
   "execution_count": 49,
   "metadata": {},
   "outputs": [],
   "source": [
    "def filter0(data, list1):\n",
    "    result = []\n",
    "\n",
    "    for tweet in data:\n",
    "        if all(term in tweet.lower() for term in list1):\n",
    "            result.append(tweet)\n",
    "\n",
    "    return result"
   ]
  },
  {
   "cell_type": "code",
   "execution_count": 50,
   "metadata": {},
   "outputs": [],
   "source": [
    "def filter1(data, list1):\n",
    "    result1 = []\n",
    "    result2 = []\n",
    "\n",
    "    for tweet in data:\n",
    "        if any(term in tweet.lower() for term in list1):\n",
    "            result1.append(tweet)\n",
    "        else:\n",
    "            result2.append(tweet)\n",
    "\n",
    "    return result1, result2  "
   ]
  },
  {
   "cell_type": "code",
   "execution_count": 51,
   "metadata": {},
   "outputs": [],
   "source": [
    "def filter2(data, list1, list2):\n",
    "    result1 = []\n",
    "    result2 = []\n",
    "\n",
    "    for tweet in data:\n",
    "        if any(term in tweet.lower() for term in list1):\n",
    "            result1.append(tweet)\n",
    "        elif any(term in tweet.lower() for term in list2):\n",
    "            result2.append(tweet)\n",
    "            \n",
    "    return result1, result2"
   ]
  },
  {
   "cell_type": "code",
   "execution_count": 52,
   "metadata": {},
   "outputs": [],
   "source": [
    "def filter3(data, list1, list2, list3):\n",
    "    result1 = []\n",
    "    result2 = []\n",
    "    result3 = []\n",
    "        \n",
    "    for tweet in data:\n",
    "        if any(term in tweet.lower() for term in list1):\n",
    "            result1.append(tweet)\n",
    "        elif any(term in tweet.lower() for term in list2):\n",
    "            result2.append(tweet)\n",
    "        elif any(term in tweet.lower() for term in list3):\n",
    "            result3.append(tweet)\n",
    "            \n",
    "    return result1, result2, result3"
   ]
  },
  {
   "cell_type": "code",
   "execution_count": 53,
   "metadata": {},
   "outputs": [],
   "source": [
    "def filter4(data, list1, list2, list3, list4):\n",
    "    result1 = []\n",
    "    result2 = []\n",
    "    result3 = []\n",
    "    result4 = []\n",
    "        \n",
    "    for tweet in data:\n",
    "        if any(term in tweet.lower() for term in list1):\n",
    "            result1.append(tweet)\n",
    "        elif any(term in tweet.lower() for term in list2):\n",
    "            result2.append(tweet)\n",
    "        elif any(term in tweet.lower() for term in list3):\n",
    "            result3.append(tweet)\n",
    "        elif any(term in tweet.lower() for term in list4):\n",
    "            result4.append(tweet)\n",
    "            \n",
    "    return result1, result2, result3, result4"
   ]
  },
  {
   "cell_type": "code",
   "execution_count": 92,
   "metadata": {},
   "outputs": [],
   "source": [
    "def extractWinner(data, list1):\n",
    "    #print(data)\n",
    "    cleaned = []\n",
    "    \n",
    "    tt = TweetTokenizer(strip_handles=True, reduce_len=True, preserve_case=True)\n",
    "\n",
    "    # strip stopwords, punctuation \n",
    "    punctuation = list(string.punctuation)\n",
    "    remove_terms = ['#goldenglobes', 'golden globes', '#goldenglobe', 'golden globe', 'goldenglobes', 'goldenglobe', 'rt']    \n",
    "    stop = punctuation + remove_terms + list1\n",
    "\n",
    "    for tweet in data:\n",
    "        tweet = re.sub(\"\\d+\", \"\", tweet) #strip nums\n",
    "        tweet = re.sub(r'http\\S+', '', tweet) #strip urls\n",
    "        tweet = re.sub(r'#\\S+', '', tweet) #strip hashtags\n",
    "        tweet = tt.tokenize(tweet) #tokenize\n",
    "        tweet = [term for term in tweet if term.lower() not in stop] #remove stop words\n",
    "        cleaned.append(' '.join(tweet))\n",
    "        \n",
    "    print(cleaned[:20])\n",
    "        \n",
    "    results = [];\n",
    "\n",
    "    for tweet in cleaned:\n",
    "        #print(tweet)\n",
    "        if bool(re.search('[A-Z]([a-z]+|\\.)(?:\\s+[A-Z]([a-z]+|\\.))*(?:\\s+[a-z][a-z\\-]+){0,2}\\s+[A-Z]([a-z]+|\\.)', tweet)):\n",
    "            #print(tweet)\n",
    "            t = re.search('[A-Z]([a-z]+|\\.)(?:\\s+[A-Z]([a-z]+|\\.))*(?:\\s+[a-z][a-z\\-]+){0,2}\\s+[A-Z]([a-z]+|\\.)', tweet).group(0)\n",
    "            #print(t)\n",
    "            results.append(t)\n",
    "    \n",
    "    fdist = nltk.FreqDist(results)\n",
    "    \n",
    "    print(fdist.most_common(10)[0])\n",
    "    \n",
    "    temp = fdist.most_common(1)[0][0]\n",
    "    name = ''.join(temp)\n",
    "    \n",
    "    return name"
   ]
  },
  {
   "cell_type": "code",
<<<<<<< HEAD
   "execution_count": 3,
=======
   "execution_count": 149,
>>>>>>> aafa90b04fdcf9a623ce4691f4cac0d1a362a636
   "metadata": {
    "scrolled": true
   },
   "outputs": [
    {
     "data": {
      "text/plain": [
<<<<<<< HEAD
       "<re.Match object; span=(0, 63), match='My favorite movies are Life of Pi and Zero Dark T>"
      ]
     },
     "execution_count": 3,
=======
       "[' favorite movies are ', ' and ', ' ']"
      ]
     },
     "execution_count": 149,
>>>>>>> aafa90b04fdcf9a623ce4691f4cac0d1a362a636
     "metadata": {},
     "output_type": "execute_result"
    }
   ],
   "source": [
<<<<<<< HEAD
    "re.match(r'[A-Z][a-z]+.*[A-Z][a-z]+', \n",
    "           'My favorite movies are Life of Pi and Zero Dark Thirty and Argo.')"
=======
    "re.findall(r'[A-Z][a-z]+.*[A-Z][a-z]+', \n",
    "           'My favorite movies are Life of Pi and Zero Dark Thirty and Argo.')\n",
    "re.findall('/(?<=cow\\s*).*?(?=\\s*milk)/gs')"
>>>>>>> aafa90b04fdcf9a623ce4691f4cac0d1a362a636
   ]
  },
  {
   "cell_type": "code",
   "execution_count": 65,
   "metadata": {},
   "outputs": [],
   "source": [
    "def getMediaWinners():\n",
    "    # layer 1 - divide movies / tv\n",
    "    movie = ['motion picture', 'movie', 'movies']\n",
    "    tv = ['tv', 'television']\n",
    "    f1_movie, f1_tv = filter2(data, movie, tv)\n",
    "    \n",
    "    # layer 2 - divide actors+actresses / media\n",
    "    actor = ['actor', 'actress', 'actors', 'actresses']\n",
    "    f2_movie_actor, f2_movie_media = filter1(f1_movie, actor)\n",
    "    f2_tv_actor, f2_tv_media = filter1(f1_tv, actor)\n",
    "    \n",
    "    #layer 3.1 - for movies, divide drama / musical or comedy / foreign / animated\n",
    "    f3_movie_drama, f3_movie_musical_comedy, f3_movie_foreign, f3_movie_animated = filter4(f2_movie_media, ['drama'], ['musical', 'comedy'], ['foreign'], ['animated'])\n",
    "    \n",
    "    # layer 3.2 - for tv, divide drama / musical or comedy / miniseries or film\n",
    "    f3_tv_drama, f3_tv_musical_comedy, f3_tv_mini_film = filter3(f2_movie_media, ['drama'], ['musical', 'comedy'], ['mini', 'miniseries', 'film'])\n",
    "      \n",
    "    winners = {\n",
    "    'Best Motion Picture – Drama' :  extractWinner(f3_movie_drama, category_dict['Best Motion Picture – Drama']),\n",
    "    #'Best Motion Picture – Musical or Comedy' : extractWinner(f3_movie_musical_comedy, category_dict['Best Motion Picture – Musical or Comedy']),\n",
    "    #'Best Motion Picture – Foreign Language' : extractWinner(f3_movie_foreign, category_dict['Best Motion Picture – Foreign Language']),\n",
    "    #'Best Motion Picture – Animated' : extractWinner(f3_movie_animated, category_dict['Best Motion Picture – Animated']),\n",
    "    #'Best Television Series – Drama' : extractWinner(f3_tv_drama, category_dict['Best Television Series – Drama']),\n",
    "    #'Best Television Series – Musical or Comedy' : extractWinner(f3_tv_musical_comedy, category_dict['Best Television Series – Musical or Comedy']),\n",
    "    #'Best Miniseries or Television Film' : extractWinner(f3_tv_mini_film, category_dict['Best Miniseries or Television Film']),\n",
    "    }\n",
    "    \n",
    "    return winners\n",
    "    "
   ]
  },
  {
   "cell_type": "code",
   "execution_count": 1,
   "metadata": {
    "scrolled": false
   },
   "outputs": [
    {
     "ename": "NameError",
     "evalue": "name 'getMediaWinners' is not defined",
     "output_type": "error",
     "traceback": [
      "\u001b[0;31m---------------------------------------------------------------------------\u001b[0m",
      "\u001b[0;31mNameError\u001b[0m                                 Traceback (most recent call last)",
      "\u001b[0;32m<ipython-input-1-d41be326d05a>\u001b[0m in \u001b[0;36m<module>\u001b[0;34m\u001b[0m\n\u001b[0;32m----> 1\u001b[0;31m \u001b[0mgetMediaWinners\u001b[0m\u001b[0;34m(\u001b[0m\u001b[0;34m)\u001b[0m\u001b[0;34m\u001b[0m\u001b[0m\n\u001b[0m",
      "\u001b[0;31mNameError\u001b[0m: name 'getMediaWinners' is not defined"
     ]
    }
   ],
   "source": [
    "getMediaWinners()"
   ]
  }
 ],
 "metadata": {
  "kernelspec": {
   "display_name": "Python 3",
   "language": "python",
   "name": "python3"
  },
  "language_info": {
   "codemirror_mode": {
    "name": "ipython",
    "version": 3
   },
   "file_extension": ".py",
   "mimetype": "text/x-python",
   "name": "python",
   "nbconvert_exporter": "python",
   "pygments_lexer": "ipython3",
   "version": "3.7.0"
  }
 },
 "nbformat": 4,
 "nbformat_minor": 2
}
