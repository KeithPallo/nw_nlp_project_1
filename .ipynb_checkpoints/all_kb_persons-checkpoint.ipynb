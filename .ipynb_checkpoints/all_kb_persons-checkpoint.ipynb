{
 "cells": [
  {
   "cell_type": "code",
   "execution_count": 17,
   "metadata": {},
   "outputs": [],
   "source": [
    "import requests\n",
    "from collections import OrderedDict\n",
    "import pandas as pd"
   ]
  },
  {
   "cell_type": "code",
   "execution_count": 18,
   "metadata": {},
   "outputs": [
    {
     "data": {
      "text/plain": [
       "'\\nDirector\\nMale Film Actor\\nFemale Film Actress\\nMale TV Actor\\nFemale TV Atress\\nComposer\\nScreenwriter\\n'"
      ]
     },
     "execution_count": 18,
     "metadata": {},
     "output_type": "execute_result"
    }
   ],
   "source": [
    "# Order:\n",
    "\"\"\"\n",
    "Director\n",
    "Male Film Actor\n",
    "Female Film Actress\n",
    "Male TV Actor\n",
    "Female TV Atress\n",
    "Composer\n",
    "Screenwriter\n",
    "\"\"\""
   ]
  },
  {
   "cell_type": "code",
   "execution_count": 19,
   "metadata": {},
   "outputs": [
    {
     "data": {
      "text/plain": [
       "(1728, 2)"
      ]
     },
     "execution_count": 19,
     "metadata": {},
     "output_type": "execute_result"
    }
   ],
   "source": [
    "# DIRECTOR\n",
    "\n",
    "url = 'https://query.wikidata.org/sparql'\n",
    "query = \"\"\"\n",
    "SELECT DISTINCT ?personLabel ?twitterName\n",
    "\n",
    "WHERE {\n",
    "  ?person wdt:P31 wd:Q5;\n",
    "          wdt:P106/wdt:P279* wd:Q2526255; #uncomment for     FILM director (no award for TV director)\n",
    "          wdt:P2002 ?twitterName; #uncomment for           twitterName\n",
    "  FILTER NOT EXISTS { ?person wdt:P570 ?date. } #person is alive\n",
    "  SERVICE wikibase:label { bd:serviceParam wikibase:language \"[AUTO_LANGUAGE],en\". }\n",
    "}\n",
    "\"\"\"\n",
    "\n",
    "r_director = requests.get(url, params = {'format': 'json', 'query': query})\n",
    "data_director = r_director.json()\n",
    "\n",
    "directors = []\n",
    "for item in data_director['results']['bindings']:\n",
    "    directors.append(OrderedDict(\n",
    "        {'directors': item['personLabel']['value'],\n",
    "         'twitterid': item['twitterName']['value']}))\n",
    "df_director = pd.DataFrame(directors)\n",
    "df_director.shape\n",
    "# df_director\n"
   ]
  },
  {
   "cell_type": "code",
   "execution_count": 20,
   "metadata": {},
   "outputs": [
    {
     "name": "stdout",
     "output_type": "stream",
     "text": [
      "Melora Hardin, @MeloraHardin\n",
      "Tom Cavanagh, @cavanaghtom\n"
     ]
    }
   ],
   "source": [
    "# df_director.get_values()[\"\"\"level\"\"\"][\"\"\"0 = name, 1 = twit\"\"\"]\n",
    "\n",
    "print(df_director.get_values()[0][0]+\", @\"+df_director.get_values()[0][1])\n",
    "print(df_director.get_values()[1][0]+\", @\"+df_director.get_values()[1][1])"
   ]
  },
  {
   "cell_type": "code",
   "execution_count": 21,
   "metadata": {},
   "outputs": [
    {
     "data": {
      "text/plain": [
       "(2283, 2)"
      ]
     },
     "execution_count": 21,
     "metadata": {},
     "output_type": "execute_result"
    }
   ],
   "source": [
    "# MALE FILM ACTOR\n",
    "\n",
    "url = 'https://query.wikidata.org/sparql'\n",
    "query = \"\"\"\n",
    "SELECT DISTINCT ?personLabel ?twitterName\n",
    "\n",
    "WHERE {\n",
    "  ?person wdt:P31 wd:Q5;\n",
    "          wdt:P106/wdt:P279* wd:Q10800557; #uncomment for    FILM actor (don't just use actor)\n",
    "          wdt:P2002 ?twitterName; #uncomment for           twitterName\n",
    "          wdt:P21 wd:Q6581097;    #male\n",
    "  FILTER NOT EXISTS { ?person wdt:P570 ?date. } #person is alive\n",
    "  SERVICE wikibase:label { bd:serviceParam wikibase:language \"[AUTO_LANGUAGE],en\". }\n",
    "}\n",
    "\"\"\"\n",
    "\n",
    "r_filmActor = requests.get(url, params = {'format': 'json', 'query': query})\n",
    "data_filmActor = r_filmActor.json()\n",
    "\n",
    "filmActors = []\n",
    "for item in data_filmActor['results']['bindings']:\n",
    "    filmActors.append(OrderedDict(\n",
    "        {'filmActor': item['personLabel']['value'],\n",
    "         'twitterid': item['twitterName']['value']}))\n",
    "df_filmActor = pd.DataFrame(filmActors)\n",
    "df_filmActor.shape\n",
    "# df_filmActor\n"
   ]
  },
  {
   "cell_type": "code",
   "execution_count": 22,
   "metadata": {},
   "outputs": [
    {
     "data": {
      "text/plain": [
       "(3886, 2)"
      ]
     },
     "execution_count": 22,
     "metadata": {},
     "output_type": "execute_result"
    }
   ],
   "source": [
    "# FEMALE FILM ACTRESS\n",
    "\n",
    "url = 'https://query.wikidata.org/sparql'\n",
    "query = \"\"\"\n",
    "SELECT DISTINCT ?personLabel ?twitterName\n",
    "\n",
    "WHERE {\n",
    "  ?person wdt:P31 wd:Q5;\n",
    "          wdt:P106/wdt:P279* wd:Q10800557; #uncomment for    FILM actor (don't just use actor)\n",
    "          wdt:P2002 ?twitterName; #uncomment for           twitterName\n",
    "          wdt:P21 wd:Q6581072;    #female\n",
    "  FILTER NOT EXISTS { ?person wdt:P570 ?date. } #person is alive\n",
    "  SERVICE wikibase:label { bd:serviceParam wikibase:language \"[AUTO_LANGUAGE],en\". }\n",
    "}\n",
    "\"\"\"\n",
    "\n",
    "r_filmActress = requests.get(url, params = {'format': 'json', 'query': query})\n",
    "data_filmActress = r_filmActress.json()\n",
    "\n",
    "filmActresses = []\n",
    "for item in data_filmActress['results']['bindings']:\n",
    "    filmActresses.append(OrderedDict(\n",
    "        {'filmActress': item['personLabel']['value'],\n",
    "         'twitterid': item['twitterName']['value']}))\n",
    "df_filmActress = pd.DataFrame(filmActresses)\n",
    "df_filmActress.shape\n",
    "# df_filmActress\n"
   ]
  },
  {
   "cell_type": "code",
   "execution_count": 23,
   "metadata": {},
   "outputs": [
    {
     "data": {
      "text/plain": [
       "(1464, 2)"
      ]
     },
     "execution_count": 23,
     "metadata": {},
     "output_type": "execute_result"
    }
   ],
   "source": [
    "# MALE TV ACTOR\n",
    "\n",
    "url = 'https://query.wikidata.org/sparql'\n",
    "query = \"\"\"\n",
    "SELECT DISTINCT ?personLabel ?twitterName\n",
    "\n",
    "WHERE {\n",
    "  ?person wdt:P31 wd:Q5;\n",
    "          wdt:P106/wdt:P279* wd:Q10798782; #uncomment for    TV actor (don't just use actor)\n",
    "          wdt:P2002 ?twitterName; #uncomment for           twitterName\n",
    "          wdt:P21 wd:Q6581097;    #male\n",
    "  FILTER NOT EXISTS { ?person wdt:P570 ?date. } #person is alive\n",
    "  SERVICE wikibase:label { bd:serviceParam wikibase:language \"[AUTO_LANGUAGE],en\". }\n",
    "}\n",
    "\"\"\"\n",
    "\n",
    "r_tvActor = requests.get(url, params = {'format': 'json', 'query': query})\n",
    "data_tvActor = r_tvActor.json()\n",
    "\n",
    "tvActors = []\n",
    "for item in data_tvActor['results']['bindings']:\n",
    "    tvActors.append(OrderedDict(\n",
    "        {'tvActor': item['personLabel']['value'],\n",
    "         'twitterid': item['twitterName']['value']}))\n",
    "df_tvActor = pd.DataFrame(tvActors)\n",
    "df_tvActor.shape\n",
    "# df_tvActor\n"
   ]
  },
  {
   "cell_type": "code",
   "execution_count": 24,
   "metadata": {},
   "outputs": [
    {
     "data": {
      "text/plain": [
       "(1464, 2)"
      ]
     },
     "execution_count": 24,
     "metadata": {},
     "output_type": "execute_result"
    }
   ],
   "source": [
    "# FEMALE TV ACTRESS\n",
    "\n",
    "url = 'https://query.wikidata.org/sparql'\n",
    "query = \"\"\"\n",
    "SELECT DISTINCT ?personLabel ?twitterName\n",
    "\n",
    "WHERE {\n",
    "  ?person wdt:P31 wd:Q5;\n",
    "          wdt:P106/wdt:P279* wd:Q10798782; #uncomment for    TV actor (don't just use actor)\n",
    "          wdt:P2002 ?twitterName; #uncomment for           twitterName\n",
    "          wdt:P21 wd:Q6581072;    #female\n",
    "  FILTER NOT EXISTS { ?person wdt:P570 ?date. } #person is alive\n",
    "  SERVICE wikibase:label { bd:serviceParam wikibase:language \"[AUTO_LANGUAGE],en\". }\n",
    "}\n",
    "\"\"\"\n",
    "\n",
    "r_tvActress = requests.get(url, params = {'format': 'json', 'query': query})\n",
    "data_tvActress = r_tvActress.json()\n",
    "\n",
    "tvActresses = []\n",
    "for item in data_tvActress['results']['bindings']:\n",
    "    tvActresses.append(OrderedDict(\n",
    "        {'tvActress': item['personLabel']['value'],\n",
    "         'twitterid': item['twitterName']['value']}))\n",
    "df_tvActress = pd.DataFrame(tvactors)\n",
    "df_tvActress.shape\n",
    "# df_tvActress\n"
   ]
  },
  {
   "cell_type": "code",
   "execution_count": 25,
   "metadata": {},
   "outputs": [
    {
     "data": {
      "text/plain": [
       "(8493, 2)"
      ]
     },
     "execution_count": 25,
     "metadata": {},
     "output_type": "execute_result"
    }
   ],
   "source": [
    "# COMPOSER\n",
    "\n",
    "url = 'https://query.wikidata.org/sparql'\n",
    "query = \"\"\"\n",
    "SELECT DISTINCT ?personLabel ?twitterName\n",
    "\n",
    "WHERE {\n",
    "  ?person wdt:P31 wd:Q5;\n",
    "          wdt:P106/wdt:P279* wd:Q36834; #uncomment for       composer (cannot use songwriter)\n",
    "          wdt:P2002 ?twitterName; #uncomment for           twitterName\n",
    "  FILTER NOT EXISTS { ?person wdt:P570 ?date. } #person is alive\n",
    "  SERVICE wikibase:label { bd:serviceParam wikibase:language \"[AUTO_LANGUAGE],en\". }\n",
    "}\n",
    "\"\"\"\n",
    "\n",
    "r_composer = requests.get(url, params = {'format': 'json', 'query': query})\n",
    "data_composer = r_composer.json()\n",
    "\n",
    "composers = []\n",
    "for item in data_composer['results']['bindings']:\n",
    "    composers.append(OrderedDict(\n",
    "        {'composers': item['personLabel']['value'],\n",
    "         'twitterid': item['twitterName']['value']}))\n",
    "df_composer = pd.DataFrame(composers)\n",
    "df_composer.shape\n",
    "# df_composer\n"
   ]
  },
  {
   "cell_type": "code",
   "execution_count": 26,
   "metadata": {},
   "outputs": [
    {
     "data": {
      "text/plain": [
       "(2255, 2)"
      ]
     },
     "execution_count": 26,
     "metadata": {},
     "output_type": "execute_result"
    }
   ],
   "source": [
    "# SCREENWRITER\n",
    "\n",
    "url = 'https://query.wikidata.org/sparql'\n",
    "query = \"\"\"\n",
    "SELECT DISTINCT ?personLabel ?twitterName\n",
    "\n",
    "WHERE {\n",
    "  ?person wdt:P31 wd:Q5;\n",
    "          wdt:P106/wdt:P279* wd:Q28389; #uncomment for       screenwriter\n",
    "          wdt:P2002 ?twitterName; #uncomment for           twitterName\n",
    "  FILTER NOT EXISTS { ?person wdt:P570 ?date. } #person is alive\n",
    "  SERVICE wikibase:label { bd:serviceParam wikibase:language \"[AUTO_LANGUAGE],en\". }\n",
    "}\n",
    "\"\"\"\n",
    "\n",
    "r_screenwriter = requests.get(url, params = {'format': 'json', 'query': query})\n",
    "data_screenwriter = r_screenwriter.json()\n",
    "\n",
    "screenwriters = []\n",
    "for item in data_screenwriter['results']['bindings']:\n",
    "    screenwriters.append(OrderedDict(\n",
    "        {'screenwriters': item['personLabel']['value'],\n",
    "         'twitterid': item['twitterName']['value']}))\n",
    "df_screenwriter = pd.DataFrame(screenwriters)\n",
    "df_screenwriter.shape\n",
    "# df_screenwriter\n"
   ]
  }
 ],
 "metadata": {
  "kernelspec": {
   "display_name": "Python 3",
   "language": "python",
   "name": "python3"
  },
  "language_info": {
   "codemirror_mode": {
    "name": "ipython",
    "version": 3
   },
   "file_extension": ".py",
   "mimetype": "text/x-python",
   "name": "python",
   "nbconvert_exporter": "python",
   "pygments_lexer": "ipython3",
   "version": "3.6.5"
  }
 },
 "nbformat": 4,
 "nbformat_minor": 2
}
