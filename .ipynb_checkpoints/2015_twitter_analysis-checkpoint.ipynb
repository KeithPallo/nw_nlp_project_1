{
 "cells": [
  {
   "cell_type": "code",
   "execution_count": 65,
   "metadata": {},
   "outputs": [],
   "source": [
    "import numpy as np\n",
    "import pandas as pd\n",
    "import matplotlib.pyplot as plt"
   ]
  },
  {
   "cell_type": "code",
   "execution_count": 103,
   "metadata": {},
   "outputs": [
    {
     "name": "stderr",
     "output_type": "stream",
     "text": [
      "[nltk_data] Downloading package stopwords to\n",
      "[nltk_data]     C:\\Users\\keith\\AppData\\Roaming\\nltk_data...\n",
      "[nltk_data]   Package stopwords is already up-to-date!\n"
     ]
    }
   ],
   "source": [
    "import nltk;\n",
    "from nltk.collocations import *;\n",
    "from nltk.tokenize import word_tokenize;\n",
    "from nltk.corpus import stopwords;\n",
    "from nltk.probability import FreqDist\n",
    "from nltk.tokenize import TweetTokenizer\n",
    "nltk.download('stopwords');"
   ]
  },
  {
   "cell_type": "code",
   "execution_count": 7,
   "metadata": {},
   "outputs": [],
   "source": [
    "data_2015 = pd.read_json(\"../gg2015.json\")"
   ]
  },
  {
   "cell_type": "code",
   "execution_count": 67,
   "metadata": {},
   "outputs": [],
   "source": [
    "df_2015 = pd.DataFrame(data_2015)"
   ]
  },
  {
   "cell_type": "code",
   "execution_count": 68,
   "metadata": {},
   "outputs": [
    {
     "data": {
      "text/plain": [
       "array(['id', 'text', 'timestamp_ms', 'user', 'word_count'], dtype=object)"
      ]
     },
     "execution_count": 68,
     "metadata": {},
     "output_type": "execute_result"
    }
   ],
   "source": [
    "df_2015.columns.values"
   ]
  },
  {
   "cell_type": "code",
   "execution_count": 70,
   "metadata": {},
   "outputs": [],
   "source": [
    "df_2015['word_count'] = df_2015['text'].apply(lambda x: len(str(x).split(\" \")));"
   ]
  },
  {
   "cell_type": "code",
   "execution_count": null,
   "metadata": {},
   "outputs": [],
   "source": [
    "# The following cell can be used to get the number of stopwords.\n",
    "# It is pretty slow on a large dataset. "
   ]
  },
  {
   "cell_type": "code",
   "execution_count": null,
   "metadata": {},
   "outputs": [],
   "source": [
    "# stop = stopwords.words('english')\n",
    "# df_2015['stop'] = df_2015['text'].apply(lambda x: ' '.join([x for x in x.split() if x in stop]))\n"
   ]
  },
  {
   "cell_type": "code",
   "execution_count": 15,
   "metadata": {},
   "outputs": [
    {
     "data": {
      "text/plain": [
       "array([[<matplotlib.axes._subplots.AxesSubplot object at 0x000001FD66F125C0>]],\n",
       "      dtype=object)"
      ]
     },
     "execution_count": 15,
     "metadata": {},
     "output_type": "execute_result"
    },
    {
     "data": {
      "image/png": "[encoded data removed]",
      "text/plain": [
       "<Figure size 432x288 with 1 Axes>"
      ]
     },
     "metadata": {
      "needs_background": "light"
     },
     "output_type": "display_data"
    }
   ],
   "source": [
    "df_2015.hist(column=\"word_count\",bins=50,range=(0,50))"
   ]
  },
  {
   "cell_type": "code",
   "execution_count": 41,
   "metadata": {
    "scrolled": true
   },
   "outputs": [
    {
     "data": {
      "text/plain": [
       "array([[<matplotlib.axes._subplots.AxesSubplot object at 0x0000023D5A2BC4E0>]],\n",
       "      dtype=object)"
      ]
     },
     "execution_count": 41,
     "metadata": {},
     "output_type": "execute_result"
    },
    {
     "data": {
      "image/png": "[encoded data removed]",
      "text/plain": [
       "<Figure size 432x288 with 1 Axes>"
      ]
     },
     "metadata": {
      "needs_background": "light"
     },
     "output_type": "display_data"
    }
   ],
   "source": [
    "df_2015.hist(column=\"stopwords\",bins=50,range=(0,50))"
   ]
  },
  {
   "cell_type": "markdown",
   "metadata": {},
   "source": [
    "Potential Preprocessing methods \n",
    "\n",
    "- Lower case\n",
    "- Removing Punctuation\n",
    "- Removal of stop words (may not want for syntatic parsing)\n",
    "- Common Word Removal\n",
    "- Rare Word Removal\n",
    "- Spelling correction (we may be able to use TextBlob) - time intensive\n",
    "- Tokenization (dividing the text into a sequence of words or sentence)​\n",
    "- Stemming (removal of suffices) \n",
    "- Lemmatization\n"
   ]
  },
  {
   "cell_type": "code",
   "execution_count": 79,
   "metadata": {},
   "outputs": [],
   "source": [
    "# Adding on new potential vocabularies to the dataframe\n",
    "df_2015['hash'] = df_2015['text'].apply(lambda x: ' '.join([x for x in x.split() if x[0] in \"#\"]))\n",
    "df_2015['upper_only'] = df_2015['text'].apply(lambda x: ' '.join([x for x in x.split() if x[0].isupper()]))\n",
    "df_2015['mentions'] = df_2015['text'].apply(lambda x: ' '.join([x for x in x.split() if x[0] in \"@\"]))"
   ]
  },
  {
   "cell_type": "code",
   "execution_count": 87,
   "metadata": {},
   "outputs": [],
   "source": [
    "df_2015['text_no_punct'] = df_2015['text'].str.replace('[^\\w\\s]','')"
   ]
  },
  {
   "cell_type": "code",
   "execution_count": 52,
   "metadata": {},
   "outputs": [],
   "source": [
    "def clean_it_1(dataframe,current,target):\n",
    "    \"\"\"\n",
    "    Takes in a dataframe, and appends a cleaned version of the text columnwise\n",
    "    Itype: dataframe (df), current (string), target(string)\n",
    "    Rtype: dataframe  \n",
    "    \"\"\"\n",
    "    # make all lowercase\n",
    "    dataframe[target] = dataframe[current].apply(lambda x: \" \".join(x.lower() for x in x.split()))\n",
    "    \n",
    "    # remove punctuation\n",
    "    dataframe[target] = dataframe[target].str.replace('[^\\w\\s]','')  # Need to check exactly what is removed\n",
    "    \n",
    "    # add in a tokenizen\n",
    "    # dataframe[\"token_clean\"] = dataframe[target].apply(word_tokenize) \n",
    "    return dataframe"
   ]
  },
  {
   "cell_type": "code",
   "execution_count": 96,
   "metadata": {},
   "outputs": [],
   "source": [
    "def single_token(df, target, n=1):\n",
    "   # Setup the vocabulary for the ngrams\n",
    "   single_list = list(df[target])\n",
    "   single_string = ' '.join(map(str, single_list))\n",
    "   tokens = TweekTokenizer()\n",
    "   return tokens.tokenize(single_string)"
   ]
  },
  {
   "cell_type": "code",
   "execution_count": 105,
   "metadata": {},
   "outputs": [],
   "source": [
    "def ngram_dist(tokens,n):\n",
    "    return ngrams(tokens,n)"
   ]
  },
  {
   "cell_type": "code",
   "execution_count": null,
   "metadata": {},
   "outputs": [],
   "source": []
  }
 ],
 "metadata": {
  "kernelspec": {
   "display_name": "Python 3",
   "language": "python",
   "name": "python3"
  },
  "language_info": {
   "codemirror_mode": {
    "name": "ipython",
    "version": 3
   },
   "file_extension": ".py",
   "mimetype": "text/x-python",
   "name": "python",
   "nbconvert_exporter": "python",
   "pygments_lexer": "ipython3",
   "version": "3.7.1"
  }
 },
 "nbformat": 4,
 "nbformat_minor": 2
}
