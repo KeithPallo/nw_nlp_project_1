{
 "cells": [
  {
   "cell_type": "code",
   "execution_count": 4,
   "metadata": {},
   "outputs": [],
   "source": [
    "import numpy as np\n",
    "import pandas as pd\n",
    "import matplotlib.pyplot as plt"
   ]
  },
  {
   "cell_type": "code",
   "execution_count": 5,
   "metadata": {},
   "outputs": [
    {
     "name": "stderr",
     "output_type": "stream",
     "text": [
      "[nltk_data] Downloading package stopwords to\n",
      "[nltk_data]     /Users/keithpallo/nltk_data...\n",
      "[nltk_data]   Package stopwords is already up-to-date!\n"
     ]
    }
   ],
   "source": [
    "import nltk;\n",
    "from nltk.collocations import *;\n",
    "from nltk.tokenize import word_tokenize;\n",
    "from nltk.corpus import stopwords;\n",
    "from nltk.probability import FreqDist\n",
    "from nltk.tokenize import TweetTokenizer\n",
    "from nltk import ngrams\n",
    "nltk.download('stopwords');"
   ]
  },
  {
   "cell_type": "code",
   "execution_count": 6,
   "metadata": {},
   "outputs": [],
   "source": [
    "data_2015 = pd.read_json(\"../gg2015.json\")"
   ]
  },
  {
   "cell_type": "code",
   "execution_count": 8,
   "metadata": {},
   "outputs": [],
   "source": [
    "df_2015 = pd.DataFrame(data_2015)"
   ]
  },
  {
   "cell_type": "code",
   "execution_count": 6,
   "metadata": {},
   "outputs": [
    {
     "data": {
      "text/plain": [
       "array(['id', 'text', 'timestamp_ms', 'user'], dtype=object)"
      ]
     },
     "execution_count": 6,
     "metadata": {},
     "output_type": "execute_result"
    }
   ],
   "source": [
    "df_2015.columns.values"
   ]
  },
  {
   "cell_type": "code",
   "execution_count": 7,
   "metadata": {},
   "outputs": [],
   "source": [
    "df_2015['word_count'] = df_2015['text'].apply(lambda x: len(str(x).split(\" \")));"
   ]
  },
  {
   "cell_type": "code",
   "execution_count": 8,
   "metadata": {},
   "outputs": [],
   "source": [
    "# The following cell can be used to get the number of stopwords.\n",
    "# It is pretty slow on a large dataset. "
   ]
  },
  {
   "cell_type": "code",
   "execution_count": 9,
   "metadata": {},
   "outputs": [],
   "source": [
    "# stop = stopwords.words('english')\n",
    "# df_2015['stop'] = df_2015['text'].apply(lambda x: ' '.join([x for x in x.split() if x in stop]))\n"
   ]
  },
  {
   "cell_type": "code",
   "execution_count": 10,
   "metadata": {},
   "outputs": [
    {
     "data": {
      "text/plain": [
       "array([[<matplotlib.axes._subplots.AxesSubplot object at 0x1a26972390>]],\n",
       "      dtype=object)"
      ]
     },
     "execution_count": 10,
     "metadata": {},
     "output_type": "execute_result"
    },
    {
     "data": {
      "image/png": "[encoded data removed]",
      "text/plain": [
       "<Figure size 432x288 with 1 Axes>"
      ]
     },
     "metadata": {
      "needs_background": "light"
     },
     "output_type": "display_data"
    }
   ],
   "source": [
    "df_2015.hist(column=\"word_count\",bins=50,range=(0,50))"
   ]
  },
  {
   "cell_type": "code",
   "execution_count": 12,
   "metadata": {
    "scrolled": true
   },
   "outputs": [],
   "source": [
    "# df_2015.hist(column=\"stopwords\",bins=50,range=(0,50))"
   ]
  },
  {
   "cell_type": "markdown",
   "metadata": {},
   "source": [
    "Potential Preprocessing methods \n",
    "\n",
    "- Lower case\n",
    "- Removing Punctuation\n",
    "- Removal of stop words (may not want for syntatic parsing)\n",
    "- Common Word Removal\n",
    "- Rare Word Removal\n",
    "- Spelling correction (we may be able to use TextBlob) - time intensive\n",
    "- Tokenization (dividing the text into a sequence of words or sentence)​\n",
    "- Stemming (removal of suffices) \n",
    "- Lemmatization\n"
   ]
  },
  {
   "cell_type": "code",
   "execution_count": 13,
   "metadata": {},
   "outputs": [],
   "source": [
    "# Adding on new potential vocabularies to the dataframe\n",
    "df_2015['hash'] = df_2015['text'].apply(lambda x: ' '.join([x for x in x.split() if x[0] in \"#\"]))\n",
    "df_2015['upper_only'] = df_2015['text'].apply(lambda x: ' '.join([x for x in x.split() if x[0].isupper()]))\n",
    "df_2015['mentions'] = df_2015['text'].apply(lambda x: ' '.join([x for x in x.split() if x[0] in \"@\"]))"
   ]
  },
  {
   "cell_type": "code",
   "execution_count": 14,
   "metadata": {},
   "outputs": [],
   "source": [
    "df_2015['text_no_punct'] = df_2015['text'].str.replace('[^\\w\\s]','')"
   ]
  },
  {
   "cell_type": "code",
   "execution_count": 15,
   "metadata": {},
   "outputs": [],
   "source": [
    "def clean_it_1(dataframe,current,target):\n",
    "    \"\"\"\n",
    "    Takes in a dataframe, and appends a cleaned version of the text columnwise\n",
    "    Itype: dataframe (df), current (string), target(string)\n",
    "    Rtype: dataframe  \n",
    "    \"\"\"\n",
    "    # make all lowercase\n",
    "    dataframe[target] = dataframe[current].apply(lambda x: \" \".join(x.lower() for x in x.split()))\n",
    "    \n",
    "    # remove punctuation\n",
    "    dataframe[target] = dataframe[target].str.replace('[^\\w\\s]','')  # Need to check exactly what is removed\n",
    "    \n",
    "    # add in a tokenizen\n",
    "    # dataframe[\"token_clean\"] = dataframe[target].apply(word_tokenize) \n",
    "    return dataframe"
   ]
  },
  {
   "cell_type": "code",
   "execution_count": 16,
   "metadata": {},
   "outputs": [],
   "source": [
    "def single_token(df, target):\n",
    "   # Setup the vocabulary for the ngrams\n",
    "   single_list = list(df[target])\n",
    "   single_string = ' '.join(map(str, single_list))\n",
    "   tokens = TweetTokenizer()\n",
    "   return tokens.tokenize(single_string)"
   ]
  },
  {
   "cell_type": "code",
   "execution_count": 26,
   "metadata": {},
   "outputs": [],
   "source": [
    "def ngram_make(tokens,n):\n",
    "    return ngrams(tokens,n)"
   ]
  },
  {
   "cell_type": "code",
   "execution_count": 27,
   "metadata": {},
   "outputs": [],
   "source": [
    "def dist_make(df,target,n):\n",
    "    token = single_token(df,target)\n",
    "    \n",
    "    if n != 1:\n",
    "        token = ngram_make(token,n)\n",
    "    \n",
    "    return FreqDist(token)"
   ]
  },
  {
   "cell_type": "code",
   "execution_count": 28,
   "metadata": {},
   "outputs": [],
   "source": [
    "no_punct_tokens = single_token(df_2015,\"text_no_punct\")"
   ]
  },
  {
   "cell_type": "code",
   "execution_count": 29,
   "metadata": {},
   "outputs": [],
   "source": [
    "hash_tokens = single_token(df_2015,\"hash\")\n",
    "upper_only_tokens = single_token(df_2015,\"upper_only\")\n",
    "mention_tokens = single_token(df_2015,\"mentions\")"
   ]
  },
  {
   "cell_type": "code",
   "execution_count": 30,
   "metadata": {},
   "outputs": [],
   "source": [
    "no_punct_bi = ngram_make(no_punct_tokens,2)\n",
    "hash_bi = ngram_make(hash_tokens,2)\n",
    "upper_bi = ngram_make(upper_only_tokens,2)\n",
    "mention_bi = ngram_make(mention_tokens,2)"
   ]
  },
  {
   "cell_type": "code",
   "execution_count": 31,
   "metadata": {},
   "outputs": [],
   "source": [
    "hash_dist = FreqDist(hash_tokens)\n",
    "mention_dist = FreqDist(mention_tokens)\n",
    "upper_bi_dist = FreqDist(upper_bi)\n"
   ]
  },
  {
   "cell_type": "code",
   "execution_count": 32,
   "metadata": {},
   "outputs": [],
   "source": [
    "no_punct_dist = FreqDist(no_punct_tokens)\n",
    "no_punct_bi_dist = FreqDist(no_punct_bi)"
   ]
  },
  {
   "cell_type": "code",
   "execution_count": null,
   "metadata": {},
   "outputs": [],
   "source": [
    "long_dist = dist_make(df_2015,\"text_no_punct\",9)"
   ]
  },
  {
   "cell_type": "code",
   "execution_count": 35,
   "metadata": {},
   "outputs": [
    {
     "data": {
      "text/plain": [
       "[(('GoldenGlobes', 'RT'), 236227),\n",
       " (('Golden', 'Globes'), 230400),\n",
       " (('the', 'GoldenGlobes'), 180176),\n",
       " (('at', 'the'), 166941),\n",
       " (('Golden', 'Globe'), 113072),\n",
       " (('the', 'Golden'), 110927),\n",
       " (('on', 'the'), 108400),\n",
       " (('red', 'carpet'), 101930),\n",
       " (('RT', 'goldenglobes'), 65899),\n",
       " (('in', 'a'), 62183),\n",
       " (('GoldenGlobes', 'httptco'), 56974),\n",
       " (('golden', 'globes'), 52344),\n",
       " (('the', 'red'), 47442),\n",
       " (('of', 'the'), 46749),\n",
       " (('the', 'golden'), 40304),\n",
       " (('and', 'Amy'), 38610),\n",
       " (('Motion', 'Picture'), 37059),\n",
       " (('for', 'the'), 34782),\n",
       " (('Tina', 'Fey'), 33610),\n",
       " (('Globe', 'Awards'), 33480),\n",
       " (('to', 'the'), 33119),\n",
       " (('Red', 'Carpet'), 33019),\n",
       " (('George', 'Clooney'), 32740),\n",
       " (('GoldenGlobes', 'RedCarpet'), 31217),\n",
       " (('goldenglobes', 'Best'), 29220),\n",
       " (('2015', 'Golden'), 25516),\n",
       " (('The', 'Golden'), 25374),\n",
       " (('goes', 'to'), 25278),\n",
       " (('Best', 'Actor'), 24840),\n",
       " (('Globes', '2015'), 24693),\n",
       " (('for', 'Best'), 24362),\n",
       " (('in', 'the'), 24044),\n",
       " (('Amy', 'Poehler'), 23871),\n",
       " (('Actor', 'in'), 23700),\n",
       " (('RT', 'eonline'), 23124),\n",
       " (('golden', 'globe'), 21727),\n",
       " (('GoldenGlobes', 'red'), 21247),\n",
       " (('Tina', 'and'), 21178),\n",
       " (('Lana', 'Del'), 20993),\n",
       " (('GoldenGlobes', '2015'), 20988),\n",
       " (('Congrats', 'to'), 20907),\n",
       " (('from', 'the'), 20778),\n",
       " (('Del', 'Rey'), 20549),\n",
       " (('to', 'be'), 20450),\n",
       " (('the', '2015'), 20366),\n",
       " (('Amy', 'Adams'), 20356),\n",
       " (('RT', 'EW'), 20137),\n",
       " (('RT', 'nbc'), 19606),\n",
       " (('Best', 'Actress'), 19329),\n",
       " (('is', 'the'), 19298),\n",
       " (('a', 'Motion'), 19152),\n",
       " (('Fey', 'and'), 18609),\n",
       " (('Actress', 'in'), 18562),\n",
       " (('Benedict', 'Cumberbatch'), 18219),\n",
       " (('GoldenGlobes', 'win'), 17834),\n",
       " (('Eddie', 'Redmayne'), 17603),\n",
       " (('the', 'goldenglobes'), 17525),\n",
       " (('to', 'see'), 17112),\n",
       " (('Best', 'Supporting'), 17052),\n",
       " (('a', 'Golden'), 16782),\n",
       " (('Congratulations', 'to'), 16723),\n",
       " (('Gina', 'Rodriguez'), 16655),\n",
       " (('for', 'best'), 16649),\n",
       " (('watching', 'the'), 16647),\n",
       " (('Kevin', 'Spacey'), 16416),\n",
       " (('a', 'TV'), 16224),\n",
       " (('goldenglobes', 'RT'), 15724),\n",
       " (('at', 'GoldenGlobes'), 15556),\n",
       " (('http', 'RT'), 15337),\n",
       " (('wins', 'Best'), 15026),\n",
       " (('Picture', 'Drama'), 14965),\n",
       " (('Globe', 'for'), 14835),\n",
       " (('the', 'best'), 14802),\n",
       " (('win', 'for'), 14784),\n",
       " (('is', 'a'), 14664),\n",
       " (('Grand', 'Budapest'), 14460),\n",
       " (('all', 'the'), 14186),\n",
       " (('Matt', 'Bomer'), 14139),\n",
       " (('I', 'love'), 13823),\n",
       " (('EWGlobes', 'GoldenGlobes'), 13652),\n",
       " (('GoldenGlobes', 'I'), 13641),\n",
       " (('Best', 'Original'), 13384),\n",
       " (('oh', 'shit'), 13362),\n",
       " (('Budapest', 'Hotel'), 13076),\n",
       " (('on', 'your'), 13032),\n",
       " (('72nd', 'Annual'), 12898),\n",
       " (('or', 'Musical'), 12679),\n",
       " (('Comedy', 'or'), 12630),\n",
       " (('at', 'Golden'), 12349),\n",
       " (('acceptance', 'speech'), 12328),\n",
       " (('Annual', 'Golden'), 12298),\n",
       " (('Original', 'Song'), 12263),\n",
       " (('Julianne', 'Moore'), 12246),\n",
       " (('Michael', 'Keaton'), 12142),\n",
       " (('RT', 'ddlovato'), 12054),\n",
       " (('RT', 'AppPowerGroup'), 11942),\n",
       " (('This', 'is'), 11917),\n",
       " (('Emma', 'Stone'), 11878),\n",
       " (('won', 'a'), 11704),\n",
       " (('going', 'to'), 11578)]"
      ]
     },
     "execution_count": 35,
     "metadata": {},
     "output_type": "execute_result"
    }
   ],
   "source": [
    "#upper_bi_dist.most_common(100)\n",
    "#mention_dist.most_common(100)\n",
    "#hash_dist.most_common(100)\n",
    "no_punct_bi_dist.most_common(100)\n",
    "#long_dist.most_common(100)"
   ]
  },
  {
   "cell_type": "code",
   "execution_count": null,
   "metadata": {},
   "outputs": [],
   "source": [
    "# df_2015['mentions'] = df_2015['text'].apply(lambda x: ' '.join([x for x in x.split() if x[0] in \"@\"]))"
   ]
  },
  {
   "cell_type": "code",
   "execution_count": 12,
   "metadata": {},
   "outputs": [],
   "source": [
    "def findHosts(data):\n",
    "    include_terms = ['host', 'hosted', 'hosting', 'hosts']\n",
    "    remove_terms = ['next year']\n",
    "    host = [];\n",
    "\n",
    "    for tweet in data['text']:\n",
    "        if any(term in tweet for term in include_terms) and any(term not in tweet for term in remove_terms):\n",
    "            host.append(tweet)            \n",
    "            \n",
    "    bgrams = [];\n",
    "\n",
    "    for tweet in host:\n",
    "        bgrams += list(nltk.bigrams(tweet.split()))\n",
    "        \n",
    "    fdist = nltk.FreqDist(bgrams)\n",
    "    \n",
    "    return fdist"
   ]
  },
  {
   "cell_type": "code",
   "execution_count": 13,
   "metadata": {},
   "outputs": [],
   "source": [
    "def cleanTweets(tweet):\n",
    "    tt = TweetTokenizer(strip_handles=True, reduce_len=True, preserve_case=True)\n",
    "\n",
    "    punctuation = list(string.punctuation)\n",
    "    \n",
    "    # strip stopwords, punctuation, url components \n",
    "    stop = stopwords.words('english') + punctuation + ['t.co', 'http', 'https', '...', '..', ':\\\\', 'RT', '#']\n",
    "\n",
    "    strip_nums = re.sub(\"\\d+\", \"\", tweet)\n",
    "    tokenized = tt.tokenize(strip_nums)\n",
    "    terms_stop = [term for term in tokenized if term not in stop]\n",
    "    cleaned = [term for term in terms_stop]\n",
    "    cleaned = ' '.join(cleaned)\n",
    "    \n",
    "    return cleaned"
   ]
  },
  {
   "cell_type": "code",
   "execution_count": 18,
   "metadata": {},
   "outputs": [
    {
     "data": {
      "text/plain": [
       "array(['id', 'text', 'timestamp_ms', 'user'], dtype=object)"
      ]
     },
     "execution_count": 18,
     "metadata": {},
     "output_type": "execute_result"
    }
   ],
   "source": [
    "df_2015.columns.values"
   ]
  },
  {
   "cell_type": "code",
   "execution_count": 20,
   "metadata": {},
   "outputs": [],
   "source": [
    "fdist_total = findHosts(df_2015)"
   ]
  },
  {
   "cell_type": "code",
   "execution_count": 21,
   "metadata": {},
   "outputs": [
    {
     "name": "stdout",
     "output_type": "stream",
     "text": [
      "[(('and', 'Amy'), 6313), (('Tina', 'Fey'), 5665), (('Amy', 'Poehler'), 5317), (('Fey', 'and'), 4885), (('host', 'the'), 3458), (('the', '#GoldenGlobes'), 2710), (('#GoldenGlobes', 'hosts'), 2607), (('Golden', 'Globes'), 2155), (('in', 'theaters'), 2130), (('#Sisters,', 'in'), 2128), (('not', 'only'), 2023), (('only', '@goldenglobes'), 2022), (('@goldenglobes', 'hosts,'), 2017), (('also', '#Sisters,'), 2017), ((\"they're\", 'also'), 2016), (('hosts,', \"they're\"), 2014), ((\"They're\", 'not'), 2005), (('theaters', 'December'), 2001), (('December', '18,'), 1990), (('18,', '2015.'), 1990), (('RT', '@SistersMovie:'), 1929), (('@SistersMovie:', \"They're\"), 1814), (('2015.', 'http://t.co/r0I88lcRT3'), 1806), (('hosts', 'Tina'), 1798), (('Poehler', 'host'), 1777), (('RT', '@nbc:'), 1689), (('Tina', 'and'), 1643), (('hosting', 'the'), 1575), (('ET', 'on'), 1538), (('on', 'NBC.'), 1507), (('miss', 'Tina'), 1452), (('8pm', 'ET'), 1441), (('to', 'host'), 1434), (('Don’t', 'miss'), 1419), (('#GoldenGlobes', 'at'), 1417), (('at', '8pm'), 1412), (('favorite', 'night'), 1411), (('Hollywood’s', 'favorite'), 1409), (('has', 'arrived!'), 1409), (('night', 'has'), 1408), (('arrived!', 'Don’t'), 1403), (('@nbc:', 'Hollywood’s'), 1400), (('NBC.', 'http://t.co/n…'), 1391), (('Kristen', 'Wiig'), 1331), (('Bill', 'Hader'), 1251), (('RT', '@goldenglobes:'), 1249), (('@goldenglobes:', '#GoldenGlobes'), 1244), (('the', 'Golden'), 1231), (('Poehler', 'look'), 1064), (('they', 'have'), 1064), (('like', 'they'), 1063), (('look', 'like'), 1060), (('have', 'some'), 1054), (('some', 'surprises'), 1052), (('surprises', 'for'), 1046), (('for', 'us'), 1043), (('us', 'tonight.'), 1037), (('hosts', 'look'), 1023), (('tonight.', '#RedCarpet'), 1016), (('look', 'PHENOMENAL!'), 1012), (('#RedCarpet', 'http://t.co/7…'), 1001), (('Our', '#GoldenGlobes'), 809), (('RT', '@nbc'), 801), (('@nbc', 'Our'), 796), (('Queens.', 'RT'), 795), (('Wiig', 'and'), 771), (('and', 'Bill'), 766), (('PHENOMENAL!', 'http://t.co/Rn6gNfLpl7'), 759), (('RT', '@nbcsnl:'), 759), (('@nbcsnl:', 'Queens.'), 759), (('Amy', 'are'), 755), (('the', '2016'), 701), (('of', 'the'), 692), (('&amp;', 'Amy'), 649), (('is', 'the'), 590), (('golden', 'globes'), 566), (('and', 'Tina'), 554), (('Fey', '&amp;'), 513), (('on', 'the'), 511), (('are', 'hosting'), 489), (('should', 'host'), 489), (('the', 'golden'), 479), (('Globes', 'hosts'), 436), (('Hader', 'for'), 434), (('Hader', 'and'), 426), (('if', 'you'), 422), (('and', 'Kristen'), 415), (('RT', 'if'), 411), (('to', 'be'), 403), (('last', 'time'), 392), (('at', 'the'), 390), (('you', 'want'), 384), (('on', 'stage'), 384), (('the', 'last'), 354), (('Amy', 'and'), 353), (('Wiig', 'to'), 353), (('hosts', 'of'), 351), (('this', 'is'), 341), (('Ricky', 'Gervais'), 321), (('2016', '#GoldenGlobes'), 319)]\n"
     ]
    }
   ],
   "source": [
    "print(fdist_total.most_common(100))"
   ]
  },
  {
   "cell_type": "code",
   "execution_count": null,
   "metadata": {},
   "outputs": [],
   "source": [
    "df_15_test = df_2015.set_index('text').filter(regex=\"best|goes to|congradulations to\",axis=0)"
   ]
  },
  {
   "cell_type": "code",
   "execution_count": null,
   "metadata": {},
   "outputs": [],
   "source": []
  }
 ],
 "metadata": {
  "kernelspec": {
   "display_name": "Python 3",
   "language": "python",
   "name": "python3"
  },
  "language_info": {
   "codemirror_mode": {
    "name": "ipython",
    "version": 3
   },
   "file_extension": ".py",
   "mimetype": "text/x-python",
   "name": "python",
   "nbconvert_exporter": "python",
   "pygments_lexer": "ipython3",
   "version": "3.6.8"
  }
 },
 "nbformat": 4,
 "nbformat_minor": 2
}
