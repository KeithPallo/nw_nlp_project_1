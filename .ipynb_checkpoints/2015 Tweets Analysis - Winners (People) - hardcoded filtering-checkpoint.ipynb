{
 "cells": [
  {
   "cell_type": "code",
   "execution_count": 64,
   "metadata": {},
   "outputs": [],
   "source": [
    "import pandas as pd\n",
    "import numpy as np\n",
    "\n",
    "import nltk\n",
    "from nltk.probability import FreqDist\n",
    "from nltk.tokenize import TweetTokenizer\n",
    "from nltk.corpus import stopwords\n",
    "\n",
    "import string\n",
    "import re\n",
    "from collections import Counter"
   ]
  },
  {
   "cell_type": "code",
   "execution_count": 26,
   "metadata": {},
   "outputs": [],
   "source": [
    "data = pd.read_json('gg2013.json')\n",
    "data = pd.DataFrame(data)"
   ]
  },
  {
   "cell_type": "code",
   "execution_count": 27,
   "metadata": {},
   "outputs": [],
   "source": [
    "data = data['text'].values.tolist()"
   ]
  },
  {
   "cell_type": "code",
   "execution_count": 28,
   "metadata": {},
   "outputs": [],
   "source": [
    "#print(data[:10])"
   ]
  },
  {
   "cell_type": "code",
   "execution_count": 29,
   "metadata": {},
   "outputs": [],
   "source": [
    "category_dict = {\n",
    "    'Best Motion Picture – Drama' :  ['best', 'drama', 'movie', 'motion', 'picture'], \n",
    "    'Best Motion Picture – Musical or Comedy' : ['best', 'movie', 'musical', 'comedy', 'motion', 'picture'],\n",
    "    'Best Motion Picture – Foreign Language' : ['best', 'foreign', 'language', 'motion', 'picture'],\n",
    "    'Best Motion Picture – Animated' : ['best', 'animated', 'motion', 'picture'],\n",
    "    'Best Director – Motion Picture' : ['best', 'director', 'motion', 'picture'],\n",
    "    'Best Actor – Motion Picture Drama' : ['best', 'drama', 'actor', 'motion', 'picture'],\n",
    "    'Best Actor – Motion Picture Musical or Comedy' : ['best', 'actor', 'musical', 'comedy', 'motion', 'picture'],\n",
    "    'Best Actress – Motion Picture Drama' : ['best', 'actress', 'drama', 'motion', 'picture'],\n",
    "    'Best Actress – Motion Picture Musical or Comedy' : ['best', 'musical', 'comedy', 'actress', 'motion', 'picture'],\n",
    "    'Best Supporting Actor – Motion Picture' : ['best', 'supporting', 'actor', 'motion', 'picture'],\n",
    "    'Best Supporting Actress – Motion Picture' : ['best', 'supporting', 'actress', 'motion', 'picture'],\n",
    "    'Best Screenplay – Motion Picture' : ['best', 'screenplay', 'motion', 'picture'],\n",
    "    'Best Original Score – Motion Picture' : ['best', 'original', 'score', 'motion', 'picture'],\n",
    "    'Best Original Song – Motion Picture' : ['best', 'original', 'song', 'motion', 'picture'],\n",
    "    'Cecil B. DeMille Award for Lifetime Achievement in Motion Pictures' : ['cecil', 'demille', 'lifetime', 'achievement'],\n",
    "    'Best Television Series – Drama' : ['best', 'television', 'tv', 'series', 'drama'],\n",
    "    'Best Television Series – Musical or Comedy' : ['best', 'television', 'tv', 'series', 'musical', 'comedy'],\n",
    "    'Best Miniseries or Television Film' : ['best', 'television', 'tv', 'film', 'miniseries'],\n",
    "    'Best Actor – Television Series Drama' : ['best', 'actor', 'television', 'drama'],\n",
    "    'Best Actor – Television Series Musical or Comedy' : ['best', 'actor', 'television', 'tv', 'musical', 'comedy'],\n",
    "    'Best Actor – Miniseries or Television Film' : ['best', 'actor', 'miniseries', 'television', 'film'],\n",
    "    'Best Actress – Television Series Drama' : ['best', 'actress', 'television', 'tv', 'drama'],\n",
    "    'Best Actress – Television Series Musical or Comedy' : ['best', 'actress', 'television', 'tv', 'musical', 'comedy'],\n",
    "    'Best Actress – Miniseries or Television Film' : ['best', 'actress', 'mini', 'miniseries', 'television', 'tv'], \n",
    "    'Best Supporting Actor – Series, Miniseries or Television Film' : ['best', 'supporting', 'actor', 'series', 'mini', 'miniseries', 'tv', 'television', 'film'], \n",
    "    'Best Supporting Actress – Series, Miniseries or Television Film' : ['best', 'supporting', 'actress', 'series', 'mini', 'miniseries', 'tv', 'television', 'film'], \n",
    "    'Carol Burnett Award for Achievement in Television' : ['carol', 'burnett', 'television', 'tv']\n",
    "}"
   ]
  },
  {
   "cell_type": "code",
   "execution_count": 56,
   "metadata": {},
   "outputs": [],
   "source": [
    "OFFICIAL_AWARDS_1315 = ['cecil b. demille award', \n",
    "                        'best motion picture - drama', \n",
    "                        'best performance by an actress in a motion picture - drama', \n",
    "                        'best performance by an actor in a motion picture - drama', \n",
    "                        'best motion picture - comedy or musical', \n",
    "                        'best performance by an actress in a motion picture - comedy or musical', \n",
    "                        'best performance by an actor in a motion picture - comedy or musical', \n",
    "                        'best animated feature film', 'best foreign language film', \n",
    "                        'best performance by an actress in a supporting role in a motion picture', \n",
    "                        'best performance by an actor in a supporting role in a motion picture', \n",
    "                        'best director - motion picture', 'best screenplay - motion picture', \n",
    "                        'best original score - motion picture', 'best original song - motion picture', \n",
    "                        'best television series - drama', \n",
    "                        'best performance by an actress in a television series - drama', \n",
    "                        'best performance by an actor in a television series - drama', \n",
    "                        'best television series - comedy or musical', \n",
    "                        'best performance by an actress in a television series - comedy or musical', \n",
    "                        'best performance by an actor in a television series - comedy or musical', \n",
    "                        'best mini-series or motion picture made for television', \n",
    "                        'best performance by an actress in a mini-series or motion picture made for television', \n",
    "                        'best performance by an actor in a mini-series or motion picture made for television', \n",
    "                        'best performance by an actress in a supporting role in a series, mini-series or motion picture made for television', \n",
    "                        'best performance by an actor in a supporting role in a series, mini-series or motion picture made for television']"
   ]
  },
  {
   "cell_type": "code",
   "execution_count": 57,
   "metadata": {},
   "outputs": [],
   "source": [
    "def parseAward(award):\n",
    "    award = re.split('\\W+', award)\n",
    "    award = [i for i in award if i not in stopwords.words('english')]\n",
    "    return award"
   ]
  },
  {
   "cell_type": "code",
   "execution_count": 66,
   "metadata": {},
   "outputs": [],
   "source": [
    "categories_dict = dict()\n",
    "terms_counter = Counter()\n",
    "for a in OFFICIAL_AWARDS_1315:\n",
    "    terms = parseAward(a)\n",
    "    for t in terms:\n",
    "        terms_counter[t] += 1\n",
    "    categories_dict[a] = terms"
   ]
  },
  {
   "cell_type": "code",
   "execution_count": 61,
   "metadata": {
    "scrolled": true
   },
   "outputs": [
    {
     "name": "stdout",
     "output_type": "stream",
     "text": [
      "{'cecil b. demille award': ['cecil', 'b', 'demille', 'award'], 'best motion picture - drama': ['best', 'motion', 'picture', 'drama'], 'best performance by an actress in a motion picture - drama': ['best', 'performance', 'actress', 'motion', 'picture', 'drama'], 'best performance by an actor in a motion picture - drama': ['best', 'performance', 'actor', 'motion', 'picture', 'drama'], 'best motion picture - comedy or musical': ['best', 'motion', 'picture', 'comedy', 'musical'], 'best performance by an actress in a motion picture - comedy or musical': ['best', 'performance', 'actress', 'motion', 'picture', 'comedy', 'musical'], 'best performance by an actor in a motion picture - comedy or musical': ['best', 'performance', 'actor', 'motion', 'picture', 'comedy', 'musical'], 'best animated feature film': ['best', 'animated', 'feature', 'film'], 'best foreign language film': ['best', 'foreign', 'language', 'film'], 'best performance by an actress in a supporting role in a motion picture': ['best', 'performance', 'actress', 'supporting', 'role', 'motion', 'picture'], 'best performance by an actor in a supporting role in a motion picture': ['best', 'performance', 'actor', 'supporting', 'role', 'motion', 'picture'], 'best director - motion picture': ['best', 'director', 'motion', 'picture'], 'best screenplay - motion picture': ['best', 'screenplay', 'motion', 'picture'], 'best original score - motion picture': ['best', 'original', 'score', 'motion', 'picture'], 'best original song - motion picture': ['best', 'original', 'song', 'motion', 'picture'], 'best television series - drama': ['best', 'television', 'series', 'drama'], 'best performance by an actress in a television series - drama': ['best', 'performance', 'actress', 'television', 'series', 'drama'], 'best performance by an actor in a television series - drama': ['best', 'performance', 'actor', 'television', 'series', 'drama'], 'best television series - comedy or musical': ['best', 'television', 'series', 'comedy', 'musical'], 'best performance by an actress in a television series - comedy or musical': ['best', 'performance', 'actress', 'television', 'series', 'comedy', 'musical'], 'best performance by an actor in a television series - comedy or musical': ['best', 'performance', 'actor', 'television', 'series', 'comedy', 'musical'], 'best mini-series or motion picture made for television': ['best', 'mini', 'series', 'motion', 'picture', 'made', 'television'], 'best performance by an actress in a mini-series or motion picture made for television': ['best', 'performance', 'actress', 'mini', 'series', 'motion', 'picture', 'made', 'television'], 'best performance by an actor in a mini-series or motion picture made for television': ['best', 'performance', 'actor', 'mini', 'series', 'motion', 'picture', 'made', 'television'], 'best performance by an actress in a supporting role in a series, mini-series or motion picture made for television': ['best', 'performance', 'actress', 'supporting', 'role', 'series', 'mini', 'series', 'motion', 'picture', 'made', 'television'], 'best performance by an actor in a supporting role in a series, mini-series or motion picture made for television': ['best', 'performance', 'actor', 'supporting', 'role', 'series', 'mini', 'series', 'motion', 'picture', 'made', 'television']}\n"
     ]
    }
   ],
   "source": [
    "print(categories_dict)"
   ]
  },
  {
   "cell_type": "code",
   "execution_count": 67,
   "metadata": {},
   "outputs": [
    {
     "name": "stdout",
     "output_type": "stream",
     "text": [
      "Counter({'best': 25, 'motion': 17, 'picture': 17, 'performance': 14, 'series': 13, 'television': 11, 'actress': 7, 'actor': 7, 'drama': 6, 'comedy': 6, 'musical': 6, 'mini': 5, 'made': 5, 'supporting': 4, 'role': 4, 'film': 2, 'original': 2, 'cecil': 1, 'b': 1, 'demille': 1, 'award': 1, 'animated': 1, 'feature': 1, 'foreign': 1, 'language': 1, 'director': 1, 'screenplay': 1, 'score': 1, 'song': 1})\n"
     ]
    }
   ],
   "source": [
    "print(terms_counter)"
   ]
  },
  {
   "cell_type": "code",
   "execution_count": 30,
   "metadata": {},
   "outputs": [],
   "source": [
    "def filter0(data, list1):\n",
    "    result = []\n",
    "\n",
    "    for tweet in data:\n",
    "        if all(term in tweet.lower() for term in list1):\n",
    "            result.append(tweet)\n",
    "\n",
    "    return result"
   ]
  },
  {
   "cell_type": "code",
   "execution_count": 31,
   "metadata": {},
   "outputs": [],
   "source": [
    "def filter1(data, list1):\n",
    "    result1 = []\n",
    "    result2 = []\n",
    "\n",
    "    for tweet in data:\n",
    "        if any(term in tweet.lower() for term in list1):\n",
    "            result1.append(tweet)\n",
    "        elif all(term not in tweet.lower() for term in list1):\n",
    "            result2.append(tweet)\n",
    "\n",
    "    return result1, result2      "
   ]
  },
  {
   "cell_type": "code",
   "execution_count": 32,
   "metadata": {},
   "outputs": [],
   "source": [
    "def filter2(data, list1, list2):\n",
    "    result1 = []\n",
    "    result2 = []\n",
    "\n",
    "    for tweet in data:\n",
    "        if any(term in tweet.lower() for term in list1) and all(term not in tweet.lower() for term in list2):\n",
    "            result1.append(tweet)\n",
    "        elif any(term in tweet.lower() for term in list2) and all(term not in tweet.lower() for term in list1):\n",
    "            result2.append(tweet)\n",
    "            \n",
    "    return result1, result2"
   ]
  },
  {
   "cell_type": "code",
   "execution_count": 33,
   "metadata": {},
   "outputs": [],
   "source": [
    "def filter3(data, list1, list2, list3):\n",
    "    result1 = []\n",
    "    result2 = []\n",
    "    result3 = []\n",
    "        \n",
    "    for tweet in data:\n",
    "        if any(term in tweet.lower() for term in list1) and all(term not in tweet.lower() for term in list2) and all(term not in tweet.lower() for term in list3):\n",
    "            result1.append(tweet)\n",
    "        elif any(term in tweet.lower() for term in list2) and all(term not in tweet.lower() for term in list1) and all(term not in tweet.lower() for term in list3):\n",
    "            result2.append(tweet)\n",
    "        elif any(term in tweet.lower() for term in list3) and all(term not in tweet.lower() for term in list1) and all(term not in tweet.lower() for term in list2):\n",
    "            result3.append(tweet)\n",
    "            \n",
    "    return result1, result2, result3"
   ]
  },
  {
   "cell_type": "code",
   "execution_count": 77,
   "metadata": {
    "scrolled": true
   },
   "outputs": [],
   "source": [
    "def extractWinner(data, list1):\n",
    "    #print(data[0])\n",
    "    result = []\n",
    "    \n",
    "    tt = TweetTokenizer(strip_handles=True, reduce_len=True, preserve_case=True)\n",
    "    translator = str.maketrans('', '', string.punctuation)\n",
    "\n",
    "    # strip stopwords, punctuation \n",
    "    punctuation = list(string.punctuation)\n",
    "    remove_terms = ['#goldenglobes', 'golden globes', '#goldenglobe', 'golden globe', 'goldenglobes', 'goldenglobe', 'rt', 'golden', 'globe', 'globes']    \n",
    "    stop = remove_terms + list1\n",
    "    \n",
    "    for tweet in data:\n",
    "        #print(tweet)\n",
    "        tweet = re.sub(\"\\d+\", \"\", tweet) #strip nums\n",
    "        tweet = re.sub(r'http\\S+', '', tweet) #strip urls\n",
    "        tweet = re.sub(r'#\\S+', '', tweet) #strip hashtags\n",
    "        #tweet = re.sub(r'[^\\w\\s]', '', tweet) #strip non-alphanumeric characters\n",
    "        tweet = tweet.translate(translator)\n",
    "        tweet = tt.tokenize(tweet) #tokenize\n",
    "        tweet = [term for term in tweet if term.lower() not in stop] #remove stop words\n",
    "        result.append(tweet)\n",
    "        \n",
    "    #print(result[:20])\n",
    "        \n",
    "    bgrams = [];\n",
    "\n",
    "    for tweet in result:\n",
    "        if tweet:\n",
    "            bigram = list(nltk.bigrams(tweet))\n",
    "            #print(bigram[:10])\n",
    "            for bg in bigram:\n",
    "                if bool(re.search('([A-Z][a-z]+)', bg[0])) and bool(re.search('([A-Z][a-z]+)', bg[1])):\n",
    "                    #print(bg[0], bg[1])\n",
    "                    bgrams.append(bg)\n",
    "            #tweet = re.findall('([A-Z][a-z]+)', tweet)\n",
    "            #if tweet:\n",
    "                #bgrams += list(nltk.bigrams(tweet))\n",
    "  \n",
    "    fdist = nltk.FreqDist(bgrams)\n",
    "    #print(fdist)\n",
    "    \n",
    "    try:\n",
    "        temp = fdist.most_common(1)[0][0]\n",
    "        name = ' '.join(temp)\n",
    "    except:\n",
    "        name = \"nothing here\"\n",
    "    \n",
    "    return name"
   ]
  },
  {
   "cell_type": "code",
   "execution_count": 70,
   "metadata": {},
   "outputs": [],
   "source": [
    "def getActorWinners():\n",
    "    # layer 1 - divide people / media\n",
    "    people = ['actor', 'actress']\n",
    "    f1_people, f1_media = filter1(data, people)\n",
    "    \n",
    "    # layer 2 - divide actors+actresses / media\n",
    "    movie = ['motion picture', 'movie']\n",
    "    tv = ['tv', 'television']\n",
    "    f2_movie_people, f2_tv_people = filter2(f1_people, movie, tv)\n",
    "    f2_movie_media, f2_tv_media = filter2(f1_media, movie, tv)\n",
    "    \n",
    "    #layer 3 - divide actors / actresses\n",
    "    f3_tv_actor, f3_tv_actress = filter2(f2_tv_people, ['actor'], ['actress'])\n",
    "    f3_movie_actor, f3_movie_actress = filter2(f2_movie_people, ['actor'], ['actress'])\n",
    "     \n",
    "    # layer 4 - divide main / supporting actors\n",
    "    f4_movie_actor_supporting, f4_movie_actor_main = filter1(f3_movie_actor, ['supporting'])\n",
    "    f4_movie_actress_supporting, f4_movie_actress_main = filter1(f3_movie_actress, ['supporting'])\n",
    "    f4_tv_actor_supporting, f4_tv_actor_main = filter1(f3_tv_actor, ['supporting'])\n",
    "    f4_tv_actress_supporting, f4_tv_actress_main = filter1(f3_tv_actress, ['supporting'])\n",
    "    \n",
    "    # layer 5.1 - for main movie actors, divide drama / comedy or musical\n",
    "    f5_movie_actor_main_drama, f5_movie_actor_main_musical_comedy = filter2(f4_movie_actor_main, ['drama'], ['musical', 'comedy'])\n",
    "    f5_movie_actress_main_drama, f5_movie_actress_main_musical_comedy = filter2(f4_movie_actress_main, ['drama'], ['musical', 'comedy'])\n",
    "    \n",
    "    # layer 5.2 - for main tv actors, divide drama / comedy or musical / miniseries or film\n",
    "    f5_tv_actor_main_drama, f5_tv_actor_main_musical_comedy, f5_tv_actor_main_mini_film = filter3(f4_tv_actor_main, ['drama'], ['musical', 'comedy'], ['miniseries', 'film', 'movie'])\n",
    "    f5_tv_actress_main_drama, f5_tv_actress_main_musical_comedy, f5_tv_actress_main_mini_film = filter3(f4_tv_actress_main, ['drama'], ['musical', 'comedy'], ['miniseries', 'film', 'movie'])\n",
    "    \n",
    "    director = filter0(data, ['director'])\n",
    "    screenplay = filter0(data, ['screenplay'])\n",
    "    original_score = filter0(data, ['original', 'score'])\n",
    "    cecil_demille = filter0(data, ['cecil', 'demille'])\n",
    "    #carol_burnett = filter0(f1_people, ['carol', 'burnett'])\n",
    "    \n",
    "    winners = {\n",
    "        'Best Actor – Motion Picture Drama' : extractWinner(f5_movie_actor_main_drama, category_dict['Best Actor – Motion Picture Drama']),\n",
    "        'Best Actor – Motion Picture Musical or Comedy' : extractWinner(f5_movie_actor_main_musical_comedy, category_dict['Best Actor – Motion Picture Musical or Comedy']),\n",
    "        'Best Actress – Motion Picture Drama' : extractWinner(f5_movie_actress_main_drama, category_dict['Best Actress – Motion Picture Drama']),\n",
    "        'Best Actress – Motion Picture Musical or Comedy' : extractWinner(f5_movie_actress_main_musical_comedy, category_dict['Best Actress – Motion Picture Musical or Comedy']),\n",
    "        'Best Supporting Actor – Motion Picture' : extractWinner(f4_movie_actor_supporting, category_dict['Best Supporting Actor – Motion Picture']),\n",
    "        'Best Supporting Actress – Motion Picture' : extractWinner(f4_movie_actress_supporting, category_dict['Best Supporting Actress – Motion Picture']),\n",
    "        'Best Actor – Television Series Drama' : extractWinner(f5_tv_actor_main_drama, category_dict['Best Actor – Television Series Drama']),\n",
    "        'Best Actor – Television Series Musical or Comedy' : extractWinner(f5_tv_actor_main_musical_comedy, category_dict['Best Actor – Television Series Musical or Comedy']),\n",
    "        'Best Actor – Miniseries or Television Film' : extractWinner(f5_tv_actor_main_mini_film, category_dict['Best Actor – Miniseries or Television Film']),\n",
    "        'Best Actress – Television Series Drama' : extractWinner(f5_tv_actress_main_drama, category_dict['Best Actress – Television Series Drama']),\n",
    "        'Best Actress – Television Series Musical or Comedy' : extractWinner(f5_tv_actress_main_musical_comedy, category_dict['Best Actress – Television Series Musical or Comedy']),\n",
    "        'Best Actress – Miniseries or Television Film' : extractWinner(f5_tv_actress_main_mini_film, category_dict['Best Actress – Miniseries or Television Film']), \n",
    "        'Best Supporting Actor – Series, Miniseries or Television Film' : extractWinner(f4_tv_actor_supporting, category_dict['Best Supporting Actor – Series, Miniseries or Television Film']), \n",
    "        'Best Supporting Actress – Series, Miniseries or Television Film' : extractWinner(f4_tv_actress_supporting, category_dict['Best Supporting Actress – Series, Miniseries or Television Film']),\n",
    "        'Best Director – Motion Picture' : extractWinner(director, category_dict['Best Director – Motion Picture']),\n",
    "        'Best Screenplay – Motion Picture' : extractWinner(screenplay, category_dict['Best Screenplay – Motion Picture']),\n",
    "        'Best Original Score – Motion Picture' : extractWinner(original_score, category_dict['Best Original Score – Motion Picture']),\n",
    "        'Cecil B. DeMille Award for Lifetime Achievement in Motion Pictures' : extractWinner(cecil_demille, category_dict['Cecil B. DeMille Award for Lifetime Achievement in Motion Pictures'])\n",
    "    }\n",
    "    \n",
    "    return winners\n",
    "    "
   ]
  },
  {
   "cell_type": "code",
   "execution_count": 79,
   "metadata": {
    "scrolled": true
   },
   "outputs": [
    {
     "name": "stdout",
     "output_type": "stream",
     "text": [
      "2.7034270580006705\n"
     ]
    }
   ],
   "source": [
    "import timeit\n",
    "start_time = timeit.default_timer()\n",
    "getActorWinners()\n",
    "elapsed = timeit.default_timer() - start_time\n",
    "print(elapsed)"
   ]
  },
  {
   "cell_type": "code",
   "execution_count": 80,
   "metadata": {},
   "outputs": [
    {
     "data": {
      "text/plain": [
       "{'Best Actor – Motion Picture Drama': 'Daniel DayLewis',\n",
       " 'Best Actor – Motion Picture Musical or Comedy': 'Hugh Jackman',\n",
       " 'Best Actress – Motion Picture Drama': 'Jessica Chastain',\n",
       " 'Best Actress – Motion Picture Musical or Comedy': 'Jennifer Lawrence',\n",
       " 'Best Supporting Actor – Motion Picture': 'Christoph Waltz',\n",
       " 'Best Supporting Actress – Motion Picture': 'Anne Hathaway',\n",
       " 'Best Actor – Television Series Drama': 'Damian Lewis',\n",
       " 'Best Actor – Television Series Musical or Comedy': 'Don Cheadle',\n",
       " 'Best Actor – Miniseries or Television Film': 'Kevin Costner',\n",
       " 'Best Actress – Television Series Drama': 'Claire Danes',\n",
       " 'Best Actress – Television Series Musical or Comedy': 'Lena Dunham',\n",
       " 'Best Actress – Miniseries or Television Film': 'Winner isJulianne',\n",
       " 'Best Supporting Actor – Series, Miniseries or Television Film': 'Ed Harris',\n",
       " 'Best Supporting Actress – Series, Miniseries or Television Film': 'Maggie Smith',\n",
       " 'Best Director – Motion Picture': 'Ben Affleck',\n",
       " 'Best Screenplay – Motion Picture': 'Quentin Tarantino',\n",
       " 'Best Original Score – Motion Picture': 'Mychael Danna',\n",
       " 'Cecil B. DeMille Award for Lifetime Achievement in Motion Pictures': 'Jodie Foster'}"
      ]
     },
     "execution_count": 80,
     "metadata": {},
     "output_type": "execute_result"
    }
   ],
   "source": [
    "getActorWinners()"
   ]
  }
 ],
 "metadata": {
  "kernelspec": {
   "display_name": "Python 3",
   "language": "python",
   "name": "python3"
  },
  "language_info": {
   "codemirror_mode": {
    "name": "ipython",
    "version": 3
   },
   "file_extension": ".py",
   "mimetype": "text/x-python",
   "name": "python",
   "nbconvert_exporter": "python",
   "pygments_lexer": "ipython3",
   "version": "3.7.0"
  }
 },
 "nbformat": 4,
 "nbformat_minor": 2
}
