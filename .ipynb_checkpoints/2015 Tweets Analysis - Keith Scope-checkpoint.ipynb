{
 "cells": [
  {
   "cell_type": "code",
   "execution_count": 12,
   "metadata": {},
   "outputs": [],
   "source": [
    "import pandas as pd\n",
    "import numpy as np\n",
    "\n",
    "import nltk\n",
    "from nltk.probability import FreqDist\n",
    "from nltk.tokenize import TweetTokenizer\n",
    "from nltk.corpus import stopwords\n",
    "from stop_words import get_stop_words\n",
    "\n",
    "import string\n",
    "import re\n",
    "from collections import Counter\n",
    "from collections import OrderedDict\n",
    "import unidecode\n",
    "import requests\n",
    "import pprint\n",
    "import json"
   ]
  },
  {
   "cell_type": "code",
   "execution_count": 10,
   "metadata": {},
   "outputs": [],
   "source": [
    "def main_exec(kb_p,kb_m):\n",
    "    \"\"\"\n",
    "    Main execution file - how you run the program\n",
    "    Itype: kb_p and kb_m are sets for our built KB's\n",
    "    \"\"\"\n",
    "    \n",
    "    # Call host search function\n",
    "    # // To Do // - Insert function call (should write to JSON / return a variable to write later )\n",
    "    \n",
    "    # Call award entity recognition function\n",
    "    # // To Do // - Insert function call (should write to JSON / return a variable to write later)\n",
    "    \n",
    "    # Set a variable to the hardcoded list\n",
    "    hardcoded = GG_OFFICIAL_AWARDS\n",
    "    \n",
    "    # Segment out awards award categories\n",
    "    people_awards, media_awards = seperateAwards(hardcoded)\n",
    "    \n",
    "    \n",
    "    ## Functions below need to return a dictionary with following structure\n",
    "    ## Key 1: Award Name, Value: Dictionary\n",
    "    ## Key 2: [ Nominees, Winners, Presenters] \n",
    "    \n",
    "    \n",
    "    # Call people award search function - winner, nominee, presenter (potentially swap last two)\n",
    "    ## // To DO // - Insert function call (only write to easy_comp now)\n",
    "    \n",
    "    \n",
    "    # Call people award search function - winner, nominee, presenter (potentially swap last two)\n",
    "    ## // To DO // - Insert function call ( only write to easy_comp now)\n",
    "    \n",
    "    \n",
    "    # Merge dictionaries from two above functions\n",
    "    # Return single dict for easy_comp"
   ]
  },
  {
   "cell_type": "code",
   "execution_count": 13,
   "metadata": {},
   "outputs": [],
   "source": [
    "with open('gg2015answers.json') as f:\n",
    "    answers = json.load(f)\n",
    "    \n",
    "true_dict = answers['award_data'] # use this for true dict in the below function"
   ]
  },
  {
   "cell_type": "code",
   "execution_count": 14,
   "metadata": {},
   "outputs": [],
   "source": [
    "# from pprint import pprint\n",
    "\n",
    "def easy_comp(award_list,true_dict,our_dict):\n",
    "        \n",
    "    # Input \n",
    "    # Dict of dictionaries \n",
    "    # Keys - Award Name\n",
    "    # Values - Dictionary with keys (nominees, presenters, winner)\n",
    "    \n",
    "    # Output\n",
    "    # Nested List (some elements are dictionarys)\n",
    "\n",
    "    output = []\n",
    "\n",
    "    for award in award_list:\n",
    "        output.append([award,[\"Guess\",true_dict[award]],[[\"True\",true_dict[award]]]])\n",
    "\n",
    "    \n",
    "    return output\n",
    "\n",
    "# For easy printing use pprint. It works nicely for updated comparison"
   ]
  },
  {
   "cell_type": "code",
   "execution_count": 19,
   "metadata": {},
   "outputs": [],
   "source": [
    "data = pd.read_json('../gg2015.json')\n",
    "data = pd.DataFrame(data)"
   ]
  },
  {
   "cell_type": "code",
   "execution_count": 20,
   "metadata": {},
   "outputs": [],
   "source": [
    "data = data['text'].values.tolist()"
   ]
  },
  {
   "cell_type": "code",
   "execution_count": 21,
   "metadata": {},
   "outputs": [],
   "source": [
    "people = set()"
   ]
  },
  {
   "cell_type": "code",
   "execution_count": 22,
   "metadata": {},
   "outputs": [],
   "source": [
    "url = 'https://query.wikidata.org/sparql'\n",
    "query = \"\"\"\n",
    "# ALL PERSONS required for awards\n",
    "SELECT DISTINCT ?person ?personLabel WHERE {\n",
    "# FIRST: uncomment occupation:\n",
    "  ?person wdt:P31 wd:Q5;\n",
    "           wdt:P106/wdt:P279* wd:Q2526255; #uncomment for     FILM director (no award for TV director)\n",
    "  FILTER NOT EXISTS { ?person wdt:P570 ?date. } #person is alive\n",
    "  \n",
    "# SECOND: uncomment gender if applicable (for actor/actress):\n",
    "#          wdt:P21 wd:Q6581097;    #male\n",
    "#          wdt:P21 wd:Q6581072;    #female\n",
    "  SERVICE wikibase:label { bd:serviceParam wikibase:language \"[AUTO_LANGUAGE],en\". }\n",
    "}\n",
    "\"\"\"\n",
    "r = requests.get(url, params = {'format': 'json', 'query': query})\n",
    "kb = r.json()\n",
    "for item in kb['results']['bindings']:\n",
    "    people.add(unidecode.unidecode(item['personLabel']['value']))"
   ]
  },
  {
   "cell_type": "code",
   "execution_count": 50,
   "metadata": {},
   "outputs": [],
   "source": [
    "url = 'https://query.wikidata.org/sparql'\n",
    "query = \"\"\"\n",
    "# ALL PERSONS required for awards\n",
    "SELECT DISTINCT ?person ?personLabel WHERE {\n",
    "# FIRST: uncomment occupation:\n",
    "  ?person wdt:P31 wd:Q5;\n",
    "           wdt:P106/wdt:P279* wd:Q10800557; #uncomment for    FILM actor (don't just use actor)\n",
    "  FILTER NOT EXISTS { ?person wdt:P570 ?date. } #person is alive\n",
    "  \n",
    "# SECOND: uncomment gender if applicable (for actor/actress):\n",
    "#          wdt:P21 wd:Q6581097;    #male\n",
    "#          wdt:P21 wd:Q6581072;    #female\n",
    "  SERVICE wikibase:label { bd:serviceParam wikibase:language \"[AUTO_LANGUAGE],en\". }\n",
    "}\n",
    "\"\"\"\n",
    "r = requests.get(url, params = {'format': 'json', 'query': query})\n",
    "kb = r.json()\n",
    "for item in kb['results']['bindings']:\n",
    "    people.add(unidecode.unidecode(item['personLabel']['value']))"
   ]
  },
  {
   "cell_type": "code",
   "execution_count": 29,
   "metadata": {},
   "outputs": [],
   "source": [
    "url = 'https://query.wikidata.org/sparql'\n",
    "query = \"\"\"\n",
    "# ALL PERSONS required for awards\n",
    "SELECT DISTINCT ?person ?personLabel WHERE {\n",
    "# FIRST: uncomment occupation:\n",
    "  ?person wdt:P31 wd:Q5;\n",
    "           wdt:P106/wdt:P279* wd:Q10798782; #uncomment for    TV actor (don't just use actor)\n",
    "  FILTER NOT EXISTS { ?person wdt:P570 ?date. } #person is alive\n",
    "  \n",
    "# SECOND: uncomment gender if applicable (for actor/actress):\n",
    "#          wdt:P21 wd:Q6581097;    #male\n",
    "#          wdt:P21 wd:Q6581072;    #female\n",
    "  SERVICE wikibase:label { bd:serviceParam wikibase:language \"[AUTO_LANGUAGE],en\". }\n",
    "}\n",
    "\"\"\"\n",
    "r = requests.get(url, params = {'format': 'json', 'query': query})\n",
    "kb = r.json()\n",
    "for item in kb['results']['bindings']:\n",
    "    people.add(unidecode.unidecode(item['personLabel']['value']))"
   ]
  },
  {
   "cell_type": "code",
   "execution_count": 30,
   "metadata": {},
   "outputs": [],
   "source": [
    "url = 'https://query.wikidata.org/sparql'\n",
    "query = \"\"\"\n",
    "# ALL PERSONS required for awards\n",
    "SELECT DISTINCT ?person ?personLabel WHERE {\n",
    "# FIRST: uncomment occupation:\n",
    "  ?person wdt:P31 wd:Q5;\n",
    "           wdt:P106/wdt:P279* wd:Q36834; #uncomment for       composer (cannot use songwriter)\n",
    "  FILTER NOT EXISTS { ?person wdt:P570 ?date. } #person is alive\n",
    "  \n",
    "# SECOND: uncomment gender if applicable (for actor/actress):\n",
    "#          wdt:P21 wd:Q6581097;    #male\n",
    "#          wdt:P21 wd:Q6581072;    #female\n",
    "  SERVICE wikibase:label { bd:serviceParam wikibase:language \"[AUTO_LANGUAGE],en\". }\n",
    "}\n",
    "\"\"\"\n",
    "r = requests.get(url, params = {'format': 'json', 'query': query})\n",
    "kb = r.json()\n",
    "for item in kb['results']['bindings']:\n",
    "    people.add(unidecode.unidecode(item['personLabel']['value']))"
   ]
  },
  {
   "cell_type": "code",
   "execution_count": 31,
   "metadata": {},
   "outputs": [],
   "source": [
    "url = 'https://query.wikidata.org/sparql'\n",
    "query = \"\"\"\n",
    "SELECT DISTINCT ?person ?personLabel WHERE {\n",
    "  ?person wdt:P31 wd:Q5;\n",
    "  wdt:P106/wdt:P279* wd:Q28389;                 #person is a screenwriter\n",
    "  FILTER NOT EXISTS { ?person wdt:P570 ?date. } #person is alive\n",
    "  SERVICE wikibase:label { bd:serviceParam wikibase:language \"[AUTO_LANGUAGE],en\". }\n",
    "}\n",
    "\"\"\"\n",
    "r = requests.get(url, params = {'format': 'json', 'query': query})\n",
    "kb = r.json()\n",
    "for item in kb['results']['bindings']:\n",
    "    people.add(unidecode.unidecode(item['personLabel']['value']))"
   ]
  },
  {
   "cell_type": "code",
   "execution_count": 32,
   "metadata": {},
   "outputs": [],
   "source": [
    "f = open('english.txt', 'r')\n",
    "stop_words = f.read().splitlines()\n",
    "#print(stopwords)"
   ]
  },
  {
   "cell_type": "code",
   "execution_count": 33,
   "metadata": {},
   "outputs": [],
   "source": [
    "OFFICIAL_AWARDS_1315 = ['cecil b. demille award',\n",
    "                        'best performance by an actress in a motion picture - drama', \n",
    "                        'best performance by an actor in a motion picture - drama',\n",
    "                        'best performance by an actress in a motion picture - comedy or musical', \n",
    "                        'best performance by an actor in a motion picture - comedy or musical',\n",
    "                        'best performance by an actress in a supporting role in a motion picture', \n",
    "                        'best performance by an actor in a supporting role in a motion picture', \n",
    "                        'best director - motion picture', \n",
    "                        'best screenplay - motion picture', \n",
    "                        'best original score - motion picture',\n",
    "                        'best performance by an actress in a television series - drama', \n",
    "                        'best performance by an actor in a television series - drama',\n",
    "                        'best performance by an actress in a television series - comedy or musical', \n",
    "                        'best performance by an actor in a television series - comedy or musical', \n",
    "                        'best performance by an actress in a mini-series or motion picture made for television', \n",
    "                        'best performance by an actor in a mini-series or motion picture made for television', \n",
    "                        'best performance by an actress in a supporting role in a series, mini-series or motion picture made for television', \n",
    "                        'best performance by an actor in a supporting role in a series, mini-series or motion picture made for television']"
   ]
  },
  {
   "cell_type": "code",
   "execution_count": 34,
   "metadata": {},
   "outputs": [],
   "source": [
    "def parseAward(award):\n",
    "    award = re.split('\\W+', award)\n",
    "    award = [i for i in award if i not in stop_words]\n",
    "    return award"
   ]
  },
  {
   "cell_type": "code",
   "execution_count": 35,
   "metadata": {},
   "outputs": [],
   "source": [
    "def getCategoriesDict():\n",
    "    categories_dict = dict()\n",
    "    for a in OFFICIAL_AWARDS_1315:\n",
    "        terms = parseAward(a)\n",
    "        categories_dict[a] = terms\n",
    "\n",
    "    return categories_dict"
   ]
  },
  {
   "cell_type": "code",
   "execution_count": 36,
   "metadata": {},
   "outputs": [],
   "source": [
    "categories_dict = getCategoriesDict()"
   ]
  },
  {
   "cell_type": "code",
   "execution_count": 37,
   "metadata": {},
   "outputs": [],
   "source": [
    "def filter0(data, list1):\n",
    "    result = []\n",
    "    \n",
    "    list1 = [i for i in list1 if i != 'performance' and i != 'role']\n",
    "\n",
    "    for tweet in data:\n",
    "        if all(term in tweet.lower() for term in list1):\n",
    "            result.append(tweet)\n",
    "\n",
    "    return result"
   ]
  },
  {
   "cell_type": "code",
   "execution_count": 38,
   "metadata": {
    "scrolled": true
   },
   "outputs": [],
   "source": [
    "def extractNominees(data, list1):\n",
    "    #print(data[0])\n",
    "    result = []\n",
    "       \n",
    "    #tt = TweetTokenizer(strip_handles=True, reduce_len=True, preserve_case=True)\n",
    "    translator = str.maketrans('', '', string.punctuation)\n",
    "    remove_terms = ['#goldenglobes', 'golden globes', '#goldenglobe', 'golden globe', 'goldenglobes', 'goldenglobe', 'rt', 'golden', 'globe', 'globes']    \n",
    "    stop = remove_terms + list1\n",
    "    \n",
    "    for tweet in data:\n",
    "        #print(tweet)\n",
    "        tweet = re.sub(\"\\d+\", \"\", tweet) #strip nums\n",
    "        tweet = re.sub(r'http\\S+', '', tweet) #strip urls\n",
    "        tweet = re.sub(r'#\\S+', '', tweet) #strip hashtags\n",
    "        tweet = tweet.translate(translator) #strip non-alphanumeric characters\n",
    "        tweet = tweet.split() #tokenize\n",
    "        tweet = [term for term in tweet if term.lower() not in stop_words] #remove stop words\n",
    "        for i in stop:\n",
    "            for j in tweet:\n",
    "                if i.lower() in j.lower():\n",
    "                    tweet.remove(j)\n",
    "        result.append(tweet)\n",
    "        \n",
    "    #print(result[:20])\n",
    "        \n",
    "    grams = [];\n",
    "\n",
    "    for tweet in result:\n",
    "        if tweet:\n",
    "            gram = list(nltk.everygrams(tweet, 2, 3))\n",
    "            #print(bigram[:10])\n",
    "            for g in gram:\n",
    "                if len(g) == 2:\n",
    "                    if bool(re.match(r'\\b[A-Z][a-z]+\\b', g[0])) and bool(re.match(r'\\b[A-Z][a-z]+\\b', g[1])):\n",
    "                        grams.append(g)\n",
    "                else:\n",
    "                    if bool(re.match(r'\\b[A-Z][a-z]+\\b', g[0])) and bool(re.match(r'\\b[A-Z][a-z]+\\b', g[1])) and bool(re.match(r'\\b[A-Z][a-z]+\\b', g[2])):\n",
    "                        grams.append(g)\n",
    "\n",
    "  \n",
    "    fdist = nltk.FreqDist(grams)\n",
    "    #print(fdist)\n",
    "\n",
    "    try:\n",
    "        names = fdist.most_common()\n",
    "        #names = [' '.join(i[0]) for i in fdist.most_common()]\n",
    "    except:\n",
    "        names = \"nothing here\"\n",
    "    \n",
    "    return names"
   ]
  },
  {
   "cell_type": "code",
   "execution_count": 39,
   "metadata": {},
   "outputs": [],
   "source": [
    "def getNominees():\n",
    "    d = {}\n",
    "    for award in OFFICIAL_AWARDS_1315:\n",
    "        d[\"{0}\".format(award)] = filter0(data, categories_dict[award])\n",
    "            \n",
    "    nominees = {}\n",
    "    for award in OFFICIAL_AWARDS_1315:\n",
    "        nominees[\"{0}\".format(award)] = extractNominees(d[award], categories_dict[award])\n",
    "    \n",
    "    return nominees"
   ]
  },
  {
   "cell_type": "code",
   "execution_count": 40,
   "metadata": {
    "scrolled": true
   },
   "outputs": [
    {
     "name": "stdout",
     "output_type": "stream",
     "text": [
      "49.92216880700016\n"
     ]
    }
   ],
   "source": [
    "import timeit\n",
    "start_time = timeit.default_timer()\n",
    "getNominees()\n",
    "elapsed = timeit.default_timer() - start_time\n",
    "print(elapsed)"
   ]
  },
  {
   "cell_type": "code",
   "execution_count": 41,
   "metadata": {
    "scrolled": true
   },
   "outputs": [],
   "source": [
    "nominees = getNominees()"
   ]
  },
  {
   "cell_type": "code",
   "execution_count": 42,
   "metadata": {},
   "outputs": [
    {
     "data": {
      "text/plain": [
       "dict_keys(['cecil b. demille award', 'best performance by an actress in a motion picture - drama', 'best performance by an actor in a motion picture - drama', 'best performance by an actress in a motion picture - comedy or musical', 'best performance by an actor in a motion picture - comedy or musical', 'best performance by an actress in a supporting role in a motion picture', 'best performance by an actor in a supporting role in a motion picture', 'best director - motion picture', 'best screenplay - motion picture', 'best original score - motion picture', 'best performance by an actress in a television series - drama', 'best performance by an actor in a television series - drama', 'best performance by an actress in a television series - comedy or musical', 'best performance by an actor in a television series - comedy or musical', 'best performance by an actress in a mini-series or motion picture made for television', 'best performance by an actor in a mini-series or motion picture made for television', 'best performance by an actress in a supporting role in a series, mini-series or motion picture made for television', 'best performance by an actor in a supporting role in a series, mini-series or motion picture made for television'])"
      ]
     },
     "execution_count": 42,
     "metadata": {},
     "output_type": "execute_result"
    }
   ],
   "source": [
    "nominees.keys()"
   ]
  },
  {
   "cell_type": "code",
   "execution_count": 43,
   "metadata": {},
   "outputs": [],
   "source": [
    "def compareToKB(nominees):\n",
    "    final_nominees = {}\n",
    "        \n",
    "    for i in nominees:\n",
    "        award_nominees = []\n",
    "        \n",
    "        for j in nominees[i]:\n",
    "            name = ' '.join(j[0])\n",
    "            if name in people:\n",
    "                award_nominees.append(name)\n",
    "        \n",
    "        final_nominees[i] = award_nominees\n",
    "        \n",
    "    return final_nominees"
   ]
  },
  {
   "cell_type": "code",
   "execution_count": 51,
   "metadata": {},
   "outputs": [],
   "source": [
    "nominees_dict = compareToKB(nominees)"
   ]
  },
  {
   "cell_type": "code",
   "execution_count": 52,
   "metadata": {},
   "outputs": [
    {
     "data": {
      "text/plain": [
       "{'cecil b. demille award': ['George Clooney',\n",
       "  'Julianna Margulies',\n",
       "  'Alejandro Gonzalez Inarritu',\n",
       "  'Liza Minnelli',\n",
       "  'Michael Keaton',\n",
       "  'Meryl Streep',\n",
       "  'Jim Carrey',\n",
       "  'Jodie Foster',\n",
       "  'Gary Busey',\n",
       "  'Pia Zadora',\n",
       "  'Kevin Spacey',\n",
       "  'Matt Damon',\n",
       "  'Dakota Fanning',\n",
       "  'Angelina Jolie',\n",
       "  'Richard Linklater'],\n",
       " 'best performance by an actress in a motion picture - drama': ['Julianne Moore',\n",
       "  'Jennifer Aniston',\n",
       "  'Rosamund Pike',\n",
       "  'Patricia Arquette',\n",
       "  'Eddie Redmayne',\n",
       "  'Reese Witherspoon',\n",
       "  'Felicity Jones',\n",
       "  'Shailene Woodley',\n",
       "  'Amy Adams'],\n",
       " 'best performance by an actor in a motion picture - drama': ['Eddie Redmayne',\n",
       "  'David Oyelowo',\n",
       "  'Benedict Cumberbatch',\n",
       "  'Jake Gyllenhaal',\n",
       "  'Michael Keaton',\n",
       "  'Julianne Moore',\n",
       "  'Gwyneth Paltrow',\n",
       "  'Steve Carell',\n",
       "  'Jennifer Aniston',\n",
       "  'George Clooney'],\n",
       " 'best performance by an actress in a motion picture - comedy or musical': ['Amy Adams',\n",
       "  'Patricia Arquette',\n",
       "  'Emily Blunt',\n",
       "  'Helen Mirren',\n",
       "  'Ricky Gervais',\n",
       "  'Julianne Moore',\n",
       "  'Quvenzhane Wallis',\n",
       "  'Meryl Streep',\n",
       "  'Lana Parrilla'],\n",
       " 'best performance by an actor in a motion picture - comedy or musical': ['Michael Keaton',\n",
       "  'Amy Adams',\n",
       "  'Ralph Fiennes',\n",
       "  'Joaquin Phoenix',\n",
       "  'Christoph Waltz',\n",
       "  'Jeffrey Tambor',\n",
       "  'Jamie Foxx',\n",
       "  'Wes Anderson'],\n",
       " 'best performance by an actress in a supporting role in a motion picture': ['Patricia Arquette',\n",
       "  'Keira Knightley',\n",
       "  'Emma Stone',\n",
       "  'Jessica Chastain',\n",
       "  'Jared Leto',\n",
       "  'Meryl Streep',\n",
       "  'Uzo Aduba',\n",
       "  'Amy Adams',\n",
       "  'Hans Zimmer',\n",
       "  'Richard Linklater'],\n",
       " 'best performance by an actor in a supporting role in a motion picture': ['Lorne Michaels',\n",
       "  'Matt Bomer',\n",
       "  'Mark Ruffalo',\n",
       "  'Jennifer Aniston',\n",
       "  'Ethan Hawke',\n",
       "  'Benedict Cumberbatch',\n",
       "  'Patricia Arquette'],\n",
       " 'best director - motion picture': ['Richard Linklater',\n",
       "  'Ellar Coltrane',\n",
       "  'Wes Anderson',\n",
       "  'David Fincher',\n",
       "  'Ethan Hawke',\n",
       "  'Patricia Arquette',\n",
       "  'Eddie Redmayne'],\n",
       " 'best screenplay - motion picture': ['Alejandro Gonzalez Inarritu',\n",
       "  'Gillian Flynn',\n",
       "  'Kristen Wiig',\n",
       "  'Emma Stone',\n",
       "  'Michael Keaton'],\n",
       " 'best original score - motion picture': ['Hans Zimmer',\n",
       "  'Sienna Miller',\n",
       "  'Vince Vaughn',\n",
       "  'John Legend',\n",
       "  'Emma Stone',\n",
       "  'Alexandre Desplat',\n",
       "  'Kevin Spacey'],\n",
       " 'best performance by an actress in a television series - drama': ['Viola Davis',\n",
       "  'Claire Danes',\n",
       "  'Lana Parrilla',\n",
       "  'Julianna Margulies',\n",
       "  'Robin Wright'],\n",
       " 'best performance by an actor in a television series - drama': ['Kevin Spacey',\n",
       "  'Frank Underwood',\n",
       "  'Clive Owen',\n",
       "  'Liev Schreiber',\n",
       "  'Dominic West',\n",
       "  'James Spader'],\n",
       " 'best performance by an actress in a television series - comedy or musical': ['Gina Rodriguez'],\n",
       " 'best performance by an actor in a television series - comedy or musical': ['Jeffrey Tambor',\n",
       "  'Ricky Gervais'],\n",
       " 'best performance by an actress in a mini-series or motion picture made for television': ['Maggie Gyllenhaal'],\n",
       " 'best performance by an actor in a mini-series or motion picture made for television': ['Billy Bob Thornton',\n",
       "  'Matt Bomer'],\n",
       " 'best performance by an actress in a supporting role in a series, mini-series or motion picture made for television': [],\n",
       " 'best performance by an actor in a supporting role in a series, mini-series or motion picture made for television': ['Matt Bomer']}"
      ]
     },
     "execution_count": 52,
     "metadata": {},
     "output_type": "execute_result"
    }
   ],
   "source": [
    "nominees_dict"
   ]
  },
  {
   "cell_type": "code",
   "execution_count": 46,
   "metadata": {},
   "outputs": [],
   "source": [
    "GG_OFFICIAL_AWARDS = ['Best Motion Picture - Drama','Best Motion Picture - Musical or Comedy','Best Director - Motion Picture',\n",
    "'Best Original Score - Motion Picture','Best Original Song - Motion Picture','Best Foreign Language Film','Best Animated Feature Film','Best Television Series - Drama',\n",
    "'Best Television Series - Comedy Or Musical','Best Screenplay - Motion Picture','Best Performance by an Actor in a Motion Picture - Drama',\n",
    "'Best Performance by an Actress in a Motion Picture - Drama','Best Performance by an Actor In A Supporting Role in a Motion Picture',\n",
    "'Best Performance by an Actress In A Supporting Role in a Motion Picture','Best Performance by an Actor In A Television Series - Drama','Best Performance by an Actress In A Television Series - Drama',\n",
    "'Best Performance by an Actress in a Motion Picture - Comedy Or Musical','Best Performance by an Actor in a Motion Picture - Comedy Or Musical','Best Performance by an Actor In A Television Series - Comedy Or Musical',\n",
    "'Best Performance by an Actress In A Television Series - Comedy Or Musical','Best Performance by an Actress in a Supporting Role in a Series','Best Performance by an Actor in a Supporting Role in a Series',\n",
    "'Best Mini-Series or Motion Picture made for Television','Best Performance by an Actor in a Mini-Series or Motion Picture Made for Television','Best Performance by an Actress In A Mini-Series or Motion Picture Made for Television']"
   ]
  },
  {
   "cell_type": "code",
   "execution_count": 47,
   "metadata": {},
   "outputs": [],
   "source": [
    "def separateAwards(award_list):\n",
    "    possible_people_awards = ['actor',' actress', 'musician', ' singer', 'composer', 'director', 'producer',\n",
    "                        'screenwriter', 'stage technician', 'author']\n",
    "\n",
    "    people_awards = set()\n",
    "    media_awards = set()\n",
    "\n",
    "    for category in award_list:\n",
    "        if any(job in category.lower() for job in possible_people_awards):\n",
    "            people_awards.add(category)\n",
    "        else:\n",
    "            media_awards.add(category)\n",
    "\n",
    "    return people_awards, media_awards"
   ]
  },
  {
   "cell_type": "code",
   "execution_count": 48,
   "metadata": {},
   "outputs": [],
   "source": [
    "# from pprint import pprint\n",
    "\n",
    "def easy_comp(award_list,true_dict,our_dict):\n",
    "        \n",
    "    # Input \n",
    "    # Dict of dictionaries \n",
    "    # Keys - Award Name\n",
    "    # Values - Dictionary with keys (nominees, presenters, winner)\n",
    "    \n",
    "    # Output\n",
    "    # Nested List (some elements are dictionarys)\n",
    "\n",
    "    output = []\n",
    "\n",
    "    for award in award_list:\n",
    "        output.append([award,[\"Guess\",true_dict[award]],[[\"True\",true_dict[award]]]])\n",
    "\n",
    "    \n",
    "    return output\n",
    "\n",
    "# For easy printing use pprint. It works nicely for updated comparison"
   ]
  },
  {
   "cell_type": "code",
   "execution_count": null,
   "metadata": {},
   "outputs": [],
   "source": []
  }
 ],
 "metadata": {
  "kernelspec": {
   "display_name": "Python 3",
   "language": "python",
   "name": "python3"
  },
  "language_info": {
   "codemirror_mode": {
    "name": "ipython",
    "version": 3
   },
   "file_extension": ".py",
   "mimetype": "text/x-python",
   "name": "python",
   "nbconvert_exporter": "python",
   "pygments_lexer": "ipython3",
   "version": "3.7.0"
  }
 },
 "nbformat": 4,
 "nbformat_minor": 2
}
