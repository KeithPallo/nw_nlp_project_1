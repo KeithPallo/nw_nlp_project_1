{
 "cells": [
  {
   "cell_type": "code",
   "execution_count": 3,
   "metadata": {
    "scrolled": true
   },
   "outputs": [],
   "source": [
    "import pandas as pd\n",
    "import numpy as np\n",
    "\n",
    "import nltk\n",
    "from nltk.probability import FreqDist\n",
    "from nltk.tokenize import TweetTokenizer\n",
    "from nltk.tokenize import sent_tokenize\n",
    "from nltk.corpus import stopwords\n",
    "\n",
    "import string\n",
    "import math\n",
    "import re\n",
    "from collections import Counter"
   ]
  },
  {
   "cell_type": "code",
   "execution_count": 13,
   "metadata": {},
   "outputs": [],
   "source": [
    "data = pd.read_json('gg2013.json')"
   ]
  },
  {
   "cell_type": "code",
   "execution_count": 14,
   "metadata": {},
   "outputs": [],
   "source": [
    "data_df = pd.DataFrame(data)"
   ]
  },
  {
   "cell_type": "code",
   "execution_count": 21,
   "metadata": {
    "scrolled": true
   },
   "outputs": [
    {
     "name": "stdout",
     "output_type": "stream",
     "text": [
      "0                JLo's dress! #eredcarpet #GoldenGlobes\n",
      "1     What's making Sofia Vergara's boobs stay like ...\n",
      "2     RT @FabSugar: Kerry Washington is EVERYTHING. ...\n",
      "3        Anne Hathaway has got me living. #GoldenGlobes\n",
      "4     Jennifer Lopez's lace dress? Thoughts? #Golden...\n",
      "5     Podrán criticar a #Adele de su moda y su maniq...\n",
      "6                              US, Weakly #GoldenGlobes\n",
      "7     RT @BillMc7: \"Wait. What's that smell?!\" (ever...\n",
      "8           Hugh Jackman is so awesome!!! #goldenglobes\n",
      "9     It was awkward. RT @hollywoodhwife: They cut t...\n",
      "10                      hellen mirren *O* #goldenglobes\n",
      "11    Jennifer Lopez's dress is jaw droppingly amazi...\n",
      "12    Jessica Alba is absolutely flawless, omg❤ #red...\n",
      "13    Werk @kerrywashington Stunning!!! #GoldenGlobe...\n",
      "14    Sofia Vergara este bueno ella es Sofia Vergara...\n",
      "15    “@amsdiva: Kate Hudson's smile is as infectiou...\n",
      "16    Why did I just flip out? Because one of the be...\n",
      "17    What's up with this I'm wearing lace/a tattoo ...\n",
      "18    Hugh Jackman is looking a bit too bronzed. Ora...\n",
      "19    RT @AudrinaPatridge: @SofiaVergara is my favor...\n",
      "20    Who's that teenage boy standing behind Jessica...\n",
      "21    Poor Al Roker. He is just too easy a target. #...\n",
      "22    #SofiaVergara is gorgeous. Loved her dress.  #...\n",
      "23    mi programa de domingo a la noche va a ser ver...\n",
      "24    RT @Chrishell7: If all these beautiful actress...\n",
      "25    My Baby Leo DiCaprio.aaaaaah estava esperando ...\n",
      "26        Kerry Washington is perfect!!!! #GoldenGlobes\n",
      "27    It should be illegal to look as good as Ewan M...\n",
      "28    .@kerrywashington's nude &amp; sheer = yes. Je...\n",
      "29    Ok the moms are shutting it down tonight! Just...\n",
      "30    When I grow up, I want to be Dame Helen Mirren...\n",
      "31         Miu Miu!! yes @kerrywashington #goldenGlobes\n",
      "32    @CarinesBridal @goldenglobes actually that cor...\n",
      "33    Kerry Washington has been killing it lately! L...\n",
      "34    Natalie Morales is gorgeous, but don't like th...\n",
      "35    They are ruining the red carpet...“@PaulaEdgar...\n",
      "36    Kerry Washington looks fabulous!! #ERedCarpet ...\n",
      "37    Black dresses with Plunging v necklines and hi...\n",
      "38    I'm seeing alot of black in the red carpet ton...\n",
      "39            @goldenglobes Saw George Clooney..:-) :-)\n",
      "40    J.Lo needs to stop! #fashionmess #GoldenGlobes...\n",
      "41    Julianna Rancic standing next to short men, Ry...\n",
      "42    RT @Forever21: Oh, Adele. Takes our #heart eve...\n",
      "43            Um... mani cam? That's new. #GoldenGlobes\n",
      "44    RT @CondensadorFL: Llega el futuro ganador del...\n",
      "45    Kerry Washington is totally showing J.Lo how y...\n",
      "46    @whitbyfoodie Yay another Hamm fan. #goldenglo...\n",
      "47    Seacrest asked what Ben Affleck's kids wrote o...\n",
      "48    Definetely Kate's top designers are present in...\n",
      "49    RT @Loki_Page: #GoldenGlobes Times! We wish go...\n",
      "Name: text, dtype: object\n"
     ]
    }
   ],
   "source": [
    "print(data['text'].head(50))"
   ]
  }
 ],
 "metadata": {
  "kernelspec": {
   "display_name": "Python 3",
   "language": "python",
   "name": "python3"
  },
  "language_info": {
   "codemirror_mode": {
    "name": "ipython",
    "version": 3
   },
   "file_extension": ".py",
   "mimetype": "text/x-python",
   "name": "python",
   "nbconvert_exporter": "python",
   "pygments_lexer": "ipython3",
   "version": "3.7.0"
  }
 },
 "nbformat": 4,
 "nbformat_minor": 2
}
