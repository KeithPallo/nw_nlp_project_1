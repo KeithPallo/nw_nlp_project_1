{
 "cells": [
  {
   "cell_type": "code",
   "execution_count": 6,
   "metadata": {},
   "outputs": [],
   "source": [
    "import numpy as np\n",
    "import pandas as pd\n",
    "\n",
    "import matplotlib.pyplot as plt"
   ]
  },
  {
   "cell_type": "code",
   "execution_count": 7,
   "metadata": {},
   "outputs": [],
   "source": [
    "import nltk\n",
    "from nltk.collocations import *\n",
    "from nltk.tokenize import word_tokenize\n",
    "from nltk.corpus import stopwords"
   ]
  },
  {
   "cell_type": "code",
   "execution_count": 8,
   "metadata": {},
   "outputs": [],
   "source": [
    "data_2015 = pd.read_json(\"../gg2015.json\")"
   ]
  },
  {
   "cell_type": "code",
   "execution_count": 9,
   "metadata": {},
   "outputs": [],
   "source": [
    "df_2015 = pd.DataFrame(data_2015)"
   ]
  },
  {
   "cell_type": "code",
   "execution_count": 10,
   "metadata": {},
   "outputs": [
    {
     "data": {
      "text/plain": [
       "array(['id', 'text', 'timestamp_ms', 'user'], dtype=object)"
      ]
     },
     "execution_count": 10,
     "metadata": {},
     "output_type": "execute_result"
    }
   ],
   "source": [
    "df_2015.columns.values"
   ]
  },
  {
   "cell_type": "code",
   "execution_count": 12,
   "metadata": {},
   "outputs": [
    {
     "data": {
      "text/plain": [
       "0          554402424728072192\n",
       "1          554403686428864513\n",
       "2          554403686617985024\n",
       "3          554403686865440769\n",
       "4          554403687448469504\n",
       "5          554403687947571200\n",
       "6          554403688035667968\n",
       "7          554403688425746433\n",
       "8          554403689126170624\n",
       "9          554403690300604417\n",
       "10         554403690878996480\n",
       "11         554403690941927427\n",
       "12         554403690950320128\n",
       "13         554403691458224129\n",
       "14         554403691567276032\n",
       "15         554403691688914944\n",
       "16         554403693706358786\n",
       "17         554403693756690432\n",
       "18         554403694075076608\n",
       "19         554403695006580736\n",
       "20         554403696076161025\n",
       "21         554403698374631425\n",
       "22         554403698655649793\n",
       "23         554403699309568001\n",
       "24         554403699351904256\n",
       "25         554403699779715074\n",
       "26         554403699981025282\n",
       "27         554403700228493312\n",
       "28         554403700236496897\n",
       "29         554403700287213569\n",
       "                  ...        \n",
       "1754123    554547394533425153\n",
       "1754124    554547394604310528\n",
       "1754125    554547395573604352\n",
       "1754126    554547396055560192\n",
       "1754127    554547396102078465\n",
       "1754128    554547397674958848\n",
       "1754129    554547398790615040\n",
       "1754130    554547399608135681\n",
       "1754131    554547400254431233\n",
       "1754132    554547400577388546\n",
       "1754133    554547400720003072\n",
       "1754134    554547400778731520\n",
       "1754135    554547402309652480\n",
       "1754136    554547403412738048\n",
       "1754137    554547403617882113\n",
       "1754138    554547403672797184\n",
       "1754139    554547403978600448\n",
       "1754140    554547404746555393\n",
       "1754141    554547404997795840\n",
       "1754142    554547405170151425\n",
       "1754143    554547405673095168\n",
       "1754144    554547406256103424\n",
       "1754145    554547407187218432\n",
       "1754146    554547407292084226\n",
       "1754147    554547407422119936\n",
       "1754148    554547407459844097\n",
       "1754149    554547407828946944\n",
       "1754150    554547408256774145\n",
       "1754151    554547408496246785\n",
       "1754152    554547408600707072\n",
       "Name: id, Length: 1754153, dtype: int64"
      ]
     },
     "execution_count": 12,
     "metadata": {},
     "output_type": "execute_result"
    }
   ],
   "source": []
  },
  {
   "cell_type": "code",
   "execution_count": null,
   "metadata": {},
   "outputs": [],
   "source": []
  }
 ],
 "metadata": {
  "kernelspec": {
   "display_name": "Python 3",
   "language": "python",
   "name": "python3"
  },
  "language_info": {
   "codemirror_mode": {
    "name": "ipython",
    "version": 3
   },
   "file_extension": ".py",
   "mimetype": "text/x-python",
   "name": "python",
   "nbconvert_exporter": "python",
   "pygments_lexer": "ipython3",
   "version": "3.6.8"
  }
 },
 "nbformat": 4,
 "nbformat_minor": 2
}
