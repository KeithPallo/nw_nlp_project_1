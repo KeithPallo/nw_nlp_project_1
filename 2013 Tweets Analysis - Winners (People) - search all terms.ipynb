{
 "cells": [
  {
   "cell_type": "code",
<<<<<<< HEAD
   "execution_count": 25,
=======
   "execution_count": 1,
>>>>>>> aafa90b04fdcf9a623ce4691f4cac0d1a362a636
   "metadata": {},
   "outputs": [],
   "source": [
    "import pandas as pd\n",
    "import numpy as np\n",
    "\n",
    "import nltk\n",
    "from nltk.probability import FreqDist\n",
    "from nltk.tokenize import TweetTokenizer\n",
    "from nltk.corpus import stopwords\n",
    "from stop_words import get_stop_words\n",
    "\n",
    "import string\n",
    "import re\n",
    "from collections import Counter"
   ]
  },
  {
   "cell_type": "code",
<<<<<<< HEAD
   "execution_count": 11,
=======
   "execution_count": 2,
>>>>>>> aafa90b04fdcf9a623ce4691f4cac0d1a362a636
   "metadata": {},
   "outputs": [],
   "source": [
    "data = pd.read_json('gg2013.json')\n",
    "data = pd.DataFrame(data)"
   ]
  },
  {
   "cell_type": "code",
<<<<<<< HEAD
   "execution_count": 12,
=======
   "execution_count": 3,
>>>>>>> aafa90b04fdcf9a623ce4691f4cac0d1a362a636
   "metadata": {},
   "outputs": [],
   "source": [
    "data = data['text'].values.tolist()"
   ]
  },
  {
   "cell_type": "code",
<<<<<<< HEAD
   "execution_count": 5,
=======
   "execution_count": 4,
>>>>>>> aafa90b04fdcf9a623ce4691f4cac0d1a362a636
   "metadata": {},
   "outputs": [],
   "source": [
    "#print(data[:10])"
   ]
  },
  {
   "cell_type": "code",
<<<<<<< HEAD
   "execution_count": 23,
=======
   "execution_count": 5,
>>>>>>> aafa90b04fdcf9a623ce4691f4cac0d1a362a636
   "metadata": {},
   "outputs": [],
   "source": [
    "f = open('english.txt', 'r')\n",
<<<<<<< HEAD
    "stop_words = f.read().splitlines()\n",
=======
    "stopwords = f.read().splitlines()\n",
>>>>>>> aafa90b04fdcf9a623ce4691f4cac0d1a362a636
    "#print(stopwords)"
   ]
  },
  {
   "cell_type": "code",
<<<<<<< HEAD
   "execution_count": 14,
=======
   "execution_count": 7,
>>>>>>> aafa90b04fdcf9a623ce4691f4cac0d1a362a636
   "metadata": {},
   "outputs": [],
   "source": [
    "OFFICIAL_AWARDS_1315 = ['cecil b. demille award', \n",
    "                        'best motion picture - drama', \n",
    "                        'best performance by an actress in a motion picture - drama', \n",
    "                        'best performance by an actor in a motion picture - drama', \n",
    "                        'best motion picture - comedy or musical', \n",
    "                        'best performance by an actress in a motion picture - comedy or musical', \n",
    "                        'best performance by an actor in a motion picture - comedy or musical', \n",
    "                        'best animated feature film', 'best foreign language film', \n",
    "                        'best performance by an actress in a supporting role in a motion picture', \n",
    "                        'best performance by an actor in a supporting role in a motion picture', \n",
    "                        'best director - motion picture', 'best screenplay - motion picture', \n",
    "                        'best original score - motion picture', 'best original song - motion picture', \n",
    "                        'best television series - drama', \n",
    "                        'best performance by an actress in a television series - drama', \n",
    "                        'best performance by an actor in a television series - drama', \n",
    "                        'best television series - comedy or musical', \n",
    "                        'best performance by an actress in a television series - comedy or musical', \n",
    "                        'best performance by an actor in a television series - comedy or musical', \n",
    "                        'best mini-series or motion picture made for television', \n",
    "                        'best performance by an actress in a mini-series or motion picture made for television', \n",
    "                        'best performance by an actor in a mini-series or motion picture made for television', \n",
    "                        'best performance by an actress in a supporting role in a series, mini-series or motion picture made for television', \n",
    "                        'best performance by an actor in a supporting role in a series, mini-series or motion picture made for television']"
   ]
  },
  {
   "cell_type": "code",
<<<<<<< HEAD
   "execution_count": 15,
=======
   "execution_count": 8,
>>>>>>> aafa90b04fdcf9a623ce4691f4cac0d1a362a636
   "metadata": {},
   "outputs": [],
   "source": [
    "def parseAward(award):\n",
    "    award = re.split('\\W+', award)\n",
    "    award = [i for i in award if i not in stopwords]\n",
    "    return award"
   ]
  },
  {
   "cell_type": "code",
<<<<<<< HEAD
   "execution_count": 16,
=======
   "execution_count": 9,
>>>>>>> aafa90b04fdcf9a623ce4691f4cac0d1a362a636
   "metadata": {},
   "outputs": [],
   "source": [
    "categories_dict = dict()\n",
    "terms_counter = Counter()\n",
    "for a in OFFICIAL_AWARDS_1315:\n",
    "    terms = parseAward(a)\n",
    "    for t in terms:\n",
    "        terms_counter[t] += 1\n",
    "    categories_dict[a] = terms"
   ]
  },
  {
   "cell_type": "code",
   "execution_count": 10,
   "metadata": {
    "scrolled": true
   },
   "outputs": [
    {
     "data": {
      "text/plain": [
       "{'cecil b. demille award': ['cecil', 'demille', 'award'],\n",
       " 'best motion picture - drama': ['motion', 'picture', 'drama'],\n",
       " 'best performance by an actress in a motion picture - drama': ['performance',\n",
       "  'actress',\n",
       "  'motion',\n",
       "  'picture',\n",
       "  'drama'],\n",
       " 'best performance by an actor in a motion picture - drama': ['performance',\n",
       "  'actor',\n",
       "  'motion',\n",
       "  'picture',\n",
       "  'drama'],\n",
       " 'best motion picture - comedy or musical': ['motion',\n",
       "  'picture',\n",
       "  'comedy',\n",
       "  'musical'],\n",
       " 'best performance by an actress in a motion picture - comedy or musical': ['performance',\n",
       "  'actress',\n",
       "  'motion',\n",
       "  'picture',\n",
       "  'comedy',\n",
       "  'musical'],\n",
       " 'best performance by an actor in a motion picture - comedy or musical': ['performance',\n",
       "  'actor',\n",
       "  'motion',\n",
       "  'picture',\n",
       "  'comedy',\n",
       "  'musical'],\n",
       " 'best animated feature film': ['animated', 'feature', 'film'],\n",
       " 'best foreign language film': ['foreign', 'language', 'film'],\n",
       " 'best performance by an actress in a supporting role in a motion picture': ['performance',\n",
       "  'actress',\n",
       "  'supporting',\n",
       "  'role',\n",
       "  'motion',\n",
       "  'picture'],\n",
       " 'best performance by an actor in a supporting role in a motion picture': ['performance',\n",
       "  'actor',\n",
       "  'supporting',\n",
       "  'role',\n",
       "  'motion',\n",
       "  'picture'],\n",
       " 'best director - motion picture': ['director', 'motion', 'picture'],\n",
       " 'best screenplay - motion picture': ['screenplay', 'motion', 'picture'],\n",
       " 'best original score - motion picture': ['original',\n",
       "  'score',\n",
       "  'motion',\n",
       "  'picture'],\n",
       " 'best original song - motion picture': ['original',\n",
       "  'song',\n",
       "  'motion',\n",
       "  'picture'],\n",
       " 'best television series - drama': ['television', 'series', 'drama'],\n",
       " 'best performance by an actress in a television series - drama': ['performance',\n",
       "  'actress',\n",
       "  'television',\n",
       "  'series',\n",
       "  'drama'],\n",
       " 'best performance by an actor in a television series - drama': ['performance',\n",
       "  'actor',\n",
       "  'television',\n",
       "  'series',\n",
       "  'drama'],\n",
       " 'best television series - comedy or musical': ['television',\n",
       "  'series',\n",
       "  'comedy',\n",
       "  'musical'],\n",
       " 'best performance by an actress in a television series - comedy or musical': ['performance',\n",
       "  'actress',\n",
       "  'television',\n",
       "  'series',\n",
       "  'comedy',\n",
       "  'musical'],\n",
       " 'best performance by an actor in a television series - comedy or musical': ['performance',\n",
       "  'actor',\n",
       "  'television',\n",
       "  'series',\n",
       "  'comedy',\n",
       "  'musical'],\n",
       " 'best mini-series or motion picture made for television': ['mini',\n",
       "  'series',\n",
       "  'motion',\n",
       "  'picture',\n",
       "  'television'],\n",
       " 'best performance by an actress in a mini-series or motion picture made for television': ['performance',\n",
       "  'actress',\n",
       "  'mini',\n",
       "  'series',\n",
       "  'motion',\n",
       "  'picture',\n",
       "  'television'],\n",
       " 'best performance by an actor in a mini-series or motion picture made for television': ['performance',\n",
       "  'actor',\n",
       "  'mini',\n",
       "  'series',\n",
       "  'motion',\n",
       "  'picture',\n",
       "  'television'],\n",
       " 'best performance by an actress in a supporting role in a series, mini-series or motion picture made for television': ['performance',\n",
       "  'actress',\n",
       "  'supporting',\n",
       "  'role',\n",
       "  'series',\n",
       "  'mini',\n",
       "  'series',\n",
       "  'motion',\n",
       "  'picture',\n",
       "  'television'],\n",
       " 'best performance by an actor in a supporting role in a series, mini-series or motion picture made for television': ['performance',\n",
       "  'actor',\n",
       "  'supporting',\n",
       "  'role',\n",
       "  'series',\n",
       "  'mini',\n",
       "  'series',\n",
       "  'motion',\n",
       "  'picture',\n",
       "  'television']}"
      ]
     },
     "execution_count": 10,
     "metadata": {},
     "output_type": "execute_result"
    }
   ],
   "source": [
    "categories_dict"
   ]
  },
  {
   "cell_type": "code",
<<<<<<< HEAD
   "execution_count": 17,
=======
   "execution_count": 11,
>>>>>>> aafa90b04fdcf9a623ce4691f4cac0d1a362a636
   "metadata": {},
   "outputs": [],
   "source": [
    "def filter0(data, list1):\n",
    "    result = []\n",
    "\n",
    "    for tweet in data:\n",
    "        if all(term in tweet.lower() for term in list1):\n",
    "            result.append(tweet)\n",
    "\n",
    "    return result"
   ]
  },
  {
   "cell_type": "code",
<<<<<<< HEAD
   "execution_count": 27,
=======
   "execution_count": 22,
>>>>>>> aafa90b04fdcf9a623ce4691f4cac0d1a362a636
   "metadata": {
    "scrolled": true
   },
   "outputs": [],
   "source": [
    "def extractWinner(data, list1):\n",
    "    #print(data[0])\n",
    "    result = []\n",
    "    \n",
    "    tt = TweetTokenizer(strip_handles=True, reduce_len=True, preserve_case=True)\n",
    "    translator = str.maketrans('', '', string.punctuation)\n",
    "\n",
    "    # strip stopwords, punctuation \n",
    "    #punctuation = list(string.punctuation)\n",
    "    remove_terms = ['#goldenglobes', 'golden globes', '#goldenglobe', 'golden globe', 'goldenglobes', 'goldenglobe', 'rt', 'golden', 'globe', 'globes']    \n",
    "    stop = remove_terms + list1\n",
    "    \n",
    "    for tweet in data:\n",
    "        #print(tweet)\n",
    "        tweet = re.sub(\"\\d+\", \"\", tweet) #strip nums\n",
    "        tweet = re.sub(r'http\\S+', '', tweet) #strip urls\n",
    "        tweet = re.sub(r'#\\S+', '', tweet) #strip hashtags\n",
    "        #tweet = re.sub(r'[^\\w\\s]', '', tweet) #strip non-alphanumeric characters\n",
<<<<<<< HEAD
    "        tweet = tweet.translate(translator)\n",
    "        tweet = tweet.split() #tokenize\n",
    "        #tweet = [term for term in tweet if term.lower() not in stopwords.words('english')] #remove any terms in stopwords\n",
    "        for i in stop:\n",
    "            for j in tweet:\n",
    "                if i in j.lower():\n",
    "                    tweet.remove(j)\n",
=======
    "        #tweet = tweet.translate(translator)\n",
    "        tweet = tweet.split() #tokenize\n",
    "        tweet = [term for term in tweet if term.lower() not in stop] #remove stop words\n",
>>>>>>> aafa90b04fdcf9a623ce4691f4cac0d1a362a636
    "        result.append(tweet)\n",
    "        \n",
    "    #print(result[:20])\n",
    "        \n",
    "    bgrams = [];\n",
    "\n",
    "    for tweet in result:\n",
    "        if tweet:\n",
    "            bigram = list(nltk.bigrams(tweet))\n",
    "            #print(bigram[:10])\n",
    "            for bg in bigram:\n",
    "                if bool(re.match('([A-Z][a-z]+)', bg[0])) and bool(re.match('([A-Z][a-z]+)', bg[1])):\n",
    "                    #print(bg[0], bg[1])\n",
    "                    bgrams.append(bg)\n",
    "            #tweet = re.findall('([A-Z][a-z]+)', tweet)\n",
    "            #if tweet:\n",
    "                #bgrams += list(nltk.bigrams(tweet))\n",
    "  \n",
    "    fdist = nltk.FreqDist(bgrams)\n",
    "    #print(fdist)\n",
    "    \n",
    "    try:\n",
    "        temp = fdist.most_common(1)[0][0]\n",
    "        name = ' '.join(temp)\n",
    "    except:\n",
    "        name = \"nothing here\"\n",
    "    \n",
    "    return name"
   ]
  },
  {
   "cell_type": "code",
<<<<<<< HEAD
   "execution_count": 19,
=======
   "execution_count": 15,
>>>>>>> aafa90b04fdcf9a623ce4691f4cac0d1a362a636
   "metadata": {},
   "outputs": [],
   "source": [
    "def getActorWinnersUpdated():\n",
    "    c1 = filter0(data, categories_dict['cecil b. demille award']) \n",
    "    c2 = filter0(data, categories_dict['best performance by an actress in a motion picture - drama'])  \n",
    "    c3 = filter0(data, categories_dict['best performance by an actor in a motion picture - drama'])  \n",
    "    c4 = filter0(data, categories_dict['best performance by an actress in a motion picture - comedy or musical'])  \n",
    "    c5 = filter0(data, categories_dict['best performance by an actor in a motion picture - comedy or musical'])  \n",
    "    c6 = filter0(data, categories_dict['best performance by an actress in a supporting role in a motion picture'])  \n",
    "    c7 = filter0(data, categories_dict['best performance by an actor in a supporting role in a motion picture'])  \n",
    "    c8 = filter0(data, categories_dict['best director - motion picture']) \n",
    "    c9 = filter0(data, categories_dict['best screenplay - motion picture'])  \n",
    "    c10 = filter0(data, categories_dict['best original score - motion picture']) \n",
    "    c11 = filter0(data, categories_dict['best performance by an actress in a television series - drama'])  \n",
    "    c12 = filter0(data, categories_dict['best performance by an actor in a television series - drama']) \n",
    "    c13 = filter0(data, categories_dict['best performance by an actress in a television series - comedy or musical'])  \n",
    "    c14 = filter0(data, categories_dict['best performance by an actor in a television series - comedy or musical'])  \n",
    "    c15 = filter0(data, categories_dict['best performance by an actress in a mini-series or motion picture made for television'])  \n",
    "    c16 = filter0(data, categories_dict['best performance by an actor in a mini-series or motion picture made for television'])  \n",
    "    c17 = filter0(data, categories_dict['best performance by an actress in a supporting role in a series, mini-series or motion picture made for television'])  \n",
    "    c18 = filter0(data, categories_dict['best performance by an actor in a supporting role in a series, mini-series or motion picture made for television']) \n",
    "\n",
    "    winners = {\n",
    "        'cecil b. demille award' : extractWinner(c1, categories_dict['cecil b. demille award']),\n",
    "        'best performance by an actress in a motion picture - drama' : extractWinner(c2, categories_dict['best performance by an actress in a motion picture - drama']),\n",
    "        'best performance by an actor in a motion picture - drama' : extractWinner(c3, categories_dict['best performance by an actor in a motion picture - drama']),  \n",
    "        'best performance by an actress in a motion picture - comedy or musical' : extractWinner(c4, categories_dict['best performance by an actress in a motion picture - comedy or musical']), \n",
    "        'best performance by an actor in a motion picture - comedy or musical' : extractWinner(c5, categories_dict['best performance by an actor in a motion picture - comedy or musical']), \n",
    "        'best performance by an actress in a supporting role in a motion picture' : extractWinner(c6, categories_dict['best performance by an actress in a supporting role in a motion picture']), \n",
    "        'best performance by an actor in a supporting role in a motion picture' : extractWinner(c7, categories_dict['best performance by an actor in a supporting role in a motion picture']), \n",
    "        'best director - motion picture' : extractWinner(c8, categories_dict['best director - motion picture']),\n",
    "        'best screenplay - motion picture' : extractWinner(c9, categories_dict['best screenplay - motion picture']), \n",
    "        'best original score - motion picture' : extractWinner(c10, categories_dict['best original score - motion picture']),\n",
    "        'best performance by an actress in a television series - drama' : extractWinner(c11, categories_dict['best performance by an actress in a television series - drama']), \n",
    "        'best performance by an actor in a television series - drama' : extractWinner(c12, categories_dict['best performance by an actor in a television series - drama']), \n",
    "        'best performance by an actress in a television series - comedy or musical' : extractWinner(c13, categories_dict['best performance by an actress in a television series - comedy or musical']), \n",
    "        'best performance by an actor in a television series - comedy or musical' : extractWinner(c14, categories_dict['best performance by an actor in a television series - comedy or musical']), \n",
    "        'best performance by an actress in a mini-series or motion picture made for television' : extractWinner(c15, categories_dict['best performance by an actress in a mini-series or motion picture made for television']), \n",
    "        'best performance by an actor in a mini-series or motion picture made for television' : extractWinner(c16, categories_dict['best performance by an actor in a mini-series or motion picture made for television']), \n",
    "        'best performance by an actress in a supporting role in a series, mini-series or motion picture made for television' : extractWinner(c17, categories_dict['best performance by an actress in a supporting role in a series, mini-series or motion picture made for television']), \n",
    "        'best performance by an actor in a supporting role in a series, mini-series or motion picture made for television' : extractWinner(c18, categories_dict['best performance by an actor in a supporting role in a series, mini-series or motion picture made for television'])    \n",
    "    }\n",
    "    \n",
    "    return winners\n"
   ]
  },
  {
   "cell_type": "code",
<<<<<<< HEAD
   "execution_count": 14,
=======
   "execution_count": 19,
>>>>>>> aafa90b04fdcf9a623ce4691f4cac0d1a362a636
   "metadata": {},
   "outputs": [
    {
     "name": "stdout",
     "output_type": "stream",
     "text": [
<<<<<<< HEAD
      "3.93989830000001\n"
=======
      "3.8677640530000303\n"
>>>>>>> aafa90b04fdcf9a623ce4691f4cac0d1a362a636
     ]
    }
   ],
   "source": [
    "import timeit\n",
    "start_time = timeit.default_timer()\n",
    "getActorWinnersUpdated()\n",
    "elapsed = timeit.default_timer() - start_time\n",
    "print(elapsed)"
   ]
  },
  {
   "cell_type": "code",
<<<<<<< HEAD
   "execution_count": 28,
   "metadata": {
    "scrolled": false
   },
=======
   "execution_count": 23,
   "metadata": {},
>>>>>>> aafa90b04fdcf9a623ce4691f4cac0d1a362a636
   "outputs": [
    {
     "data": {
      "text/plain": [
       "{'cecil b. demille award': 'Jodie Foster',\n",
       " 'best performance by an actress in a motion picture - drama': 'Jessica Chastain',\n",
<<<<<<< HEAD
       " 'best performance by an actor in a motion picture - drama': 'Daniel DayLewis',\n",
       " 'best performance by an actress in a motion picture - comedy or musical': 'Silver Linings',\n",
=======
       " 'best performance by an actor in a motion picture - drama': 'Daniel Day-Lewis',\n",
       " 'best performance by an actress in a motion picture - comedy or musical': 'Jennifer Lawrence',\n",
>>>>>>> aafa90b04fdcf9a623ce4691f4cac0d1a362a636
       " 'best performance by an actor in a motion picture - comedy or musical': 'Hugh Jackman',\n",
       " 'best performance by an actress in a supporting role in a motion picture': 'Anne Hathaway',\n",
       " 'best performance by an actor in a supporting role in a motion picture': 'Christoph Waltz',\n",
       " 'best director - motion picture': 'Ben Affleck',\n",
       " 'best screenplay - motion picture': 'Quentin Tarantino',\n",
       " 'best original score - motion picture': 'Mychael Danna',\n",
       " 'best performance by an actress in a television series - drama': 'Claire Danes',\n",
       " 'best performance by an actor in a television series - drama': 'Damian Lewis',\n",
       " 'best performance by an actress in a television series - comedy or musical': 'nothing here',\n",
       " 'best performance by an actor in a television series - comedy or musical': 'Don Cheadle',\n",
       " 'best performance by an actress in a mini-series or motion picture made for television': 'Maggie Smith',\n",
<<<<<<< HEAD
       " 'best performance by an actor in a mini-series or motion picture made for television': 'Kevin Costner',\n",
=======
       " 'best performance by an actor in a mini-series or motion picture made for television': 'Kevin Costner,',\n",
>>>>>>> aafa90b04fdcf9a623ce4691f4cac0d1a362a636
       " 'best performance by an actress in a supporting role in a series, mini-series or motion picture made for television': 'Maggie Smith',\n",
       " 'best performance by an actor in a supporting role in a series, mini-series or motion picture made for television': 'nothing here'}"
      ]
     },
<<<<<<< HEAD
     "execution_count": 28,
=======
     "execution_count": 23,
>>>>>>> aafa90b04fdcf9a623ce4691f4cac0d1a362a636
     "metadata": {},
     "output_type": "execute_result"
    }
   ],
   "source": [
    "getActorWinnersUpdated()"
   ]
  }
 ],
 "metadata": {
  "kernelspec": {
   "display_name": "Python 3",
   "language": "python",
   "name": "python3"
  },
  "language_info": {
   "codemirror_mode": {
    "name": "ipython",
    "version": 3
   },
   "file_extension": ".py",
   "mimetype": "text/x-python",
   "name": "python",
   "nbconvert_exporter": "python",
   "pygments_lexer": "ipython3",
   "version": "3.7.0"
  }
 },
 "nbformat": 4,
 "nbformat_minor": 2
}
